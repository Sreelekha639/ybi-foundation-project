{
  "cells": [
    {
      "cell_type": "markdown",
      "id": "7554370a-6fe9-4ca2-9917-7fd0a01d02fc",
      "metadata": {
        "id": "7554370a-6fe9-4ca2-9917-7fd0a01d02fc"
      },
      "source": [
        "# Movie Recommender System\n",
        "\n",
        "----\n",
        "\n",
        "## Objective\n",
        "This project builds a movie recommendation system that suggests top 10 and top 30 movies based on the favourite movie entered by the user.\n",
        "\n",
        "## Data Source\n",
        "\n",
        "This project is made by following a [youtube tutorial](https://www.youtube.com/watch?v=nj5SDiaIJno&list=PLl3P-U08Zvwll_bzhyp-QPFO7CewOIGi2&index=7):\n",
        "\n",
        "The data in this project is taken from ![YBI Foundation - Movie Recommendations](https://github.com/YBIFoundation/Dataset/raw/main/Movies%20Recommendation.csv)\n",
        "\n"
      ]
    },
    {
      "cell_type": "markdown",
      "id": "6587c9ef-7a23-4c89-a805-2a3db1b98988",
      "metadata": {
        "id": "6587c9ef-7a23-4c89-a805-2a3db1b98988"
      },
      "source": [
        "## Import Library"
      ]
    },
    {
      "cell_type": "code",
      "execution_count": null,
      "id": "2d5b7c86-f67c-456a-99d5-32e1e1f6f532",
      "metadata": {
        "id": "2d5b7c86-f67c-456a-99d5-32e1e1f6f532"
      },
      "outputs": [],
      "source": [
        "import pandas as pd\n",
        "import numpy as np"
      ]
    },
    {
      "cell_type": "markdown",
      "id": "c03b301b-e60c-41cb-ade7-ae5f5b0d17e0",
      "metadata": {
        "id": "c03b301b-e60c-41cb-ade7-ae5f5b0d17e0"
      },
      "source": [
        "## Import Data"
      ]
    },
    {
      "cell_type": "code",
      "execution_count": null,
      "id": "0ccf8523-2f10-4a24-b4f7-6fc341cc9557",
      "metadata": {
        "id": "0ccf8523-2f10-4a24-b4f7-6fc341cc9557"
      },
      "outputs": [],
      "source": [
        "df = pd.read_csv(\"https://github.com/YBIFoundation/Dataset/raw/main/Movies%20Recommendation.csv\")"
      ]
    },
    {
      "cell_type": "markdown",
      "id": "0e943a01-e511-46b8-9a44-b95c07b08940",
      "metadata": {
        "id": "0e943a01-e511-46b8-9a44-b95c07b08940"
      },
      "source": [
        "## Describe Data"
      ]
    },
    {
      "cell_type": "code",
      "execution_count": null,
      "id": "a0d4f249-7754-42a2-a37d-4f5b5f62a5c6",
      "metadata": {
        "id": "a0d4f249-7754-42a2-a37d-4f5b5f62a5c6",
        "outputId": "51bd39ca-e4bb-4768-efde-16006baaec1a"
      },
      "outputs": [
        {
          "name": "stdout",
          "output_type": "stream",
          "text": [
            "<class 'pandas.core.frame.DataFrame'>\n",
            "RangeIndex: 4760 entries, 0 to 4759\n",
            "Data columns (total 21 columns):\n",
            " #   Column                    Non-Null Count  Dtype  \n",
            "---  ------                    --------------  -----  \n",
            " 0   Movie_ID                  4760 non-null   int64  \n",
            " 1   Movie_Title               4760 non-null   object \n",
            " 2   Movie_Genre               4760 non-null   object \n",
            " 3   Movie_Language            4760 non-null   object \n",
            " 4   Movie_Budget              4760 non-null   int64  \n",
            " 5   Movie_Popularity          4760 non-null   float64\n",
            " 6   Movie_Release_Date        4760 non-null   object \n",
            " 7   Movie_Revenue             4760 non-null   int64  \n",
            " 8   Movie_Runtime             4758 non-null   float64\n",
            " 9   Movie_Vote                4760 non-null   float64\n",
            " 10  Movie_Vote_Count          4760 non-null   int64  \n",
            " 11  Movie_Homepage            1699 non-null   object \n",
            " 12  Movie_Keywords            4373 non-null   object \n",
            " 13  Movie_Overview            4757 non-null   object \n",
            " 14  Movie_Production_House    4760 non-null   object \n",
            " 15  Movie_Production_Country  4760 non-null   object \n",
            " 16  Movie_Spoken_Language     4760 non-null   object \n",
            " 17  Movie_Tagline             3942 non-null   object \n",
            " 18  Movie_Cast                4733 non-null   object \n",
            " 19  Movie_Crew                4760 non-null   object \n",
            " 20  Movie_Director            4738 non-null   object \n",
            "dtypes: float64(3), int64(4), object(14)\n",
            "memory usage: 781.1+ KB\n"
          ]
        }
      ],
      "source": [
        "df.info()"
      ]
    },
    {
      "cell_type": "markdown",
      "id": "cc95c962-a12b-48a1-ad6e-abf097cc18ab",
      "metadata": {
        "id": "cc95c962-a12b-48a1-ad6e-abf097cc18ab"
      },
      "source": [
        "## Data Visualisation"
      ]
    },
    {
      "cell_type": "code",
      "execution_count": null,
      "id": "2f7b75d6-6086-4bc1-9ee2-b4bf98a1b637",
      "metadata": {
        "id": "2f7b75d6-6086-4bc1-9ee2-b4bf98a1b637",
        "outputId": "cd3da7c9-bfc3-47cf-e59b-d438036baf70"
      },
      "outputs": [
        {
          "data": {
            "text/html": [
              "<div>\n",
              "<style scoped>\n",
              "    .dataframe tbody tr th:only-of-type {\n",
              "        vertical-align: middle;\n",
              "    }\n",
              "\n",
              "    .dataframe tbody tr th {\n",
              "        vertical-align: top;\n",
              "    }\n",
              "\n",
              "    .dataframe thead th {\n",
              "        text-align: right;\n",
              "    }\n",
              "</style>\n",
              "<table border=\"1\" class=\"dataframe\">\n",
              "  <thead>\n",
              "    <tr style=\"text-align: right;\">\n",
              "      <th></th>\n",
              "      <th>Movie_ID</th>\n",
              "      <th>Movie_Title</th>\n",
              "      <th>Movie_Genre</th>\n",
              "      <th>Movie_Language</th>\n",
              "      <th>Movie_Budget</th>\n",
              "      <th>Movie_Popularity</th>\n",
              "      <th>Movie_Release_Date</th>\n",
              "      <th>Movie_Revenue</th>\n",
              "      <th>Movie_Runtime</th>\n",
              "      <th>Movie_Vote</th>\n",
              "      <th>...</th>\n",
              "      <th>Movie_Homepage</th>\n",
              "      <th>Movie_Keywords</th>\n",
              "      <th>Movie_Overview</th>\n",
              "      <th>Movie_Production_House</th>\n",
              "      <th>Movie_Production_Country</th>\n",
              "      <th>Movie_Spoken_Language</th>\n",
              "      <th>Movie_Tagline</th>\n",
              "      <th>Movie_Cast</th>\n",
              "      <th>Movie_Crew</th>\n",
              "      <th>Movie_Director</th>\n",
              "    </tr>\n",
              "  </thead>\n",
              "  <tbody>\n",
              "    <tr>\n",
              "      <th>0</th>\n",
              "      <td>1</td>\n",
              "      <td>Four Rooms</td>\n",
              "      <td>Crime Comedy</td>\n",
              "      <td>en</td>\n",
              "      <td>4000000</td>\n",
              "      <td>22.876230</td>\n",
              "      <td>09-12-1995</td>\n",
              "      <td>4300000</td>\n",
              "      <td>98.0</td>\n",
              "      <td>6.5</td>\n",
              "      <td>...</td>\n",
              "      <td>NaN</td>\n",
              "      <td>hotel new year's eve witch bet hotel room</td>\n",
              "      <td>It's Ted the Bellhop's first night on the job....</td>\n",
              "      <td>[{\"name\": \"Miramax Films\", \"id\": 14}, {\"name\":...</td>\n",
              "      <td>[{\"iso_3166_1\": \"US\", \"name\": \"United States o...</td>\n",
              "      <td>[{\"iso_639_1\": \"en\", \"name\": \"English\"}]</td>\n",
              "      <td>Twelve outrageous guests. Four scandalous requ...</td>\n",
              "      <td>Tim Roth Antonio Banderas Jennifer Beals Madon...</td>\n",
              "      <td>[{'name': 'Allison Anders', 'gender': 1, 'depa...</td>\n",
              "      <td>Allison Anders</td>\n",
              "    </tr>\n",
              "    <tr>\n",
              "      <th>1</th>\n",
              "      <td>2</td>\n",
              "      <td>Star Wars</td>\n",
              "      <td>Adventure Action Science Fiction</td>\n",
              "      <td>en</td>\n",
              "      <td>11000000</td>\n",
              "      <td>126.393695</td>\n",
              "      <td>25-05-1977</td>\n",
              "      <td>775398007</td>\n",
              "      <td>121.0</td>\n",
              "      <td>8.1</td>\n",
              "      <td>...</td>\n",
              "      <td>http://www.starwars.com/films/star-wars-episod...</td>\n",
              "      <td>android galaxy hermit death star lightsaber</td>\n",
              "      <td>Princess Leia is captured and held hostage by ...</td>\n",
              "      <td>[{\"name\": \"Lucasfilm\", \"id\": 1}, {\"name\": \"Twe...</td>\n",
              "      <td>[{\"iso_3166_1\": \"US\", \"name\": \"United States o...</td>\n",
              "      <td>[{\"iso_639_1\": \"en\", \"name\": \"English\"}]</td>\n",
              "      <td>A long time ago in a galaxy far, far away...</td>\n",
              "      <td>Mark Hamill Harrison Ford Carrie Fisher Peter ...</td>\n",
              "      <td>[{'name': 'George Lucas', 'gender': 2, 'depart...</td>\n",
              "      <td>George Lucas</td>\n",
              "    </tr>\n",
              "    <tr>\n",
              "      <th>2</th>\n",
              "      <td>3</td>\n",
              "      <td>Finding Nemo</td>\n",
              "      <td>Animation Family</td>\n",
              "      <td>en</td>\n",
              "      <td>94000000</td>\n",
              "      <td>85.688789</td>\n",
              "      <td>30-05-2003</td>\n",
              "      <td>940335536</td>\n",
              "      <td>100.0</td>\n",
              "      <td>7.6</td>\n",
              "      <td>...</td>\n",
              "      <td>http://movies.disney.com/finding-nemo</td>\n",
              "      <td>father son relationship harbor underwater fish...</td>\n",
              "      <td>Nemo, an adventurous young clownfish, is unexp...</td>\n",
              "      <td>[{\"name\": \"Pixar Animation Studios\", \"id\": 3}]</td>\n",
              "      <td>[{\"iso_3166_1\": \"US\", \"name\": \"United States o...</td>\n",
              "      <td>[{\"iso_639_1\": \"en\", \"name\": \"English\"}]</td>\n",
              "      <td>There are 3.7 trillion fish in the ocean, they...</td>\n",
              "      <td>Albert Brooks Ellen DeGeneres Alexander Gould ...</td>\n",
              "      <td>[{'name': 'Andrew Stanton', 'gender': 2, 'depa...</td>\n",
              "      <td>Andrew Stanton</td>\n",
              "    </tr>\n",
              "    <tr>\n",
              "      <th>3</th>\n",
              "      <td>4</td>\n",
              "      <td>Forrest Gump</td>\n",
              "      <td>Comedy Drama Romance</td>\n",
              "      <td>en</td>\n",
              "      <td>55000000</td>\n",
              "      <td>138.133331</td>\n",
              "      <td>06-07-1994</td>\n",
              "      <td>677945399</td>\n",
              "      <td>142.0</td>\n",
              "      <td>8.2</td>\n",
              "      <td>...</td>\n",
              "      <td>NaN</td>\n",
              "      <td>vietnam veteran hippie mentally disabled runni...</td>\n",
              "      <td>A man with a low IQ has accomplished great thi...</td>\n",
              "      <td>[{\"name\": \"Paramount Pictures\", \"id\": 4}]</td>\n",
              "      <td>[{\"iso_3166_1\": \"US\", \"name\": \"United States o...</td>\n",
              "      <td>[{\"iso_639_1\": \"en\", \"name\": \"English\"}]</td>\n",
              "      <td>The world will never be the same, once you've ...</td>\n",
              "      <td>Tom Hanks Robin Wright Gary Sinise Mykelti Wil...</td>\n",
              "      <td>[{'name': 'Alan Silvestri', 'gender': 2, 'depa...</td>\n",
              "      <td>Robert Zemeckis</td>\n",
              "    </tr>\n",
              "    <tr>\n",
              "      <th>4</th>\n",
              "      <td>5</td>\n",
              "      <td>American Beauty</td>\n",
              "      <td>Drama</td>\n",
              "      <td>en</td>\n",
              "      <td>15000000</td>\n",
              "      <td>80.878605</td>\n",
              "      <td>15-09-1999</td>\n",
              "      <td>356296601</td>\n",
              "      <td>122.0</td>\n",
              "      <td>7.9</td>\n",
              "      <td>...</td>\n",
              "      <td>http://www.dreamworks.com/ab/</td>\n",
              "      <td>male nudity female nudity adultery midlife cri...</td>\n",
              "      <td>Lester Burnham, a depressed suburban father in...</td>\n",
              "      <td>[{\"name\": \"DreamWorks SKG\", \"id\": 27}, {\"name\"...</td>\n",
              "      <td>[{\"iso_3166_1\": \"US\", \"name\": \"United States o...</td>\n",
              "      <td>[{\"iso_639_1\": \"en\", \"name\": \"English\"}]</td>\n",
              "      <td>Look closer.</td>\n",
              "      <td>Kevin Spacey Annette Bening Thora Birch Wes Be...</td>\n",
              "      <td>[{'name': 'Thomas Newman', 'gender': 2, 'depar...</td>\n",
              "      <td>Sam Mendes</td>\n",
              "    </tr>\n",
              "  </tbody>\n",
              "</table>\n",
              "<p>5 rows × 21 columns</p>\n",
              "</div>"
            ],
            "text/plain": [
              "   Movie_ID      Movie_Title                       Movie_Genre Movie_Language  \\\n",
              "0         1       Four Rooms                      Crime Comedy             en   \n",
              "1         2        Star Wars  Adventure Action Science Fiction             en   \n",
              "2         3     Finding Nemo                  Animation Family             en   \n",
              "3         4     Forrest Gump              Comedy Drama Romance             en   \n",
              "4         5  American Beauty                             Drama             en   \n",
              "\n",
              "   Movie_Budget  Movie_Popularity Movie_Release_Date  Movie_Revenue  \\\n",
              "0       4000000         22.876230         09-12-1995        4300000   \n",
              "1      11000000        126.393695         25-05-1977      775398007   \n",
              "2      94000000         85.688789         30-05-2003      940335536   \n",
              "3      55000000        138.133331         06-07-1994      677945399   \n",
              "4      15000000         80.878605         15-09-1999      356296601   \n",
              "\n",
              "   Movie_Runtime  Movie_Vote  ...  \\\n",
              "0           98.0         6.5  ...   \n",
              "1          121.0         8.1  ...   \n",
              "2          100.0         7.6  ...   \n",
              "3          142.0         8.2  ...   \n",
              "4          122.0         7.9  ...   \n",
              "\n",
              "                                      Movie_Homepage  \\\n",
              "0                                                NaN   \n",
              "1  http://www.starwars.com/films/star-wars-episod...   \n",
              "2              http://movies.disney.com/finding-nemo   \n",
              "3                                                NaN   \n",
              "4                      http://www.dreamworks.com/ab/   \n",
              "\n",
              "                                      Movie_Keywords  \\\n",
              "0          hotel new year's eve witch bet hotel room   \n",
              "1        android galaxy hermit death star lightsaber   \n",
              "2  father son relationship harbor underwater fish...   \n",
              "3  vietnam veteran hippie mentally disabled runni...   \n",
              "4  male nudity female nudity adultery midlife cri...   \n",
              "\n",
              "                                      Movie_Overview  \\\n",
              "0  It's Ted the Bellhop's first night on the job....   \n",
              "1  Princess Leia is captured and held hostage by ...   \n",
              "2  Nemo, an adventurous young clownfish, is unexp...   \n",
              "3  A man with a low IQ has accomplished great thi...   \n",
              "4  Lester Burnham, a depressed suburban father in...   \n",
              "\n",
              "                              Movie_Production_House  \\\n",
              "0  [{\"name\": \"Miramax Films\", \"id\": 14}, {\"name\":...   \n",
              "1  [{\"name\": \"Lucasfilm\", \"id\": 1}, {\"name\": \"Twe...   \n",
              "2     [{\"name\": \"Pixar Animation Studios\", \"id\": 3}]   \n",
              "3          [{\"name\": \"Paramount Pictures\", \"id\": 4}]   \n",
              "4  [{\"name\": \"DreamWorks SKG\", \"id\": 27}, {\"name\"...   \n",
              "\n",
              "                            Movie_Production_Country  \\\n",
              "0  [{\"iso_3166_1\": \"US\", \"name\": \"United States o...   \n",
              "1  [{\"iso_3166_1\": \"US\", \"name\": \"United States o...   \n",
              "2  [{\"iso_3166_1\": \"US\", \"name\": \"United States o...   \n",
              "3  [{\"iso_3166_1\": \"US\", \"name\": \"United States o...   \n",
              "4  [{\"iso_3166_1\": \"US\", \"name\": \"United States o...   \n",
              "\n",
              "                      Movie_Spoken_Language  \\\n",
              "0  [{\"iso_639_1\": \"en\", \"name\": \"English\"}]   \n",
              "1  [{\"iso_639_1\": \"en\", \"name\": \"English\"}]   \n",
              "2  [{\"iso_639_1\": \"en\", \"name\": \"English\"}]   \n",
              "3  [{\"iso_639_1\": \"en\", \"name\": \"English\"}]   \n",
              "4  [{\"iso_639_1\": \"en\", \"name\": \"English\"}]   \n",
              "\n",
              "                                       Movie_Tagline  \\\n",
              "0  Twelve outrageous guests. Four scandalous requ...   \n",
              "1       A long time ago in a galaxy far, far away...   \n",
              "2  There are 3.7 trillion fish in the ocean, they...   \n",
              "3  The world will never be the same, once you've ...   \n",
              "4                                       Look closer.   \n",
              "\n",
              "                                          Movie_Cast  \\\n",
              "0  Tim Roth Antonio Banderas Jennifer Beals Madon...   \n",
              "1  Mark Hamill Harrison Ford Carrie Fisher Peter ...   \n",
              "2  Albert Brooks Ellen DeGeneres Alexander Gould ...   \n",
              "3  Tom Hanks Robin Wright Gary Sinise Mykelti Wil...   \n",
              "4  Kevin Spacey Annette Bening Thora Birch Wes Be...   \n",
              "\n",
              "                                          Movie_Crew   Movie_Director  \n",
              "0  [{'name': 'Allison Anders', 'gender': 1, 'depa...   Allison Anders  \n",
              "1  [{'name': 'George Lucas', 'gender': 2, 'depart...     George Lucas  \n",
              "2  [{'name': 'Andrew Stanton', 'gender': 2, 'depa...   Andrew Stanton  \n",
              "3  [{'name': 'Alan Silvestri', 'gender': 2, 'depa...  Robert Zemeckis  \n",
              "4  [{'name': 'Thomas Newman', 'gender': 2, 'depar...       Sam Mendes  \n",
              "\n",
              "[5 rows x 21 columns]"
            ]
          },
          "execution_count": 82,
          "metadata": {},
          "output_type": "execute_result"
        }
      ],
      "source": [
        "df.head()"
      ]
    },
    {
      "cell_type": "code",
      "execution_count": null,
      "id": "d1111427-60c9-4465-b60b-085c48f3ef7e",
      "metadata": {
        "id": "d1111427-60c9-4465-b60b-085c48f3ef7e",
        "outputId": "ad77bc5a-060b-45fd-c1d4-0bfc84d711da"
      },
      "outputs": [
        {
          "data": {
            "text/plain": [
              "(4760, 21)"
            ]
          },
          "execution_count": 11,
          "metadata": {},
          "output_type": "execute_result"
        }
      ],
      "source": [
        "df.shape"
      ]
    },
    {
      "cell_type": "code",
      "execution_count": null,
      "id": "fed6f04c-566d-4749-995b-1c457dcd136c",
      "metadata": {
        "id": "fed6f04c-566d-4749-995b-1c457dcd136c",
        "outputId": "858a389c-b5de-4ff2-f765-71bcffd95be5"
      },
      "outputs": [
        {
          "data": {
            "text/plain": [
              "Index(['Movie_ID', 'Movie_Title', 'Movie_Genre', 'Movie_Language',\n",
              "       'Movie_Budget', 'Movie_Popularity', 'Movie_Release_Date',\n",
              "       'Movie_Revenue', 'Movie_Runtime', 'Movie_Vote', 'Movie_Vote_Count',\n",
              "       'Movie_Homepage', 'Movie_Keywords', 'Movie_Overview',\n",
              "       'Movie_Production_House', 'Movie_Production_Country',\n",
              "       'Movie_Spoken_Language', 'Movie_Tagline', 'Movie_Cast', 'Movie_Crew',\n",
              "       'Movie_Director'],\n",
              "      dtype='object')"
            ]
          },
          "execution_count": 12,
          "metadata": {},
          "output_type": "execute_result"
        }
      ],
      "source": [
        "df.columns"
      ]
    },
    {
      "cell_type": "markdown",
      "id": "42b0e7d4-faa7-4f3e-adb1-c65bdf325dc0",
      "metadata": {
        "id": "42b0e7d4-faa7-4f3e-adb1-c65bdf325dc0"
      },
      "source": [
        "## Define Target Variable (y) and Feature Variables (x)"
      ]
    },
    {
      "cell_type": "code",
      "execution_count": null,
      "id": "1ce27710-88e0-44e9-b18c-b48a155c038e",
      "metadata": {
        "id": "1ce27710-88e0-44e9-b18c-b48a155c038e"
      },
      "outputs": [],
      "source": [
        "df_features = df[[\"Movie_Homepage\",\"Movie_Spoken_Language\",\"Movie_Tagline\",\"Movie_Cast\",\"Movie_Director\"]].fillna(\"\")"
      ]
    },
    {
      "cell_type": "code",
      "execution_count": null,
      "id": "0062e6c1-f546-4f71-ab16-d3135e264620",
      "metadata": {
        "id": "0062e6c1-f546-4f71-ab16-d3135e264620",
        "outputId": "3fbbf424-f493-4b61-c18e-fb7574c47981"
      },
      "outputs": [
        {
          "data": {
            "text/plain": [
              "(4760, 5)"
            ]
          },
          "execution_count": 15,
          "metadata": {},
          "output_type": "execute_result"
        }
      ],
      "source": [
        "df_features.shape"
      ]
    },
    {
      "cell_type": "code",
      "execution_count": null,
      "id": "8373b02d-1c5d-4f79-9683-432b0b12eec1",
      "metadata": {
        "id": "8373b02d-1c5d-4f79-9683-432b0b12eec1",
        "outputId": "12cec57c-ed4b-4cb9-be88-60592de00735"
      },
      "outputs": [
        {
          "data": {
            "text/html": [
              "<div>\n",
              "<style scoped>\n",
              "    .dataframe tbody tr th:only-of-type {\n",
              "        vertical-align: middle;\n",
              "    }\n",
              "\n",
              "    .dataframe tbody tr th {\n",
              "        vertical-align: top;\n",
              "    }\n",
              "\n",
              "    .dataframe thead th {\n",
              "        text-align: right;\n",
              "    }\n",
              "</style>\n",
              "<table border=\"1\" class=\"dataframe\">\n",
              "  <thead>\n",
              "    <tr style=\"text-align: right;\">\n",
              "      <th></th>\n",
              "      <th>Movie_Homepage</th>\n",
              "      <th>Movie_Spoken_Language</th>\n",
              "      <th>Movie_Tagline</th>\n",
              "      <th>Movie_Cast</th>\n",
              "      <th>Movie_Director</th>\n",
              "    </tr>\n",
              "  </thead>\n",
              "  <tbody>\n",
              "    <tr>\n",
              "      <th>0</th>\n",
              "      <td></td>\n",
              "      <td>[{\"iso_639_1\": \"en\", \"name\": \"English\"}]</td>\n",
              "      <td>Twelve outrageous guests. Four scandalous requ...</td>\n",
              "      <td>Tim Roth Antonio Banderas Jennifer Beals Madon...</td>\n",
              "      <td>Allison Anders</td>\n",
              "    </tr>\n",
              "    <tr>\n",
              "      <th>1</th>\n",
              "      <td>http://www.starwars.com/films/star-wars-episod...</td>\n",
              "      <td>[{\"iso_639_1\": \"en\", \"name\": \"English\"}]</td>\n",
              "      <td>A long time ago in a galaxy far, far away...</td>\n",
              "      <td>Mark Hamill Harrison Ford Carrie Fisher Peter ...</td>\n",
              "      <td>George Lucas</td>\n",
              "    </tr>\n",
              "    <tr>\n",
              "      <th>2</th>\n",
              "      <td>http://movies.disney.com/finding-nemo</td>\n",
              "      <td>[{\"iso_639_1\": \"en\", \"name\": \"English\"}]</td>\n",
              "      <td>There are 3.7 trillion fish in the ocean, they...</td>\n",
              "      <td>Albert Brooks Ellen DeGeneres Alexander Gould ...</td>\n",
              "      <td>Andrew Stanton</td>\n",
              "    </tr>\n",
              "    <tr>\n",
              "      <th>3</th>\n",
              "      <td></td>\n",
              "      <td>[{\"iso_639_1\": \"en\", \"name\": \"English\"}]</td>\n",
              "      <td>The world will never be the same, once you've ...</td>\n",
              "      <td>Tom Hanks Robin Wright Gary Sinise Mykelti Wil...</td>\n",
              "      <td>Robert Zemeckis</td>\n",
              "    </tr>\n",
              "    <tr>\n",
              "      <th>4</th>\n",
              "      <td>http://www.dreamworks.com/ab/</td>\n",
              "      <td>[{\"iso_639_1\": \"en\", \"name\": \"English\"}]</td>\n",
              "      <td>Look closer.</td>\n",
              "      <td>Kevin Spacey Annette Bening Thora Birch Wes Be...</td>\n",
              "      <td>Sam Mendes</td>\n",
              "    </tr>\n",
              "    <tr>\n",
              "      <th>...</th>\n",
              "      <td>...</td>\n",
              "      <td>...</td>\n",
              "      <td>...</td>\n",
              "      <td>...</td>\n",
              "      <td>...</td>\n",
              "    </tr>\n",
              "    <tr>\n",
              "      <th>4755</th>\n",
              "      <td></td>\n",
              "      <td>[{\"iso_639_1\": \"en\", \"name\": \"English\"}]</td>\n",
              "      <td>The hot spot where Satan's waitin'.</td>\n",
              "      <td>Lisa Hart Carroll Michael Des Barres Paul Drak...</td>\n",
              "      <td>Pece Dingo</td>\n",
              "    </tr>\n",
              "    <tr>\n",
              "      <th>4756</th>\n",
              "      <td>http://www.growingupsmithmovie.com</td>\n",
              "      <td>[{\"iso_639_1\": \"en\", \"name\": \"English\"}]</td>\n",
              "      <td>It’s better to stand out than to fit in.</td>\n",
              "      <td>Roni Akurati Brighton Sharbino Jason Lee Anjul...</td>\n",
              "      <td>Frank Lotito</td>\n",
              "    </tr>\n",
              "    <tr>\n",
              "      <th>4757</th>\n",
              "      <td></td>\n",
              "      <td>[{\"iso_639_1\": \"en\", \"name\": \"English\"}]</td>\n",
              "      <td>She never knew it could happen to her...</td>\n",
              "      <td>Nicole Smolen Kim Baldwin Ariana Stephens Brys...</td>\n",
              "      <td>Jaco Booyens</td>\n",
              "    </tr>\n",
              "    <tr>\n",
              "      <th>4758</th>\n",
              "      <td></td>\n",
              "      <td>[]</td>\n",
              "      <td></td>\n",
              "      <td></td>\n",
              "      <td></td>\n",
              "    </tr>\n",
              "    <tr>\n",
              "      <th>4759</th>\n",
              "      <td></td>\n",
              "      <td>[]</td>\n",
              "      <td></td>\n",
              "      <td>Tony Oppedisano</td>\n",
              "      <td>Simon Napier-Bell</td>\n",
              "    </tr>\n",
              "  </tbody>\n",
              "</table>\n",
              "<p>4760 rows × 5 columns</p>\n",
              "</div>"
            ],
            "text/plain": [
              "                                         Movie_Homepage  \\\n",
              "0                                                         \n",
              "1     http://www.starwars.com/films/star-wars-episod...   \n",
              "2                 http://movies.disney.com/finding-nemo   \n",
              "3                                                         \n",
              "4                         http://www.dreamworks.com/ab/   \n",
              "...                                                 ...   \n",
              "4755                                                      \n",
              "4756                 http://www.growingupsmithmovie.com   \n",
              "4757                                                      \n",
              "4758                                                      \n",
              "4759                                                      \n",
              "\n",
              "                         Movie_Spoken_Language  \\\n",
              "0     [{\"iso_639_1\": \"en\", \"name\": \"English\"}]   \n",
              "1     [{\"iso_639_1\": \"en\", \"name\": \"English\"}]   \n",
              "2     [{\"iso_639_1\": \"en\", \"name\": \"English\"}]   \n",
              "3     [{\"iso_639_1\": \"en\", \"name\": \"English\"}]   \n",
              "4     [{\"iso_639_1\": \"en\", \"name\": \"English\"}]   \n",
              "...                                        ...   \n",
              "4755  [{\"iso_639_1\": \"en\", \"name\": \"English\"}]   \n",
              "4756  [{\"iso_639_1\": \"en\", \"name\": \"English\"}]   \n",
              "4757  [{\"iso_639_1\": \"en\", \"name\": \"English\"}]   \n",
              "4758                                        []   \n",
              "4759                                        []   \n",
              "\n",
              "                                          Movie_Tagline  \\\n",
              "0     Twelve outrageous guests. Four scandalous requ...   \n",
              "1          A long time ago in a galaxy far, far away...   \n",
              "2     There are 3.7 trillion fish in the ocean, they...   \n",
              "3     The world will never be the same, once you've ...   \n",
              "4                                          Look closer.   \n",
              "...                                                 ...   \n",
              "4755                The hot spot where Satan's waitin'.   \n",
              "4756           It’s better to stand out than to fit in.   \n",
              "4757           She never knew it could happen to her...   \n",
              "4758                                                      \n",
              "4759                                                      \n",
              "\n",
              "                                             Movie_Cast     Movie_Director  \n",
              "0     Tim Roth Antonio Banderas Jennifer Beals Madon...     Allison Anders  \n",
              "1     Mark Hamill Harrison Ford Carrie Fisher Peter ...       George Lucas  \n",
              "2     Albert Brooks Ellen DeGeneres Alexander Gould ...     Andrew Stanton  \n",
              "3     Tom Hanks Robin Wright Gary Sinise Mykelti Wil...    Robert Zemeckis  \n",
              "4     Kevin Spacey Annette Bening Thora Birch Wes Be...         Sam Mendes  \n",
              "...                                                 ...                ...  \n",
              "4755  Lisa Hart Carroll Michael Des Barres Paul Drak...         Pece Dingo  \n",
              "4756  Roni Akurati Brighton Sharbino Jason Lee Anjul...       Frank Lotito  \n",
              "4757  Nicole Smolen Kim Baldwin Ariana Stephens Brys...       Jaco Booyens  \n",
              "4758                                                                        \n",
              "4759                                    Tony Oppedisano  Simon Napier-Bell  \n",
              "\n",
              "[4760 rows x 5 columns]"
            ]
          },
          "execution_count": 16,
          "metadata": {},
          "output_type": "execute_result"
        }
      ],
      "source": [
        "df_features"
      ]
    },
    {
      "cell_type": "code",
      "execution_count": null,
      "id": "4d4d86fb-c8b2-44c1-bf20-f1efea8e6759",
      "metadata": {
        "id": "4d4d86fb-c8b2-44c1-bf20-f1efea8e6759",
        "outputId": "84abedf9-e64a-4daa-f7c1-90fa433b02d9"
      },
      "outputs": [
        {
          "data": {
            "text/plain": [
              "0        [{\"iso_639_1\": \"en\", \"name\": \"English\"}] Twel...\n",
              "1       http://www.starwars.com/films/star-wars-episod...\n",
              "2       http://movies.disney.com/finding-nemo [{\"iso_6...\n",
              "3        [{\"iso_639_1\": \"en\", \"name\": \"English\"}] The ...\n",
              "4       http://www.dreamworks.com/ab/ [{\"iso_639_1\": \"...\n",
              "                              ...                        \n",
              "4755     [{\"iso_639_1\": \"en\", \"name\": \"English\"}] The ...\n",
              "4756    http://www.growingupsmithmovie.com [{\"iso_639_...\n",
              "4757     [{\"iso_639_1\": \"en\", \"name\": \"English\"}] She ...\n",
              "4758                                                []   \n",
              "4759                []  Tony Oppedisano Simon Napier-Bell\n",
              "Length: 4760, dtype: object"
            ]
          },
          "execution_count": 17,
          "metadata": {},
          "output_type": "execute_result"
        }
      ],
      "source": [
        "x = df_features[\"Movie_Homepage\"]+' '+df_features[\"Movie_Spoken_Language\"]+' '+df_features[\"Movie_Tagline\"]+' '+df_features[\"Movie_Cast\"]+' '+df_features[\"Movie_Director\"]\n",
        "x"
      ]
    },
    {
      "cell_type": "markdown",
      "id": "ee42d691-e7d9-43db-9eb3-11ee970b2c85",
      "metadata": {
        "id": "ee42d691-e7d9-43db-9eb3-11ee970b2c85"
      },
      "source": [
        "## Train Test Split"
      ]
    },
    {
      "cell_type": "code",
      "execution_count": null,
      "id": "ebe99993-c494-4b6c-bb44-5333a6803ea4",
      "metadata": {
        "id": "ebe99993-c494-4b6c-bb44-5333a6803ea4",
        "outputId": "b3fdbcfe-56fc-402b-fa30-faa8f11efc50"
      },
      "outputs": [
        {
          "data": {
            "text/plain": [
              "1964     [{\"iso_639_1\": \"en\", \"name\": \"English\"}] If y...\n",
              "1997     [{\"iso_639_1\": \"en\", \"name\": \"English\"}, {\"is...\n",
              "1830    http://tv.disney.go.com/disneychannel/original...\n",
              "4368     [{\"iso_639_1\": \"en\", \"name\": \"English\"}] The ...\n",
              "3621     [{\"iso_639_1\": \"en\", \"name\": \"English\"}]  Jam...\n",
              "                              ...                        \n",
              "4568    http://mazerunnermovies.com [{\"iso_639_1\": \"en...\n",
              "3738     [{\"iso_639_1\": \"en\", \"name\": \"English\"}] Are ...\n",
              "4644     [{\"iso_639_1\": \"en\", \"name\": \"English\"}]   Je...\n",
              "3864     [{\"iso_639_1\": \"en\", \"name\": \"English\"}] Get ...\n",
              "2137     [{\"iso_639_1\": \"ar\", \"name\": \"\\u0627\\u0644\\u0...\n",
              "Length: 3189, dtype: object"
            ]
          },
          "execution_count": 90,
          "metadata": {},
          "output_type": "execute_result"
        }
      ],
      "source": [
        "from sklearn.model_selection import train_test_split\n",
        "x_train,x_test = train_test_split(x,test_size=0.33,random_state=2569)\n",
        "x_train"
      ]
    },
    {
      "cell_type": "code",
      "execution_count": null,
      "id": "6f73d914-b15a-47a1-950d-610fb8683fa9",
      "metadata": {
        "id": "6f73d914-b15a-47a1-950d-610fb8683fa9",
        "outputId": "dd2197b0-9d6e-4abf-88bc-aa57361380a6"
      },
      "outputs": [
        {
          "data": {
            "text/plain": [
              "(3189,)"
            ]
          },
          "execution_count": 92,
          "metadata": {},
          "output_type": "execute_result"
        }
      ],
      "source": [
        "x_train.shape"
      ]
    },
    {
      "cell_type": "markdown",
      "id": "a9244c80-bd31-468c-af72-491fd55ba1f5",
      "metadata": {
        "id": "a9244c80-bd31-468c-af72-491fd55ba1f5"
      },
      "source": [
        "## Data Preprocessing"
      ]
    },
    {
      "cell_type": "code",
      "execution_count": null,
      "id": "80763df7-0616-452a-8d53-57c840922b45",
      "metadata": {
        "id": "80763df7-0616-452a-8d53-57c840922b45"
      },
      "outputs": [],
      "source": [
        "from sklearn.feature_extraction.text import TfidfVectorizer"
      ]
    },
    {
      "cell_type": "code",
      "execution_count": null,
      "id": "667854ed-a559-44c0-bdfc-030619148e1f",
      "metadata": {
        "id": "667854ed-a559-44c0-bdfc-030619148e1f"
      },
      "outputs": [],
      "source": [
        "tfidf = TfidfVectorizer()"
      ]
    },
    {
      "cell_type": "code",
      "execution_count": null,
      "id": "668d9818-ce39-49a0-9a06-e6e7868c06cd",
      "metadata": {
        "id": "668d9818-ce39-49a0-9a06-e6e7868c06cd",
        "outputId": "76b1dac6-d96b-4a64-ae39-d369f67ea585"
      },
      "outputs": [
        {
          "data": {
            "text/plain": [
              "(3189, 13197)"
            ]
          },
          "execution_count": 97,
          "metadata": {},
          "output_type": "execute_result"
        }
      ],
      "source": [
        "X = tfidf.fit_transform(x_train)\n",
        "X.shape"
      ]
    },
    {
      "cell_type": "code",
      "execution_count": null,
      "id": "8a83eab5-13b3-4ccf-bbea-b64de0723bf9",
      "metadata": {
        "id": "8a83eab5-13b3-4ccf-bbea-b64de0723bf9",
        "outputId": "607ed960-ec5a-4e21-870d-23401bbfa04a"
      },
      "outputs": [
        {
          "name": "stdout",
          "output_type": "stream",
          "text": [
            "  (0, 5770)\t0.03509928056650798\n",
            "  (0, 3639)\t0.03680197613782599\n",
            "  (0, 8182)\t0.03509928056650798\n",
            "  (0, 3660)\t0.036813535654173245\n",
            "  (0, 5595)\t0.16913797813659448\n",
            "  (0, 13050)\t0.2268790755080981\n",
            "  (0, 9446)\t0.1702049167481373\n",
            "  (0, 7026)\t0.21827158084515602\n",
            "  (0, 4188)\t0.1334007176146176\n",
            "  (0, 11365)\t0.15182856911202933\n",
            "  (0, 11842)\t0.18564508274505015\n",
            "  (0, 12384)\t0.202797571244812\n",
            "  (0, 2394)\t0.19317131018510383\n",
            "  (0, 11661)\t0.10522110434039075\n",
            "  (0, 12948)\t0.22050931007773544\n",
            "  (0, 9027)\t0.2014376805191069\n",
            "  (0, 12339)\t0.22050931007773544\n",
            "  (0, 6373)\t0.22050931007773544\n",
            "  (0, 12462)\t0.18650124399647466\n",
            "  (0, 8563)\t0.22824631487790745\n",
            "  (0, 205)\t0.1633457504548396\n",
            "  (0, 4678)\t0.21827158084515602\n",
            "  (0, 7125)\t0.2229014839708566\n",
            "  (0, 4905)\t0.23822104891065887\n",
            "  (0, 11943)\t0.2014376805191069\n",
            "  :\t:\n",
            "  (3188, 8182)\t0.10997521268267137\n",
            "  (3188, 3660)\t0.03844880719133592\n",
            "  (3188, 5841)\t0.12418945933491803\n",
            "  (3188, 4238)\t0.12329841041705866\n",
            "  (3188, 4244)\t0.12279891357631224\n",
            "  (3188, 11962)\t0.12342436861991846\n",
            "  (3188, 6772)\t0.2118059180436006\n",
            "  (3188, 10397)\t0.20901893195430074\n",
            "  (3188, 626)\t0.18972450983037864\n",
            "  (3188, 12151)\t0.18071125050343045\n",
            "  (3188, 12160)\t0.18972450983037864\n",
            "  (3188, 12158)\t0.18972450983037864\n",
            "  (3188, 12156)\t0.18071125050343045\n",
            "  (3188, 12152)\t0.18972450983037864\n",
            "  (3188, 12162)\t0.18972450983037864\n",
            "  (3188, 12153)\t0.18972450983037864\n",
            "  (3188, 7836)\t0.17950404048935983\n",
            "  (3188, 9990)\t0.23030441918751807\n",
            "  (3188, 11636)\t0.20901893195430074\n",
            "  (3188, 6819)\t0.25790375635599444\n",
            "  (3188, 10768)\t0.25790375635599444\n",
            "  (3188, 5119)\t0.23838510474281954\n",
            "  (3188, 7344)\t0.27008840756465285\n",
            "  (3188, 9920)\t0.27008840756465285\n",
            "  (3188, 2505)\t0.27816909311995436\n"
          ]
        }
      ],
      "source": [
        "print(X)"
      ]
    },
    {
      "cell_type": "markdown",
      "id": "a403c102-b62f-42ae-a248-6e89e0584b2f",
      "metadata": {
        "id": "a403c102-b62f-42ae-a248-6e89e0584b2f"
      },
      "source": [
        "## Modelling and Model Evaluation"
      ]
    },
    {
      "cell_type": "code",
      "execution_count": null,
      "id": "37e5a433-86d0-4fd2-982e-72c3b8941e30",
      "metadata": {
        "id": "37e5a433-86d0-4fd2-982e-72c3b8941e30"
      },
      "outputs": [],
      "source": [
        "from sklearn.metrics.pairwise import cosine_similarity"
      ]
    },
    {
      "cell_type": "code",
      "execution_count": null,
      "id": "7f703b63-4154-4812-a5c6-6a498804c342",
      "metadata": {
        "id": "7f703b63-4154-4812-a5c6-6a498804c342"
      },
      "outputs": [],
      "source": [
        "Similarity_Score = cosine_similarity(X)"
      ]
    },
    {
      "cell_type": "code",
      "execution_count": null,
      "id": "8a0539f4-69b6-432b-844d-fccb1acc624d",
      "metadata": {
        "id": "8a0539f4-69b6-432b-844d-fccb1acc624d",
        "outputId": "9aba6faf-ad77-406e-b6c5-fb33c08daa3e"
      },
      "outputs": [
        {
          "data": {
            "text/plain": [
              "array([[1.        , 0.07105401, 0.00439514, ..., 0.01397073, 0.05357769,\n",
              "        0.01055009],\n",
              "       [0.07105401, 1.        , 0.00707595, ..., 0.02249215, 0.00898783,\n",
              "        0.0199248 ],\n",
              "       [0.00439514, 0.00707595, 1.        , ..., 0.01186872, 0.00474272,\n",
              "        0.00896274],\n",
              "       ...,\n",
              "       [0.01397073, 0.02249215, 0.01186872, ..., 1.        , 0.01507558,\n",
              "        0.02848965],\n",
              "       [0.05357769, 0.00898783, 0.00474272, ..., 0.01507558, 1.        ,\n",
              "        0.01138442],\n",
              "       [0.01055009, 0.0199248 , 0.00896274, ..., 0.02848965, 0.01138442,\n",
              "        1.        ]])"
            ]
          },
          "execution_count": 106,
          "metadata": {},
          "output_type": "execute_result"
        }
      ],
      "source": [
        "Similarity_Score"
      ]
    },
    {
      "cell_type": "code",
      "execution_count": null,
      "id": "3686d460-21e0-4673-b245-84c63da4580f",
      "metadata": {
        "id": "3686d460-21e0-4673-b245-84c63da4580f",
        "outputId": "4f20a7a4-5ea5-4e7b-8e92-d245190aeb3f"
      },
      "outputs": [
        {
          "data": {
            "text/plain": [
              "(3189, 3189)"
            ]
          },
          "execution_count": 108,
          "metadata": {},
          "output_type": "execute_result"
        }
      ],
      "source": [
        "Similarity_Score.shape"
      ]
    },
    {
      "cell_type": "markdown",
      "id": "7a5bae61-55e9-413d-aa0a-e1e12ef46ac7",
      "metadata": {
        "id": "7a5bae61-55e9-413d-aa0a-e1e12ef46ac7"
      },
      "source": [
        "## Prediction"
      ]
    },
    {
      "cell_type": "code",
      "execution_count": null,
      "id": "10946bc2-aeab-4643-9464-a78387f2d09d",
      "metadata": {
        "id": "10946bc2-aeab-4643-9464-a78387f2d09d",
        "outputId": "565422e3-f45b-4785-8a79-677955135572"
      },
      "outputs": [
        {
          "name": "stdin",
          "output_type": "stream",
          "text": [
            "Enter your favourite movie name: avtar\n"
          ]
        }
      ],
      "source": [
        "Fav_Movie = input(\"Enter your favourite movie name:\")"
      ]
    },
    {
      "cell_type": "code",
      "execution_count": null,
      "id": "f22989a3-9942-4c6c-95bb-44c12e2320ba",
      "metadata": {
        "id": "f22989a3-9942-4c6c-95bb-44c12e2320ba"
      },
      "outputs": [],
      "source": [
        "Movie_title_List = df[\"Movie_Title\"].tolist()"
      ]
    },
    {
      "cell_type": "code",
      "execution_count": null,
      "id": "dce697d6-3f7f-4e8a-a457-e593066b04b0",
      "metadata": {
        "id": "dce697d6-3f7f-4e8a-a457-e593066b04b0"
      },
      "outputs": [],
      "source": [
        "import difflib"
      ]
    },
    {
      "cell_type": "code",
      "execution_count": null,
      "id": "8f753149-285d-49d3-8051-8ea2ec67105e",
      "metadata": {
        "id": "8f753149-285d-49d3-8051-8ea2ec67105e",
        "outputId": "dea2611b-bdd1-4aae-c589-4a10346cdb2e"
      },
      "outputs": [
        {
          "name": "stdout",
          "output_type": "stream",
          "text": [
            "['Avatar', 'Salvador', 'Water']\n"
          ]
        }
      ],
      "source": [
        "Movie_Recommendation = difflib.get_close_matches(Fav_Movie,Movie_title_List)\n",
        "print(Movie_Recommendation)"
      ]
    },
    {
      "cell_type": "code",
      "execution_count": null,
      "id": "9467eab0-a3d9-4785-8bfb-e29780122208",
      "metadata": {
        "id": "9467eab0-a3d9-4785-8bfb-e29780122208",
        "outputId": "9ffc35cd-9556-4f33-b894-edc0ed9c2723"
      },
      "outputs": [
        {
          "name": "stdout",
          "output_type": "stream",
          "text": [
            "Avatar\n"
          ]
        }
      ],
      "source": [
        "Close_Match = Movie_Recommendation[0]\n",
        "print(Close_Match)"
      ]
    },
    {
      "cell_type": "code",
      "execution_count": null,
      "id": "0ced9d42-d5d9-4e39-b018-fae981dcc2ed",
      "metadata": {
        "id": "0ced9d42-d5d9-4e39-b018-fae981dcc2ed",
        "outputId": "b4156243-122a-4c7b-d1aa-cd1b8bc79df5"
      },
      "outputs": [
        {
          "name": "stdout",
          "output_type": "stream",
          "text": [
            "2692\n"
          ]
        }
      ],
      "source": [
        "Close_Match_Index = df[df.Movie_Title == Close_Match][\"Movie_ID\"].values[0]\n",
        "print(Close_Match_Index)"
      ]
    },
    {
      "cell_type": "code",
      "execution_count": null,
      "id": "1c352cc5-4e1c-470f-b218-00fab51d615b",
      "metadata": {
        "id": "1c352cc5-4e1c-470f-b218-00fab51d615b",
        "outputId": "78ec64a2-0a36-476f-8308-0242149c8695"
      },
      "outputs": [
        {
          "name": "stdout",
          "output_type": "stream",
          "text": [
            "[(0, 0.024334591467174586), (1, 0.028855070952625433), (2, 0.011428741501304837), (3, 0.016085317181881525), (4, 0.005668162674924043), (5, 0.011586844416690946), (6, 0.03336782829438101), (7, 0.006763800013036206), (8, 0.004959891968246814), (9, 0.04726693196508997), (10, 0.005380446537627554), (11, 0.014829889945996565), (12, 0.07924492858839828), (13, 0.031126867613616153), (14, 0.006637195215540293), (15, 0.01638215413084274), (16, 0.016672926089305252), (17, 0.014167581912908725), (18, 0.02748253505414346), (19, 0.0065341505985396535), (20, 0.006721022550434679), (21, 0.014847745904581768), (22, 0.019303346018193262), (23, 0.06004992570991528), (24, 0.008556326933632402), (25, 0.05122112530487128), (26, 0.0), (27, 0.01871111334742471), (28, 0.019509404672932166), (29, 0.09721570449638803), (30, 0.049157464840104095), (31, 0.007294698458394407), (32, 0.006213313596356981), (33, 0.038185232973226284), (34, 0.012457016601257245), (35, 0.01770063347686232), (36, 0.031465192514269005), (37, 0.018238753587658394), (38, 0.05810182468273611), (39, 0.03977892121179187), (40, 0.031015708608125768), (41, 0.044144253452437276), (42, 0.018768679273281973), (43, 0.005035793849695177), (44, 0.015089659435914865), (45, 0.018352300103342753), (46, 0.005205240729043942), (47, 0.04052565179009116), (48, 0.017924276693717135), (49, 0.02401832442801095), (50, 0.011588411068446044), (51, 0.005297337502815902), (52, 0.007085127682294273), (53, 0.017739299446406773), (54, 0.010698922600604198), (55, 0.009921219830725527), (56, 0.008482234344123814), (57, 0.03580590037045643), (58, 0.035214390317913624), (59, 0.014226418131659722), (60, 0.019082335296717358), (61, 0.0210278966848514), (62, 0.09306070326450598), (63, 0.015502191394751862), (64, 0.01515790497921526), (65, 0.027664662002503376), (66, 0.0053130549579109565), (67, 0.013449847105588024), (68, 0.035159222802888614), (69, 0.017928871764420283), (70, 0.005004798129664773), (71, 0.020805443817650954), (72, 0.01729506072836494), (73, 0.026113911824485164), (74, 0.015711849740798457), (75, 0.007029090942471002), (76, 0.006015850609393294), (77, 0.004795742920469144), (78, 0.008403027279572135), (79, 0.005006462789907314), (80, 0.0045041698308008905), (81, 0.0047658944898842205), (82, 0.010958339256919077), (83, 0.029363008650976824), (84, 0.04984830928527392), (85, 0.004036945907333224), (86, 0.006283105409726105), (87, 0.004633348445856191), (88, 0.004323720137311991), (89, 0.01554744923237486), (90, 0.013186191939034399), (91, 0.017927845840825872), (92, 0.019857367731806973), (93, 0.01838483705344426), (94, 0.0053560039384857585), (95, 0.0045778772081085176), (96, 0.01842217593989676), (97, 0.05441955911515526), (98, 0.014550412297721613), (99, 0.05233744111123196), (100, 0.019944097419604713), (101, 0.015887501393756238), (102, 0.004785910998055927), (103, 0.09263224910063414), (104, 0.004354210395291149), (105, 0.01301548404223627), (106, 0.009300828161396862), (107, 0.003425066845348681), (108, 0.005172863297886091), (109, 0.021172107505010945), (110, 0.003956371644237792), (111, 0.03120779041476363), (112, 0.06123942009634123), (113, 0.013100316342065932), (114, 0.06706957596152033), (115, 0.047114971314903734), (116, 0.059418481755258115), (117, 0.020964343224773353), (118, 0.004616404575129693), (119, 0.005603365112395976), (120, 0.001982013383885407), (121, 0.01606467339640152), (122, 0.04623689845990675), (123, 0.018151635462083506), (124, 0.019551729931528088), (125, 0.018909613916620518), (126, 0.004318690832008334), (127, 0.017507623071823002), (128, 0.014939032115168598), (129, 0.026902453985865268), (130, 0.018018975235389714), (131, 0.0049660796885450656), (132, 0.04055762266843434), (133, 0.05076820726151267), (134, 0.024130781373798645), (135, 0.011866059905327938), (136, 0.017303226101688426), (137, 0.016019793400234104), (138, 0.0060021533344749006), (139, 0.009324408426349535), (140, 0.006208074340395695), (141, 0.023044882878512165), (142, 0.02850467696346827), (143, 0.00543716041561009), (144, 0.008405488644515438), (145, 0.02572734207604823), (146, 0.0056019997502723025), (147, 0.015204619101088751), (148, 0.0052691274742696454), (149, 0.017848261119993037), (150, 0.005215021123981531), (151, 0.02870609109868239), (152, 0.01541095077814263), (153, 0.0747970521260877), (154, 0.014050673557635666), (155, 0.02744647937972185), (156, 0.0019775788988290457), (157, 0.014808470881533916), (158, 0.03152817065166137), (159, 0.022389160980777534), (160, 0.03317929597159911), (161, 0.01820882989684985), (162, 0.005142737244201735), (163, 0.02904881533502832), (164, 0.015784099222294228), (165, 0.010664975621710043), (166, 0.025132184068535495), (167, 0.004812075784634284), (168, 0.014315814448278737), (169, 0.020859221207164096), (170, 0.031009787941178098), (171, 0.005635779930722635), (172, 0.005033763525329852), (173, 0.004680961904660121), (174, 0.0059942763566501345), (175, 0.019967463240633608), (176, 0.025032219850978102), (177, 0.005284155244558276), (178, 0.004529460239265763), (179, 0.004780836615395249), (180, 0.026747951529227022), (181, 0.010204309509212904), (182, 0.014110203917808274), (183, 0.008650936951850492), (184, 0.05397307928436622), (185, 0.01474175653505796), (186, 0.01339489396546799), (187, 0.004447310486671963), (188, 0.014981225593764077), (189, 0.032661306163296176), (190, 0.004683740838602156), (191, 0.04103349153673183), (192, 0.022616027246858815), (193, 0.011765737725579824), (194, 0.005018013656696391), (195, 0.013367687602023812), (196, 0.04856720578537406), (197, 0.007443359307622468), (198, 0.024259501439133864), (199, 0.021044898809311614), (200, 0.016413669710260825), (201, 0.006349018778577422), (202, 0.005344339701579701), (203, 0.01834270467120443), (204, 0.005263930980826905), (205, 0.00592207482298245), (206, 0.005042979955657724), (207, 0.016928116209290557), (208, 0.006601264887532062), (209, 0.010759413566926822), (210, 0.0052776588386021905), (211, 0.004069702053556225), (212, 0.04726791292783823), (213, 0.040931272817223384), (214, 0.029689766369591454), (215, 0.020201637837918174), (216, 0.005928594635926517), (217, 0.07773261993704123), (218, 0.01625810977397686), (219, 0.012415419152482801), (220, 0.004943720282120773), (221, 0.005233892062237951), (222, 0.005105155792616606), (223, 0.017065518358579047), (224, 0.0173067271587205), (225, 0.006244900254167349), (226, 0.0), (227, 0.004482592360102673), (228, 0.027694737714042822), (229, 0.039875305995274654), (230, 0.008779335652301806), (231, 0.02248741405632753), (232, 0.03626890401439506), (233, 0.0057325682403222365), (234, 0.024149436739727123), (235, 0.05508026382266128), (236, 0.01988267511094626), (237, 0.017337993643644165), (238, 0.004822619271839302), (239, 0.005600341368475372), (240, 0.049396458040174174), (241, 0.023319819816804296), (242, 0.005302609534320166), (243, 0.016869147093878198), (244, 0.009911732519133873), (245, 0.01330735231827189), (246, 0.01670269222274029), (247, 0.03443455836906609), (248, 0.004971450230996738), (249, 0.020710169648012675), (250, 0.019698955476031704), (251, 0.05470856251965438), (252, 0.01466213150202049), (253, 0.062160197127845845), (254, 0.025593554000521726), (255, 0.0033166923185303), (256, 0.06448811034881204), (257, 0.0413752109947033), (258, 0.005565297643407024), (259, 0.019528429226501796), (260, 0.01862191303189524), (261, 0.023470995598944812), (262, 0.05606456017095016), (263, 0.024627213522818228), (264, 0.004865166688685163), (265, 0.020888014424836815), (266, 0.00792269994226413), (267, 0.007605057374355323), (268, 0.013599986708253079), (269, 0.02614484974939666), (270, 0.0057471906644148306), (271, 0.02196814760193541), (272, 0.014076137138129831), (273, 0.005072477900499885), (274, 0.02073648508897704), (275, 0.0058377636099508756), (276, 0.0016893243307675714), (277, 0.004322879713719159), (278, 0.00485140202185271), (279, 0.011067989755920661), (280, 0.005007479395647298), (281, 0.007743283240698959), (282, 0.004282792603230992), (283, 0.00491283129615352), (284, 0.05183129745934236), (285, 0.005234507718241508), (286, 0.005184491467503318), (287, 0.006678745481227962), (288, 0.028673798977487876), (289, 0.004676448115827118), (290, 0.020168550336483324), (291, 0.002152890199647273), (292, 0.04169965779152319), (293, 0.020752094034983983), (294, 0.0152626729426352), (295, 0.11867453576891537), (296, 0.02788575068489418), (297, 0.021839497571690063), (298, 0.01755848686763034), (299, 0.01437889677037788), (300, 0.016607466520518293), (301, 0.017758676690090496), (302, 0.0044354547824587255), (303, 0.02444872011447838), (304, 0.004655742897161688), (305, 0.015606860523742754), (306, 0.017217065660346517), (307, 0.019327539629063046), (308, 0.00536004207144302), (309, 0.004317714803098697), (310, 0.021447420651572624), (311, 0.005123717261164472), (312, 0.029485036211246613), (313, 0.0022852017877600887), (314, 0.004120468324029468), (315, 0.015139611873470732), (316, 0.019486975252163394), (317, 0.029306527333713073), (318, 0.026759918578017617), (319, 0.0019568150260772586), (320, 0.02023468422670624), (321, 0.0075679674813422665), (322, 0.01998565954352962), (323, 0.026320795156328333), (324, 0.05330991581311819), (325, 0.05948208213971953), (326, 0.004529185002739829), (327, 0.0035104598724925314), (328, 0.009293627282258396), (329, 0.004043383921801004), (330, 0.02421186137768471), (331, 0.03208927231434267), (332, 0.02668361962261053), (333, 0.00494581083586935), (334, 0.00483435085421151), (335, 0.08033387553462813), (336, 0.015247659263297414), (337, 0.007816920397819666), (338, 0.0018036484771888398), (339, 0.022231897351824067), (340, 0.004367881280802899), (341, 0.004544810224494058), (342, 0.021964876372938598), (343, 0.015081616497221671), (344, 0.005109172371105496), (345, 0.022147590104116925), (346, 0.005030806134302488), (347, 0.005448851622349622), (348, 0.023139313571980832), (349, 0.004923232304101639), (350, 0.02422680510302321), (351, 0.0020282838361370013), (352, 0.00371249660869874), (353, 0.025194139841965203), (354, 0.006862618627735063), (355, 0.025891606079893527), (356, 0.004537822526422844), (357, 0.014957712919418224), (358, 0.015559858077927827), (359, 0.020839081216640354), (360, 0.02808297993460523), (361, 0.02356252667368632), (362, 0.04949636498118369), (363, 0.02052620265436962), (364, 0.005258432211614633), (365, 0.0031045622010690108), (366, 0.002443070385249805), (367, 0.008311562507001453), (368, 0.006141575815396562), (369, 0.005467068995539259), (370, 0.0044448071864896035), (371, 0.01989336259819795), (372, 0.025179124797537457), (373, 0.016283870099053112), (374, 0.019487670993391607), (375, 0.021407466099841475), (376, 0.014105276108458298), (377, 0.017007511142940746), (378, 0.004445641291425519), (379, 0.0044353532794207395), (380, 0.029182962058236204), (381, 0.0019626903529692827), (382, 0.004740125584954956), (383, 0.015998074139971535), (384, 0.06005228899908076), (385, 0.004350345358822791), (386, 0.006199203045123973), (387, 0.01341099111712184), (388, 0.009448615869344115), (389, 0.01111227816102072), (390, 0.012820093700915497), (391, 0.004090828343571964), (392, 0.029508898526748043), (393, 0.020810765015408485), (394, 0.02567948124792796), (395, 0.02335046748027574), (396, 0.004341867553213636), (397, 0.0055147648911532815), (398, 0.024890445208409197), (399, 0.005444314124238148), (400, 0.004522554588397478), (401, 0.018745217585847705), (402, 0.01717422023723075), (403, 0.00419062459286679), (404, 0.04617394988206226), (405, 0.004564807104400544), (406, 0.027975477766322643), (407, 0.01648171273837082), (408, 0.049121236946873426), (409, 0.004855302655962335), (410, 0.04228621224968088), (411, 0.04251284514804476), (412, 0.022858255422288164), (413, 0.006355496963283372), (414, 0.023240412387823865), (415, 0.07132509606436202), (416, 0.017948027052217107), (417, 0.016297173640930668), (418, 0.006155071519362707), (419, 0.015631849926431976), (420, 0.005264704272847912), (421, 0.018533655376799962), (422, 0.023875722971367346), (423, 0.004894115393454902), (424, 0.004991942844928147), (425, 0.005144364185507504), (426, 0.015725035111976135), (427, 0.005472103751983027), (428, 0.06175620284167056), (429, 0.05658237298809895), (430, 0.00546332664211004), (431, 0.017913450911191287), (432, 0.00400316012430436), (433, 0.005182636808631409), (434, 0.004919834396193757), (435, 0.00446102564663617), (436, 0.020950153751213167), (437, 0.0827051946233314), (438, 0.021153594435713782), (439, 0.01646569012078479), (440, 0.017258409142930257), (441, 0.004750478067877909), (442, 0.005973808578338858), (443, 0.004949836572986593), (444, 0.05968250925935388), (445, 0.002094673269153965), (446, 0.016064189659217673), (447, 0.002105321402663025), (448, 0.004792771816752471), (449, 0.004555934833706528), (450, 0.005357571477565232), (451, 0.011557891744151831), (452, 0.012266866875202544), (453, 0.038665010450442225), (454, 0.06243284878679174), (455, 0.027615437727764876), (456, 0.019653353380614847), (457, 0.015584972962072265), (458, 0.005866736310577517), (459, 0.06363292973094581), (460, 0.013648984599321137), (461, 0.03723864299373823), (462, 0.006273044030581549), (463, 0.002318813413162852), (464, 0.05143797856198472), (465, 0.05501230403961206), (466, 0.0052491725025485825), (467, 0.005306849082052215), (468, 0.0033558253381551825), (469, 0.01719808980145557), (470, 0.029367152046544213), (471, 0.03535845822488092), (472, 0.002143236405317956), (473, 0.004234483464974296), (474, 0.015394336330889892), (475, 0.020977621765321176), (476, 0.027231211841784148), (477, 0.032596269240560735), (478, 0.006109062706490551), (479, 0.020266662228081878), (480, 0.023476672638509416), (481, 0.005344599264225422), (482, 0.02155715038318848), (483, 0.01946393274992508), (484, 0.005765244227560381), (485, 0.004758702531380468), (486, 0.024657041788419244), (487, 0.005256878538301652), (488, 0.02726488349629199), (489, 0.004325642239433382), (490, 0.0045919819012771096), (491, 0.01392133053585536), (492, 0.018613478328764012), (493, 0.009113189777087433), (494, 0.04074637777617671), (495, 0.001927547393686129), (496, 0.012690346360315172), (497, 0.028323368241253456), (498, 0.09012132089573316), (499, 0.009574973276976454), (500, 0.05190394758838275), (501, 0.016266343879254106), (502, 0.0062206219086351645), (503, 0.0156948738265389), (504, 0.024481517485710775), (505, 0.03074309214648728), (506, 0.0058575399966906555), (507, 0.012655246912903595), (508, 0.005350887952170058), (509, 0.044106084742669555), (510, 0.013761415368822014), (511, 0.005513461996017016), (512, 0.012281230674081257), (513, 0.004359442304469089), (514, 0.005172112208560439), (515, 0.035528627354746725), (516, 0.02129259097599845), (517, 0.004721413295674649), (518, 0.014487241368462033), (519, 0.06724166831676989), (520, 0.008475878601568922), (521, 0.004878325765639632), (522, 0.029981877453640796), (523, 0.0018384296500246688), (524, 0.0063172557686698595), (525, 0.005267320823359252), (526, 0.005137410572130569), (527, 0.005001332912507525), (528, 0.004590682451767898), (529, 0.028635217263318028), (530, 0.005893330353820895), (531, 0.013925957813305533), (532, 0.00481231964834123), (533, 0.030999049293140346), (534, 0.004782964179546833), (535, 0.006069898315786126), (536, 0.011094654032722258), (537, 0.00495325854657852), (538, 0.02331141292140726), (539, 0.005462484378498822), (540, 0.04310181247889533), (541, 0.0228658128571749), (542, 0.007625920210102988), (543, 0.006968252495333502), (544, 0.03760435597647742), (545, 0.004973889655902834), (546, 0.023142164837063335), (547, 0.0043404812108722626), (548, 0.053602558977460704), (549, 0.005921544409582627), (550, 0.009554806877244516), (551, 0.02938180872973594), (552, 0.013819435802815454), (553, 0.04730315875107625), (554, 0.014149879428910266), (555, 0.0071482434220156935), (556, 0.004434101376327573), (557, 0.004764148702202646), (558, 0.01590641072728632), (559, 0.005294588901181845), (560, 0.0066016873204868), (561, 0.04488426010564961), (562, 0.13782990767200964), (563, 0.0045419928683653275), (564, 0.02146129662469079), (565, 0.004265715429438624), (566, 0.005044888046323805), (567, 0.005255129404850471), (568, 0.047361987615747995), (569, 0.06113793839645419), (570, 0.018893143368554972), (571, 0.0048365837980508825), (572, 0.016681481237458405), (573, 0.0534846983717724), (574, 0.005671270057744653), (575, 0.0065358902376244955), (576, 0.013538015024905148), (577, 0.04040440821222879), (578, 0.005048070164808885), (579, 0.004317682801539955), (580, 0.020123742478095123), (581, 0.014291161192473966), (582, 0.021954807448697527), (583, 0.017821447433719207), (584, 0.005404963662903673), (585, 0.031120247019819313), (586, 0.004292128248740612), (587, 0.01587897530956469), (588, 0.014396279590298006), (589, 0.06362267913831207), (590, 0.0), (591, 0.0021810271147869728), (592, 0.01925744451845024), (593, 0.06239916499546119), (594, 0.019280897082726383), (595, 0.0), (596, 0.01686018638363156), (597, 0.0045967126077299785), (598, 0.0047290335449349605), (599, 0.02031647005124612), (600, 0.015136415453165306), (601, 0.016278233081833873), (602, 0.05692360022262963), (603, 0.00848694684176146), (604, 0.014641037656245404), (605, 0.014770550242847616), (606, 0.019030628167593967), (607, 0.005543361465298782), (608, 0.005142337598243898), (609, 0.013106609702564023), (610, 0.03136789959319589), (611, 0.030887466363342237), (612, 0.0205451567441021), (613, 0.008976314277755752), (614, 0.004937637664840475), (615, 0.016511713112206977), (616, 0.024749989071588624), (617, 0.02302681795414504), (618, 0.019064177129656294), (619, 0.004292782054139502), (620, 0.004389715855299708), (621, 0.0018708811453621943), (622, 0.012636318267225548), (623, 0.01817321591694791), (624, 0.004468140513175521), (625, 0.012782824356059305), (626, 0.004930395198113713), (627, 0.004732793913044718), (628, 0.05015196792815299), (629, 0.017342228037826576), (630, 0.018453298730718416), (631, 0.028467212848112697), (632, 0.025122524710743478), (633, 0.015097898433610677), (634, 0.007711897612239925), (635, 0.004974830084699049), (636, 0.005609380257512041), (637, 0.002525205978236085), (638, 0.0), (639, 0.03476079381250036), (640, 0.025312382551256073), (641, 0.005186750547253251), (642, 0.035892987633776324), (643, 0.020926677956809504), (644, 0.019358682188854205), (645, 0.003970870150643083), (646, 0.01512718937463563), (647, 0.010034279318344247), (648, 0.07895487162832236), (649, 0.006924339529644795), (650, 0.006349733106517421), (651, 0.024853407019065018), (652, 0.00465171606591104), (653, 0.0019102780208294391), (654, 0.013554660153948945), (655, 0.016135610533629552), (656, 0.0018170635684274666), (657, 0.025892157946505654), (658, 0.00913558498844861), (659, 0.010159822499078567), (660, 0.0044131015657141535), (661, 0.005721565800794214), (662, 0.04537746935653594), (663, 0.005621070824130164), (664, 0.005493434835851169), (665, 0.005731842442583038), (666, 0.005144791882536543), (667, 0.03561331987652325), (668, 0.020271113099178367), (669, 0.02465639064136528), (670, 0.005749205161119222), (671, 0.02312420692981107), (672, 0.029137039178053), (673, 0.0037651363064576168), (674, 0.019348890743364988), (675, 0.016707187286663067), (676, 0.0353083816663871), (677, 0.001850599881040038), (678, 0.004648873053303561), (679, 0.017540638719245643), (680, 0.025198468381520386), (681, 0.004226969322815435), (682, 0.00758829641934115), (683, 0.0081266618280484), (684, 0.07076933812278699), (685, 0.03028674830437327), (686, 0.016223257142113735), (687, 0.005042920138757396), (688, 0.004859760483999125), (689, 0.0041164806683489956), (690, 0.0581383490734838), (691, 0.019364738972122788), (692, 0.00442732529922204), (693, 0.033683845835071814), (694, 0.022415098589066262), (695, 0.018089313549036198), (696, 0.008139542116989895), (697, 0.01633199657245158), (698, 0.050846171133202424), (699, 0.016058028808560543), (700, 0.02155424543458625), (701, 0.02262803378953721), (702, 0.004658902430501709), (703, 0.005176588258167748), (704, 0.007858542888242866), (705, 0.07891380838182546), (706, 0.03030054332356468), (707, 0.013936128599892706), (708, 0.007783817589094703), (709, 0.029878083401561072), (710, 0.004216518460904703), (711, 0.008629860671907573), (712, 0.004594027614389372), (713, 0.013528972575814447), (714, 0.015221586476372003), (715, 0.0243178185426899), (716, 0.026715320061698133), (717, 0.017675940239808043), (718, 0.007042475858797888), (719, 0.015344964840917089), (720, 0.0048853922486955855), (721, 0.00983554851919042), (722, 0.0045271770205826765), (723, 0.026662819946725543), (724, 0.005078996727676091), (725, 0.009496304588014086), (726, 0.08945786919789984), (727, 0.01325470505625369), (728, 0.01325579394375814), (729, 0.007745106018993498), (730, 0.04679679435473235), (731, 0.027526283285785033), (732, 0.013106913052418893), (733, 0.004829147965279267), (734, 0.0048882589099744946), (735, 0.023661292659816997), (736, 0.004774105378893512), (737, 0.027380611821591787), (738, 0.02555062659451806), (739, 0.006524136452016012), (740, 0.006559546681425161), (741, 0.016136609289517125), (742, 0.022520215013200798), (743, 0.016388368273774948), (744, 0.004611692959134438), (745, 0.016963343479036583), (746, 0.0065401019592249724), (747, 0.01446898940123044), (748, 0.07585979493875483), (749, 0.014194976473982112), (750, 0.012988243956248376), (751, 0.005700551268011182), (752, 0.021458670469327534), (753, 0.0428564225035193), (754, 0.007327607402372819), (755, 0.03834799252450702), (756, 0.036979855662105966), (757, 0.004805096948665353), (758, 0.022009603832872614), (759, 0.07304026651729374), (760, 0.03249404785502176), (761, 0.004729412783301039), (762, 0.005026840644402508), (763, 0.05518625814316835), (764, 0.03806900960373306), (765, 0.02308387802618872), (766, 0.014693995455392107), (767, 0.015558840409593648), (768, 0.10185969117874488), (769, 0.004846959803933937), (770, 0.06889814819758056), (771, 0.0647908717244094), (772, 0.02181702301685346), (773, 0.02956962849149785), (774, 0.016364762073274808), (775, 0.022538710561814064), (776, 0.004468585199659703), (777, 0.005009173167584816), (778, 0.008272718269697308), (779, 0.004896547099902469), (780, 0.013710180378427797), (781, 0.005179482176645621), (782, 0.004670935653539971), (783, 0.06332363762062204), (784, 0.007557019543269092), (785, 0.051754080310041195), (786, 0.005163547641432124), (787, 0.02738958340731003), (788, 0.005680012744504718), (789, 0.017464982991522698), (790, 0.03632657449566509), (791, 0.005315556078134653), (792, 0.005822671069893802), (793, 0.016095623921724995), (794, 0.02049393370630785), (795, 0.005261076856904853), (796, 0.00958667921548284), (797, 0.016516200441181638), (798, 0.01210582324583426), (799, 0.0), (800, 0.030632473754448657), (801, 0.018847523319526244), (802, 0.017173668992127), (803, 0.006169853214065768), (804, 0.005845808084188296), (805, 0.0285086887909963), (806, 0.004559323811974074), (807, 0.039871093378139044), (808, 0.013975366833027024), (809, 0.025008682503936668), (810, 0.01645695122902996), (811, 0.005031086180009172), (812, 0.00445162895904244), (813, 0.0052245000467069135), (814, 0.011803724389364157), (815, 0.003806468960231431), (816, 0.00444102960449905), (817, 0.004350262660635121), (818, 0.007221235553107523), (819, 0.0020094417510451643), (820, 0.016346209021950688), (821, 0.005333469852227947), (822, 0.0050712529071562035), (823, 0.03570913629924459), (824, 0.005001694546118344), (825, 0.017983490821497798), (826, 0.05989934691093685), (827, 0.022407629375275566), (828, 0.0043934188496831195), (829, 0.004919634589049977), (830, 0.008363547871155397), (831, 0.025721896062416746), (832, 0.035720979157295614), (833, 0.017766306447955998), (834, 0.027913943828059083), (835, 0.028992304896558345), (836, 0.013590344886081542), (837, 0.0075321177830744625), (838, 0.004463644083116669), (839, 0.006015224726876243), (840, 0.008877647906221826), (841, 0.015067735579689226), (842, 0.07819604599863231), (843, 0.00463237919020468), (844, 0.0161538274961202), (845, 0.0050114205046319325), (846, 0.043193327610534266), (847, 0.0019199186564100204), (848, 0.034290493690523824), (849, 0.09806816598040083), (850, 0.020763961428604368), (851, 0.001754527894778416), (852, 0.06593020988419315), (853, 0.038637388045435206), (854, 0.005469646353199821), (855, 0.055737688961277364), (856, 0.01355317971667319), (857, 0.030057589453595428), (858, 0.005961941942358095), (859, 0.02059580917745966), (860, 0.030225848894933995), (861, 0.0066783950512391745), (862, 0.034079406639201136), (863, 0.0020593820489581134), (864, 0.0588498811776702), (865, 0.01815131570369523), (866, 0.023817429147675498), (867, 0.001857601973655963), (868, 0.01412869498199648), (869, 0.048605489899479534), (870, 0.004664223061273694), (871, 0.0039314140011372884), (872, 0.01870846083350815), (873, 0.007766658704981428), (874, 0.01202049651635299), (875, 0.006024846200684511), (876, 0.017530175207440372), (877, 0.04915226548269579), (878, 0.054856978703830425), (879, 0.04445000270964075), (880, 0.024972567334835702), (881, 0.00558542106029343), (882, 0.004780124310247382), (883, 0.007265609971131538), (884, 0.004183027484375915), (885, 0.02386050819618144), (886, 0.025279220218471756), (887, 0.0044829868318093), (888, 0.04394185756880692), (889, 0.01997114035402548), (890, 0.02004485534018637), (891, 0.08964365525755236), (892, 0.013040997578426253), (893, 0.0), (894, 0.01455098719616295), (895, 0.005317332426317521), (896, 0.02171573511148732), (897, 0.019112556896901698), (898, 0.02167421034771733), (899, 0.052394804362764766), (900, 0.025786451775737268), (901, 0.014144560259621967), (902, 0.00507474169981669), (903, 0.05101345055961001), (904, 0.032744377709523945), (905, 0.019898981411009112), (906, 0.011788160751801988), (907, 0.04292640156841465), (908, 0.004953688298951655), (909, 0.007282953608777895), (910, 0.005119942731784343), (911, 0.00526118508492683), (912, 0.0708805420808212), (913, 0.0063530759410270875), (914, 0.018399821646155133), (915, 0.061944658650722795), (916, 0.004882335417293432), (917, 0.015656920729284013), (918, 0.03841399504022675), (919, 0.011479202662387462), (920, 0.008062928618687938), (921, 0.004332874273544429), (922, 0.007096542152533329), (923, 0.004486064550543919), (924, 0.007210443098730266), (925, 0.04841882062837692), (926, 0.00921306889865951), (927, 0.027076707006854106), (928, 0.11604577353078498), (929, 0.05149201285465292), (930, 0.044859406914937686), (931, 0.004940344998184841), (932, 0.005483243707831641), (933, 0.004734310150451168), (934, 0.004388417474880791), (935, 0.01548725092561477), (936, 0.020198618507477437), (937, 0.021294629024015504), (938, 0.004121755489292294), (939, 0.018830517236649705), (940, 0.004227866201258636), (941, 0.021746118817621528), (942, 0.008911453581537125), (943, 0.007004492799618692), (944, 0.030890656001197645), (945, 0.0022090475775855393), (946, 0.020405638132452684), (947, 0.018787968340328552), (948, 0.05091839502612509), (949, 0.005467099136596892), (950, 0.03828090900265512), (951, 0.02143581921177258), (952, 0.04321723162503782), (953, 0.04025389059309839), (954, 0.018178163867810564), (955, 0.021446086963494263), (956, 0.0), (957, 0.04279787201901889), (958, 0.11005709462308426), (959, 0.014517116907914886), (960, 0.004786737197447002), (961, 0.006539740704429375), (962, 0.004506419046535595), (963, 0.0016802652246920753), (964, 0.0375910075521639), (965, 0.013445360117355538), (966, 0.026503466957006932), (967, 0.016146396359581417), (968, 0.00473963366393978), (969, 0.004628638256267835), (970, 0.007099715884903316), (971, 0.030910131235540775), (972, 0.00500525149543736), (973, 0.005388298101032536), (974, 0.017158805803778217), (975, 0.014883502288110417), (976, 0.005745900073917614), (977, 0.004497373694413108), (978, 0.024105598541377442), (979, 0.03937239834277173), (980, 0.031556614113699755), (981, 0.019819999452469476), (982, 0.026635472725329082), (983, 0.026883930022220642), (984, 0.004936874159820612), (985, 0.006224745180652677), (986, 0.014167124355357066), (987, 0.021176423982284205), (988, 0.0036457253712262228), (989, 0.005195387872378871), (990, 0.007273778634836136), (991, 0.0037870968069750035), (992, 0.017140405924491914), (993, 0.008612819801104753), (994, 0.016056056918510937), (995, 0.01668930668855554), (996, 0.02232408960896221), (997, 0.01961370254398289), (998, 0.018759326542406588), (999, 0.004674479378649718), (1000, 0.018399324675235095), (1001, 0.056486205429989965), (1002, 0.005073116317686275), (1003, 0.03643397060307063), (1004, 0.006163541189277525), (1005, 0.05773556057972045), (1006, 0.00643728375945877), (1007, 0.004463351730574009), (1008, 0.010234981662936954), (1009, 0.0019382310677010968), (1010, 0.05419575877404641), (1011, 0.027801306686464012), (1012, 0.016967413218510027), (1013, 0.035828916994116035), (1014, 0.0053528039307162), (1015, 0.016783219999464794), (1016, 0.004377865393252059), (1017, 0.01809262260465684), (1018, 0.005927127250476538), (1019, 0.005029819219046125), (1020, 0.003990855289064946), (1021, 0.005932300086820138), (1022, 0.0018669484106321205), (1023, 0.013021230151509456), (1024, 0.018411684174023408), (1025, 0.00456640076572005), (1026, 0.005308713654939326), (1027, 0.05907707157748929), (1028, 0.020391034733705512), (1029, 0.05736434219700915), (1030, 0.03134733817953688), (1031, 0.013928002559246222), (1032, 0.0049912375193049445), (1033, 0.03405297619953842), (1034, 0.03560127849178918), (1035, 0.057147899136940204), (1036, 0.02277269163169393), (1037, 0.00602000691037931), (1038, 0.04326784403914148), (1039, 0.022123339409933475), (1040, 0.012457841434257714), (1041, 0.005292920330132762), (1042, 0.004913571404868771), (1043, 0.004452068895972783), (1044, 0.02815516642095227), (1045, 0.0), (1046, 0.005762797386733318), (1047, 0.005016893662759727), (1048, 0.04221619782548708), (1049, 0.016456539580645812), (1050, 0.004035147839936798), (1051, 0.019418672090639653), (1052, 0.021047462795869498), (1053, 0.005000473623557822), (1054, 0.062012186641454574), (1055, 0.025112402882449442), (1056, 0.08030003133205366), (1057, 0.05739244941261351), (1058, 0.05911022107149287), (1059, 0.04471347498516063), (1060, 0.015440518055448884), (1061, 0.028073127174497958), (1062, 0.0036843801537889114), (1063, 0.015919065202682034), (1064, 0.004800100002962198), (1065, 0.025925038807682224), (1066, 0.018771900367263925), (1067, 0.0071628024035249455), (1068, 0.015676805687850338), (1069, 0.004380449956258234), (1070, 0.007583594572843437), (1071, 0.028090927228348876), (1072, 0.01605121071280504), (1073, 0.008184425883003438), (1074, 0.04798834427840959), (1075, 0.01719028780932947), (1076, 0.007648664648912269), (1077, 0.00456972355766191), (1078, 0.04699061294816779), (1079, 0.02552586225411157), (1080, 0.018406734847755558), (1081, 0.01471772384773533), (1082, 0.014606770020617013), (1083, 0.052115313166914534), (1084, 0.015655364153454487), (1085, 0.04172546785340317), (1086, 0.02279370326174107), (1087, 0.03649888852483088), (1088, 0.01736692479281824), (1089, 0.004802066698880756), (1090, 0.047282729130300336), (1091, 0.017466033942909975), (1092, 0.005018628625951213), (1093, 0.005473024221771655), (1094, 0.024589841216000927), (1095, 0.024878770333463113), (1096, 0.0050267673922802444), (1097, 0.04716020631930529), (1098, 0.006126297733618868), (1099, 0.042557249872461615), (1100, 0.026641269567964677), (1101, 0.019212572297676995), (1102, 0.012947337104550502), (1103, 0.018763762120280015), (1104, 0.025997764365275757), (1105, 0.012241164138350453), (1106, 0.00401630980131506), (1107, 0.042962020101378534), (1108, 0.01961896463729987), (1109, 0.004932580279745578), (1110, 0.05285127674771044), (1111, 0.014085608845808052), (1112, 0.02280497930571246), (1113, 0.01186659670369588), (1114, 0.04976990058049236), (1115, 0.004708314380744176), (1116, 0.006710949774010084), (1117, 0.0054004497021855665), (1118, 0.016583463157426502), (1119, 0.0), (1120, 0.011974766523561485), (1121, 0.043660739972472856), (1122, 0.0020057336018120715), (1123, 0.010805707385037545), (1124, 0.023669177843547107), (1125, 0.0017340097632167137), (1126, 0.00599595276887986), (1127, 0.06654431557991827), (1128, 0.035585263459573885), (1129, 0.007938545097232167), (1130, 0.01485907840201998), (1131, 0.03593487660452054), (1132, 0.08646476738364564), (1133, 0.004502790744827515), (1134, 0.049464751465909965), (1135, 0.028135105085960833), (1136, 0.005340493829569241), (1137, 0.01964942190193144), (1138, 0.043533584095644506), (1139, 0.026748873385845133), (1140, 0.004659024890428579), (1141, 0.019754784444253246), (1142, 0.026569441816478016), (1143, 0.05845547483586482), (1144, 0.004594565804293581), (1145, 0.005951719144573642), (1146, 0.021685291674356073), (1147, 0.024501960848253228), (1148, 0.025158490497217165), (1149, 0.017703124502987545), (1150, 0.00803257668597804), (1151, 0.004685538606777873), (1152, 0.004464804747033784), (1153, 0.013364249702108352), (1154, 0.012049423678775286), (1155, 0.004043699144521699), (1156, 0.021991200724419367), (1157, 0.007715351265931892), (1158, 0.0038471945155407073), (1159, 0.012752740857358124), (1160, 0.020055045490210834), (1161, 0.08629756395560517), (1162, 0.004191003138877972), (1163, 0.015024926112863074), (1164, 0.013159909777098605), (1165, 0.03164315305759423), (1166, 0.033781946984825006), (1167, 0.009406909910682089), (1168, 0.007592553554202734), (1169, 0.0393017591274966), (1170, 0.004810101016613144), (1171, 0.004127571982816685), (1172, 0.014632000931216523), (1173, 0.004857681717001903), (1174, 0.005619242388232912), (1175, 0.009207664923650926), (1176, 0.004889973433123254), (1177, 0.02119450584044483), (1178, 0.02509092755208669), (1179, 0.04351661694479722), (1180, 0.01447690451580937), (1181, 0.004357422743870615), (1182, 0.014310606536552993), (1183, 0.03089856555396171), (1184, 0.007170532177838913), (1185, 0.0187092636081719), (1186, 0.004695525556385128), (1187, 0.003951773983475482), (1188, 0.01442278680909299), (1189, 0.00472465791611748), (1190, 0.012968425157296458), (1191, 0.005010232213167123), (1192, 0.02222867079926885), (1193, 0.005210361276991515), (1194, 0.004988981798385311), (1195, 0.006066506056239846), (1196, 0.011173025177329977), (1197, 0.005831419754772209), (1198, 0.01694395403273788), (1199, 0.06944958009477362), (1200, 0.01846767715126938), (1201, 0.026053738279675748), (1202, 0.004814859835362446), (1203, 0.004388294432119008), (1204, 0.003808246694595713), (1205, 0.004956889216955683), (1206, 0.004350943056390215), (1207, 0.01623035287443108), (1208, 0.021562372176559458), (1209, 0.013346520660947355), (1210, 0.01261396226491692), (1211, 0.0057914035421339945), (1212, 0.017486435306027358), (1213, 0.004505466935711242), (1214, 0.0046374479227202295), (1215, 0.01581333192432818), (1216, 0.021686688927207105), (1217, 0.05165439118924826), (1218, 0.01469606848563186), (1219, 0.034684117855442016), (1220, 0.0075491122855546496), (1221, 0.06150278947519177), (1222, 0.005984196246022748), (1223, 0.004714078541036377), (1224, 0.029604949808957896), (1225, 0.019477271926040617), (1226, 0.004846067467960964), (1227, 0.01913054539308562), (1228, 0.005415979980032765), (1229, 0.029348063406279854), (1230, 0.03304926909914756), (1231, 0.004616323639597878), (1232, 0.00490369666984212), (1233, 0.023143331482708748), (1234, 0.015212115772768105), (1235, 0.02287272745795653), (1236, 0.005422175384972636), (1237, 0.017977307559098925), (1238, 0.04151107666534878), (1239, 0.004477689637536127), (1240, 0.0017539343093712343), (1241, 0.006385145230399639), (1242, 0.007537778093523327), (1243, 0.0050238159672772445), (1244, 0.030030444090697585), (1245, 0.021221051939810623), (1246, 0.02801883020908526), (1247, 0.04639601068416559), (1248, 0.002374526201014579), (1249, 0.00533388699502052), (1250, 0.03433519022119045), (1251, 0.010675125117625958), (1252, 0.017060260231377043), (1253, 0.005279260247324619), (1254, 0.0048642912305458304), (1255, 0.04715495670710682), (1256, 0.028315578115590666), (1257, 0.004006123109660576), (1258, 0.060081503816813216), (1259, 0.030252758228082374), (1260, 0.027429367577017347), (1261, 0.04858011434309022), (1262, 0.017395901423595435), (1263, 0.0049524825187671154), (1264, 0.012214044260356025), (1265, 0.005119782715714743), (1266, 0.04614856035331598), (1267, 0.00454336662367184), (1268, 0.021959596797928194), (1269, 0.017092018431184568), (1270, 0.05358228237415094), (1271, 0.05320998069612594), (1272, 0.05236914083787049), (1273, 0.02921272961072423), (1274, 0.04625037931373051), (1275, 0.014357586467926044), (1276, 0.005453071484020674), (1277, 0.0), (1278, 0.00557601268976946), (1279, 0.018188834099511258), (1280, 0.013591480449685982), (1281, 0.029807972390433483), (1282, 0.005254364982710269), (1283, 0.0270145950547706), (1284, 0.005002820569261291), (1285, 0.013227731304119406), (1286, 0.02738036089610248), (1287, 0.0069377606197840586), (1288, 0.008085501320358878), (1289, 0.056023068864544244), (1290, 0.0050319741523005), (1291, 0.002116862653614102), (1292, 0.005313493265530094), (1293, 0.012123442844127214), (1294, 0.005262662638622198), (1295, 0.0058545114745923235), (1296, 0.03199528786040402), (1297, 0.006241472851778499), (1298, 0.007783264950364278), (1299, 0.019434732011500755), (1300, 0.014085185924065886), (1301, 0.027736571256000347), (1302, 0.005682124235969155), (1303, 0.004180799365250243), (1304, 0.011660627342604863), (1305, 0.006992333218832933), (1306, 0.06400009838347478), (1307, 0.012942712855876285), (1308, 0.005148019028187142), (1309, 0.004817891688150973), (1310, 0.015899588604647026), (1311, 0.007751068776422649), (1312, 0.027817342801471558), (1313, 0.01825012557381254), (1314, 0.08630304111081563), (1315, 0.021447811232737448), (1316, 0.004720892160861094), (1317, 0.04928916702547758), (1318, 0.019999233176123017), (1319, 0.004944664070307386), (1320, 0.015000824856575355), (1321, 0.01799503410782216), (1322, 0.005727781824666286), (1323, 0.015164184351923446), (1324, 0.016420843626808308), (1325, 0.04663346018930093), (1326, 0.01850931792591945), (1327, 0.011563119228177812), (1328, 0.01474004775270583), (1329, 0.06523315825514063), (1330, 0.01938850950156319), (1331, 0.007571742340460524), (1332, 0.003275865254240229), (1333, 0.006798783443113539), (1334, 0.021025507416705388), (1335, 0.018337375436022783), (1336, 0.024767617157718032), (1337, 0.03633888623230897), (1338, 0.042487659416079036), (1339, 0.005039087843985826), (1340, 0.013877079935191416), (1341, 0.0251234049737049), (1342, 0.04021111256409002), (1343, 0.0018569000351712278), (1344, 0.02006187130892228), (1345, 0.014071313576889061), (1346, 0.0184623272229668), (1347, 0.01517055241387058), (1348, 0.007596142525077668), (1349, 0.002143698647056468), (1350, 0.02123879304183263), (1351, 0.024046867511324097), (1352, 0.0060350578470942055), (1353, 0.01838566652201685), (1354, 0.005080406658651571), (1355, 0.022658004831410783), (1356, 0.0391566877931286), (1357, 0.007720288186800677), (1358, 0.015838345202921735), (1359, 0.008034454575168184), (1360, 0.01728996062941612), (1361, 0.013474244372609431), (1362, 0.05122769867753587), (1363, 0.024094685600561116), (1364, 0.013467052803891105), (1365, 0.01698216005235379), (1366, 0.04160485270057518), (1367, 0.007058049490393578), (1368, 0.005583465233980896), (1369, 0.01777226573376538), (1370, 0.004285784933472182), (1371, 0.023249223271372008), (1372, 0.04785343025801113), (1373, 0.0), (1374, 0.004703884029815539), (1375, 0.022181356807418163), (1376, 0.014124517929249542), (1377, 0.08750376574927976), (1378, 0.015029336547922436), (1379, 0.004990308672644333), (1380, 0.02699286328914193), (1381, 0.0059795258226890725), (1382, 0.02417645651062228), (1383, 0.0043937256805550605), (1384, 0.04804437017890861), (1385, 0.013039390322019097), (1386, 0.024228141657364078), (1387, 0.043864852597484114), (1388, 0.004713438820904425), (1389, 0.0050836414508477305), (1390, 0.027799982588615744), (1391, 0.017840199263479118), (1392, 0.008492224349519416), (1393, 0.004488087705985673), (1394, 0.025005643613969324), (1395, 0.002165738500885265), (1396, 0.059290382620719145), (1397, 0.005593051386233185), (1398, 0.052675327896929136), (1399, 0.016880764567168166), (1400, 0.007810564117518938), (1401, 0.005560554378598044), (1402, 0.03554055857750177), (1403, 0.003978626505677196), (1404, 0.02539841590213178), (1405, 0.0019111190581821344), (1406, 0.00465950026107954), (1407, 0.005798810215207464), (1408, 0.003913905051454277), (1409, 0.00494744529974063), (1410, 0.025895749881992804), (1411, 0.005027005160845831), (1412, 0.02365666038211169), (1413, 0.016442662063608095), (1414, 0.00454804504828233), (1415, 0.0049960782449324), (1416, 0.009236110201030132), (1417, 0.018604284733951877), (1418, 0.012351782990732958), (1419, 0.0021696601824226845), (1420, 0.0017115488065607481), (1421, 0.0199559979595881), (1422, 0.0049813937674088316), (1423, 0.04276370631223898), (1424, 0.004783793285382509), (1425, 0.004802668736976294), (1426, 0.018503233815424524), (1427, 0.009055044931598772), (1428, 0.0061439075180550005), (1429, 0.007752065502033377), (1430, 0.01647799107910756), (1431, 0.07871270743042637), (1432, 0.03054504099749695), (1433, 0.005348477549025191), (1434, 0.021117690766737276), (1435, 0.01333364906825848), (1436, 0.016429794226206045), (1437, 0.0043862808333724745), (1438, 0.004434291298404008), (1439, 0.0296911272405053), (1440, 0.027578993486289897), (1441, 0.04402148327718974), (1442, 0.024769404504038275), (1443, 0.004642749943424331), (1444, 0.019613514185659185), (1445, 0.008291984348106029), (1446, 0.02165756976071498), (1447, 0.005446876339067264), (1448, 0.004041640409961142), (1449, 0.0061015749881543), (1450, 0.03438577581213205), (1451, 0.020286070051786575), (1452, 0.004719992847960621), (1453, 0.0021713155860539164), (1454, 0.0774538337861167), (1455, 0.0046690794404323326), (1456, 0.004593599221499339), (1457, 0.018165977055708424), (1458, 0.01558671196754103), (1459, 0.007772603160955424), (1460, 0.047735099184430564), (1461, 0.02125446856465719), (1462, 0.017606269870797078), (1463, 0.005526482267227541), (1464, 0.020690166854157865), (1465, 0.00543593272498422), (1466, 0.01329405058492852), (1467, 0.015205573050005066), (1468, 0.0), (1469, 0.004202077006624918), (1470, 0.013690667793648898), (1471, 0.020232162238872246), (1472, 0.0214359014129547), (1473, 0.004581706214568965), (1474, 0.018639818160967655), (1475, 0.01581544117491475), (1476, 0.040743038954877596), (1477, 0.004210507586541472), (1478, 0.02049532864020074), (1479, 0.013765993272593466), (1480, 0.0037256034965715227), (1481, 0.01483477406925567), (1482, 0.01693985109216463), (1483, 0.03936241121517667), (1484, 0.02687245121207598), (1485, 0.0381975946998689), (1486, 0.01859769947965485), (1487, 0.004595846062233457), (1488, 0.00923814701776342), (1489, 0.06436533136710754), (1490, 0.004887141140567917), (1491, 0.001684815882750304), (1492, 0.0061164545075170626), (1493, 0.0017398592552941297), (1494, 0.003633919994111699), (1495, 0.004425408679043419), (1496, 0.019633932244562974), (1497, 0.014175622162740542), (1498, 0.005842638950275981), (1499, 0.030900245846117468), (1500, 0.04679556863767781), (1501, 0.0317454137396306), (1502, 0.05011095099426822), (1503, 0.02139080248387958), (1504, 0.019790596097971173), (1505, 0.004778507343386722), (1506, 0.04517505533049895), (1507, 0.004045519968196913), (1508, 0.016346977636843358), (1509, 0.03134491437227884), (1510, 0.05304554528815829), (1511, 0.06777133112330211), (1512, 0.015068530180115346), (1513, 0.004488816552257979), (1514, 0.06530856983412588), (1515, 0.005761213208830815), (1516, 0.019798630192270156), (1517, 0.019181451760397202), (1518, 0.016543569014733334), (1519, 0.038114646622303947), (1520, 0.013464950855719283), (1521, 0.003265936419307404), (1522, 0.04366219809018769), (1523, 0.032776778616431586), (1524, 0.01514019949946354), (1525, 0.028885697179724952), (1526, 0.007418538712510529), (1527, 0.003895989706436554), (1528, 0.02581685412480869), (1529, 0.003974176419045112), (1530, 0.08873900041140778), (1531, 0.016749644934326666), (1532, 0.027886840199521274), (1533, 0.021306792972560325), (1534, 0.0050709773502390304), (1535, 0.028053411277521836), (1536, 0.014252903015516266), (1537, 0.0438941976527296), (1538, 0.026075595514551735), (1539, 0.005518041376582575), (1540, 0.007484334202694818), (1541, 0.0069190801071230225), (1542, 0.022702128018121014), (1543, 0.042863755459432794), (1544, 0.013767695718986613), (1545, 0.02360177348160665), (1546, 0.017002671097257446), (1547, 0.005172035736183425), (1548, 0.004600277214073891), (1549, 0.0075335550366216536), (1550, 0.017957480233826692), (1551, 0.017393568158351035), (1552, 0.006560697522682398), (1553, 0.013590438081630686), (1554, 0.020518587757835136), (1555, 0.0167980771680862), (1556, 0.006527019611435102), (1557, 0.00555651646007819), (1558, 0.05481199985472361), (1559, 0.0), (1560, 0.021420867627824976), (1561, 0.004828469936750662), (1562, 0.006914247677739327), (1563, 0.014960223906364513), (1564, 0.0058632037940881), (1565, 0.01573015771693402), (1566, 0.015608456789732873), (1567, 0.005701850995151704), (1568, 0.004423696653521438), (1569, 0.004519854306420487), (1570, 0.007323344012018868), (1571, 0.02668903709547324), (1572, 0.025961768128066234), (1573, 0.02251990264954338), (1574, 0.02474170361511715), (1575, 0.006755751724456757), (1576, 0.03043485457689074), (1577, 0.015318829841656325), (1578, 0.004814693465065853), (1579, 0.02914068247138129), (1580, 0.017614306805705), (1581, 0.03245157949876607), (1582, 0.013527803377513893), (1583, 0.023410207733348933), (1584, 0.023805529276124844), (1585, 0.0248332895952181), (1586, 0.012206427227004489), (1587, 0.027412266771049375), (1588, 0.005452923869922398), (1589, 0.022986454396207574), (1590, 0.005372601539087988), (1591, 0.003989597135737838), (1592, 0.04650198313071377), (1593, 0.019564932490762348), (1594, 0.015340475342755244), (1595, 0.0047838353647548385), (1596, 0.019627620909276323), (1597, 0.0048431233457075515), (1598, 0.005455717660513398), (1599, 0.01671218820306536), (1600, 0.025231585594099017), (1601, 0.007486092305044003), (1602, 0.020010848455514662), (1603, 0.004505036407375269), (1604, 0.00612470830655138), (1605, 0.008353484304015498), (1606, 0.007316576848775415), (1607, 0.013535020686943405), (1608, 0.022068465058128584), (1609, 0.027370820589276486), (1610, 0.005319634380938635), (1611, 0.02395116107932285), (1612, 0.025751807026155954), (1613, 0.022101195166194892), (1614, 0.00956997745045058), (1615, 0.030587155549092644), (1616, 0.006260918898297155), (1617, 0.004914755873737849), (1618, 0.016623293778709324), (1619, 0.0355270126368589), (1620, 0.0051895175798704184), (1621, 0.01714792728553482), (1622, 0.03026293642850907), (1623, 0.004886553417434389), (1624, 0.020544509357029526), (1625, 0.021558770601847174), (1626, 0.007849872881082864), (1627, 0.016140260012889467), (1628, 0.005385668295869146), (1629, 0.017031638032895504), (1630, 0.005734448006198461), (1631, 0.005327110577060043), (1632, 0.0044389881980803035), (1633, 0.013911263430866051), (1634, 0.010661143296963282), (1635, 0.0044716608379937375), (1636, 0.03448965855062026), (1637, 0.004969612748961847), (1638, 0.01974417638580732), (1639, 0.030548172718961156), (1640, 0.0593117887441971), (1641, 0.004054586643028301), (1642, 0.018118697776877603), (1643, 0.014102039664228194), (1644, 0.004342612438123826), (1645, 0.014091290516179314), (1646, 0.004806555131879503), (1647, 0.014550049054102919), (1648, 0.017610646641796592), (1649, 0.04115473542481865), (1650, 0.025117008626125197), (1651, 0.01449747272546233), (1652, 0.005057860375118551), (1653, 0.007162311531645745), (1654, 0.005311630702968827), (1655, 0.015189652885980395), (1656, 0.004249355234279891), (1657, 0.008141408008579834), (1658, 0.031702857405049495), (1659, 0.033868774955036), (1660, 0.016023826796521), (1661, 0.016647735455624795), (1662, 0.005002009595781861), (1663, 0.014806135199800747), (1664, 0.007911772387138328), (1665, 0.03253406082354941), (1666, 0.0), (1667, 0.016784662076304607), (1668, 0.004825466842719612), (1669, 0.025538334353113205), (1670, 0.006219857724023771), (1671, 0.02301492623699062), (1672, 0.03322109522829912), (1673, 0.0018809269477185865), (1674, 0.03212917614623965), (1675, 0.044389948445868396), (1676, 0.009217522604247972), (1677, 0.014179806626716529), (1678, 0.0019786209632583554), (1679, 0.008473916178376345), (1680, 0.011378617211832377), (1681, 0.019251670194703464), (1682, 0.008781268716447715), (1683, 0.023253468164799916), (1684, 0.01355260149110758), (1685, 0.012695499200587204), (1686, 0.025446379916763066), (1687, 0.03649033665341153), (1688, 0.013859126666911688), (1689, 0.021712419386159303), (1690, 0.021894383289392666), (1691, 0.007229368586743182), (1692, 0.032062110455061965), (1693, 0.01821152801885839), (1694, 0.020322603008893356), (1695, 0.020959782205436716), (1696, 0.053867102228372786), (1697, 0.0394529409008779), (1698, 0.004743886946546666), (1699, 0.0522321953803088), (1700, 0.05107700498858562), (1701, 0.013306033768566495), (1702, 0.01826534957618194), (1703, 0.021215577116018916), (1704, 0.010095680034497966), (1705, 0.01226009886893915), (1706, 0.005648726187030607), (1707, 0.0248752476055235), (1708, 0.07335334886076632), (1709, 0.052978921051491434), (1710, 0.03020101040145816), (1711, 0.005752693978747549), (1712, 0.005337399204568275), (1713, 0.04031235523920604), (1714, 0.021731951517681265), (1715, 0.005405260814690804), (1716, 0.025774741387119486), (1717, 0.018143427311604673), (1718, 0.002029382140215356), (1719, 0.018281297781153477), (1720, 0.01642899706336016), (1721, 0.03693717005828342), (1722, 0.015076159210987575), (1723, 0.007430501699256927), (1724, 0.037540864320118425), (1725, 0.005053175178686651), (1726, 0.02178241236656064), (1727, 0.03906802418481533), (1728, 0.015997895568524947), (1729, 0.021854683852373328), (1730, 0.012121366927059521), (1731, 0.0344714186833325), (1732, 0.011475197130818269), (1733, 0.02000712455935514), (1734, 0.004917247772233513), (1735, 0.01529301985917196), (1736, 0.09399575194382778), (1737, 0.00476200297309682), (1738, 0.01666181084676307), (1739, 0.005466327674373118), (1740, 0.01627668354709246), (1741, 0.016333121538439594), (1742, 0.020716549794091536), (1743, 0.007435414572831053), (1744, 0.0015290428659733022), (1745, 0.01513844628047799), (1746, 0.0204139198571816), (1747, 0.0048890450181183955), (1748, 0.005391726625615402), (1749, 0.07805668262079024), (1750, 0.004760250110912355), (1751, 0.021109750679950245), (1752, 0.01727318411997454), (1753, 0.004612076542830202), (1754, 0.004916697038544402), (1755, 0.007860142134826293), (1756, 0.004985434684884476), (1757, 0.03424354245130284), (1758, 0.005365012102489379), (1759, 0.06055477126964473), (1760, 0.004745111485543256), (1761, 0.004479762253170315), (1762, 0.04560734498933207), (1763, 0.028760386172502282), (1764, 0.016794916810845217), (1765, 0.004323336085866351), (1766, 0.004903449830862787), (1767, 0.027500097921768094), (1768, 0.0160874444117033), (1769, 0.010899779392254689), (1770, 0.01677001042502854), (1771, 0.005130296631278251), (1772, 0.004052318887215673), (1773, 0.005335122844158295), (1774, 0.005079465141620306), (1775, 0.00557871997122646), (1776, 0.01873397848858662), (1777, 0.005870357117506346), (1778, 0.018613734272305123), (1779, 0.0017009666353541258), (1780, 0.004109385370281524), (1781, 0.027747059909124943), (1782, 0.004835969960883716), (1783, 0.017045815937805277), (1784, 0.002217273032131098), (1785, 0.0048617399744862975), (1786, 0.005117499959840883), (1787, 0.01924368599507572), (1788, 0.05712725122020744), (1789, 0.030442632152246622), (1790, 0.0038135934664662047), (1791, 0.014338472799218582), (1792, 0.03186201856832991), (1793, 0.018355620032563615), (1794, 0.019520614097237387), (1795, 0.05124236222533507), (1796, 0.02702976278514043), (1797, 0.03086055745267683), (1798, 0.015921794450026595), (1799, 0.029555639277599785), (1800, 0.005012056986193957), (1801, 0.004409942287249917), (1802, 0.004298333417867328), (1803, 0.0025556581398924845), (1804, 0.024820929225050498), (1805, 0.04648050082892835), (1806, 0.015233750285556008), (1807, 0.004749780473802994), (1808, 0.004878042557539825), (1809, 0.02881873398840456), (1810, 0.004867765758137357), (1811, 0.01937927321172499), (1812, 0.00494320319372725), (1813, 0.005614543035748193), (1814, 0.022694284093580302), (1815, 0.005383262664458759), (1816, 0.014867296521393642), (1817, 0.004475614559602803), (1818, 0.046820180122305044), (1819, 0.005670446614127569), (1820, 0.017914927856419887), (1821, 0.0355154438360422), (1822, 0.01445075010847497), (1823, 0.00427033102372326), (1824, 0.005281998746242113), (1825, 0.009406880939695822), (1826, 0.004443046125472515), (1827, 0.005015356903026556), (1828, 0.018856326409695767), (1829, 0.03562339501327785), (1830, 0.018064542931375244), (1831, 0.021679049143219744), (1832, 0.03033607744799349), (1833, 0.015947682240082337), (1834, 0.005830822935449948), (1835, 0.018600938859025855), (1836, 0.004986427508667456), (1837, 0.01327714285731751), (1838, 0.11558765833899606), (1839, 0.004317679495207159), (1840, 0.004861315747752293), (1841, 0.04047584185511595), (1842, 0.018221395357572723), (1843, 0.004766197421595729), (1844, 0.02907358462690149), (1845, 0.019607834351371492), (1846, 0.016860195771484912), (1847, 0.05821747452483215), (1848, 0.022949770856622257), (1849, 0.029826469715474126), (1850, 0.0037675853558322746), (1851, 0.006106913837943163), (1852, 0.00990355357241625), (1853, 0.006834302208648801), (1854, 0.0350905657500208), (1855, 0.008064599027312486), (1856, 0.0054437448561936285), (1857, 0.00507139364238345), (1858, 0.012953820681229567), (1859, 0.08797711146208681), (1860, 0.028392711626114044), (1861, 0.052105296167568274), (1862, 0.02922357460769706), (1863, 0.02085146721983374), (1864, 0.005003383703623363), (1865, 0.029469431956428184), (1866, 0.005038402846107397), (1867, 0.028085127584143207), (1868, 0.019260165833302416), (1869, 0.017208234977723967), (1870, 0.006380960916927646), (1871, 0.013791545094468416), (1872, 0.027094050408700266), (1873, 0.005371959152026242), (1874, 0.004993188118290767), (1875, 0.015148616230133697), (1876, 0.03140426503757176), (1877, 0.0395185881652529), (1878, 0.004320922291776261), (1879, 0.025020487773345253), (1880, 0.004995832995415066), (1881, 0.07882362568663001), (1882, 0.015214219636086183), (1883, 0.0043424031218594755), (1884, 0.0043410574571931294), (1885, 0.02137079806210594), (1886, 0.00437705564109933), (1887, 0.0312914562068634), (1888, 0.027263833469735016), (1889, 0.014067410292165863), (1890, 0.025604348240705937), (1891, 0.01753806696016145), (1892, 0.006322211647559055), (1893, 0.004851696122771762), (1894, 0.023827417055402575), (1895, 0.012681182118367974), (1896, 0.005744901745898994), (1897, 0.013334433672079291), (1898, 0.013605219477190903), (1899, 0.01576891536481543), (1900, 0.013903831119170817), (1901, 0.0042962179029496965), (1902, 0.004056498233820592), (1903, 0.004906841165048104), (1904, 0.008418023207683359), (1905, 0.031559294146716835), (1906, 0.012776788739908625), (1907, 0.017582718054723494), (1908, 0.015191196615218895), (1909, 0.017984704773132368), (1910, 0.00862507370960292), (1911, 0.020805805672977955), (1912, 0.006502100351951059), (1913, 0.004663351930223189), (1914, 0.05281299734036171), (1915, 0.005479550268227331), (1916, 0.0066007272913967), (1917, 0.06228261649296065), (1918, 0.005006716383515984), (1919, 0.014382865327568058), (1920, 0.005098785930753838), (1921, 0.013396136393478352), (1922, 0.014563707036887908), (1923, 0.02094975079345203), (1924, 0.004816195864262105), (1925, 0.02241018950014168), (1926, 0.025736099257091655), (1927, 0.01567729967098254), (1928, 0.05341785076855046), (1929, 0.018140972031572104), (1930, 0.04272478053363936), (1931, 0.03314729980406198), (1932, 0.036960399948592675), (1933, 0.01711310997591453), (1934, 0.021331429857732766), (1935, 0.017659588870065808), (1936, 0.019653438540666854), (1937, 0.005582366769518192), (1938, 0.015690054786798906), (1939, 0.006414909063387347), (1940, 0.01388475233840578), (1941, 0.00510276414130786), (1942, 0.04246098859441705), (1943, 0.04688832984218195), (1944, 0.01702750405063186), (1945, 0.00443478916719761), (1946, 0.017553660242636538), (1947, 0.050178785118867225), (1948, 0.007399909209274386), (1949, 0.0054936804552223675), (1950, 0.01821864560189796), (1951, 0.015129771493175168), (1952, 0.013440626687871967), (1953, 0.020960632915952626), (1954, 0.015340746582658682), (1955, 0.005033227559829728), (1956, 0.014760855353288417), (1957, 0.021495669851524058), (1958, 0.06842167536518182), (1959, 0.004735959704936429), (1960, 0.023781130610228934), (1961, 0.01852079601669625), (1962, 0.011127503615143133), (1963, 0.008303860221423464), (1964, 0.005641127811010031), (1965, 0.005538848584424048), (1966, 0.007762059211039637), (1967, 0.016989665936958054), (1968, 0.01830943889851112), (1969, 0.014816880306750182), (1970, 0.005186044297088871), (1971, 0.06068109372897508), (1972, 0.013330280517956533), (1973, 0.012305335668668406), (1974, 0.006548379987804033), (1975, 0.017742624091113785), (1976, 0.030811216681617033), (1977, 0.0211373548357082), (1978, 0.0048016540951515505), (1979, 0.02103441145773488), (1980, 0.004691796154268212), (1981, 0.030560707984799037), (1982, 0.024296912458533056), (1983, 0.006887580086947466), (1984, 0.01648849391658161), (1985, 0.036343612485162706), (1986, 0.012787695433833185), (1987, 0.004675130241166931), (1988, 0.00412588478404057), (1989, 0.006091873178379859), (1990, 0.014188787231728183), (1991, 0.05139137799697315), (1992, 0.020959884438724628), (1993, 0.015635669759181216), (1994, 0.015990364514991924), (1995, 0.005602750338342498), (1996, 0.03726704783673822), (1997, 0.03543737200679386), (1998, 0.016156573325784455), (1999, 0.017607031686458205), (2000, 0.005311131537620609), (2001, 0.017568084478082703), (2002, 0.017137830457614748), (2003, 0.05223018536756428), (2004, 0.0036888853091317625), (2005, 0.10997392072884728), (2006, 0.0018685178926806665), (2007, 0.004115821949182239), (2008, 0.004985539771011129), (2009, 0.024848911800297243), (2010, 0.015289682697435986), (2011, 0.004919778358086993), (2012, 0.006421441196240531), (2013, 0.02404313730204955), (2014, 0.015836619859303028), (2015, 0.004577369497213947), (2016, 0.0021103744352674184), (2017, 0.03127625690261362), (2018, 0.01509415118365079), (2019, 0.016253191461641052), (2020, 0.01874543762414727), (2021, 0.0038029483226084734), (2022, 0.028159620793756623), (2023, 0.07985529099879105), (2024, 0.02884101901101791), (2025, 0.021930930711698576), (2026, 0.026775054649938998), (2027, 0.027779515272541466), (2028, 0.005437424772777597), (2029, 0.0), (2030, 0.009211093229371206), (2031, 0.005522222089506905), (2032, 0.05021404350375801), (2033, 0.0034183332070197095), (2034, 0.01428122281725511), (2035, 0.0021485966447346606), (2036, 0.015185213960067771), (2037, 0.02928102263675466), (2038, 0.014177313945983195), (2039, 0.004329561018220807), (2040, 0.033080984206743866), (2041, 0.0051391992334515555), (2042, 0.004550034081498258), (2043, 0.02440680471758153), (2044, 0.01327120989552167), (2045, 0.004851367898346052), (2046, 0.014572875688780126), (2047, 0.0054407243626437), (2048, 0.006244631908563022), (2049, 0.014630961052979691), (2050, 0.03809871490862907), (2051, 0.004970800891107841), (2052, 0.0), (2053, 0.01809968046717964), (2054, 0.013750609074728845), (2055, 0.004782419690424436), (2056, 0.025824646469935174), (2057, 0.002283328474555612), (2058, 0.006274171446702095), (2059, 0.00475256244813131), (2060, 0.013908476480357566), (2061, 0.004038647156681703), (2062, 0.014925252996406152), (2063, 0.01707592487995289), (2064, 0.020835639297719376), (2065, 0.022569266074722483), (2066, 0.056738054365987146), (2067, 0.015895447475814995), (2068, 0.004631406395902319), (2069, 0.05746631884530776), (2070, 0.015211791395444835), (2071, 0.0037931794966418707), (2072, 0.004666635050478627), (2073, 0.004266620189955764), (2074, 0.015314916765935549), (2075, 0.004496534816627254), (2076, 0.049064493330726246), (2077, 0.005120631122655409), (2078, 0.037925164648110535), (2079, 0.01367332539742979), (2080, 0.018038969737612168), (2081, 0.04555003344406898), (2082, 0.04349136408856373), (2083, 0.005479553762836887), (2084, 0.01462175594596795), (2085, 0.004332641356104523), (2086, 0.026724218989921496), (2087, 0.01987615383165329), (2088, 0.016256237901569826), (2089, 0.031091870365831005), (2090, 0.0031043014304155832), (2091, 0.004491355361070698), (2092, 0.005187025568331636), (2093, 0.016260420858421533), (2094, 0.03380509188123562), (2095, 0.016660411655378564), (2096, 0.022220581948339035), (2097, 0.022175990929638633), (2098, 0.018519363034852715), (2099, 0.06912951887592203), (2100, 0.0047245478323320695), (2101, 0.019850973170558155), (2102, 0.0074072383816859615), (2103, 0.024756158574260965), (2104, 0.004885270920315697), (2105, 0.0303587068551767), (2106, 0.0045211351818921705), (2107, 0.027468526640882274), (2108, 0.01503997005897026), (2109, 0.036064430672707835), (2110, 0.006268277763387213), (2111, 0.004190695511436392), (2112, 0.005055472326539241), (2113, 0.0048219854289294085), (2114, 0.02008194516163474), (2115, 0.004636213603296732), (2116, 0.04882880802606908), (2117, 0.006204259273472913), (2118, 0.015756594029889336), (2119, 0.017849984459561034), (2120, 0.004187726194586478), (2121, 0.018597618254215884), (2122, 0.006417981095640054), (2123, 0.006985743062390137), (2124, 0.10774026108847207), (2125, 0.016521284357002862), (2126, 0.006965273137861603), (2127, 0.01673511494929835), (2128, 0.021726671330231515), (2129, 0.02446680955402436), (2130, 0.025272722163302192), (2131, 0.0037893014077271486), (2132, 0.016830874057897204), (2133, 0.02074455611224702), (2134, 0.004346595150060956), (2135, 0.006982137490403499), (2136, 0.006606512033930058), (2137, 0.00404155509122571), (2138, 0.015921232845388017), (2139, 0.04635924385718258), (2140, 0.014207691812214106), (2141, 0.00478393985309134), (2142, 0.08988406124561141), (2143, 0.013080612351847402), (2144, 0.0040403683151581105), (2145, 0.027748636887910648), (2146, 0.035882795893179054), (2147, 0.02366122481912709), (2148, 0.004698210418694604), (2149, 0.023175599897934038), (2150, 0.06301993314724924), (2151, 0.010062005400397717), (2152, 0.004884888392022812), (2153, 0.028697934364330064), (2154, 0.008042449405155788), (2155, 0.0022891123086460317), (2156, 0.0190216649698704), (2157, 0.005325270968158062), (2158, 0.029362724216138718), (2159, 0.015445140209095974), (2160, 0.02204792567224711), (2161, 0.0017865859758085505), (2162, 0.02233835239923283), (2163, 0.02555322081796135), (2164, 0.020472853161446723), (2165, 0.022605678383255407), (2166, 0.02983620851893898), (2167, 0.005154891059820486), (2168, 0.005626376804110189), (2169, 0.019455578435546534), (2170, 0.021012697805096972), (2171, 0.025804795302558844), (2172, 0.009191448802649133), (2173, 0.025132107900765657), (2174, 0.022256632686303637), (2175, 0.00488006851355575), (2176, 0.004304069216568255), (2177, 0.015450371374222173), (2178, 0.004989916587070899), (2179, 0.004627943402400989), (2180, 0.005329435497500541), (2181, 0.006039196313860294), (2182, 0.020899625373452642), (2183, 0.004509579227206714), (2184, 0.0049082563209109885), (2185, 0.01415218478037241), (2186, 0.005405824920821242), (2187, 0.023914924370218874), (2188, 0.048579835472038965), (2189, 0.029448699951744692), (2190, 0.0056942274589864865), (2191, 0.02112871006151316), (2192, 0.019474823284999106), (2193, 0.02144568961236915), (2194, 0.02895276470028868), (2195, 0.032178349636599365), (2196, 0.004246642256315446), (2197, 0.006392382709524021), (2198, 0.020731864660832933), (2199, 0.0), (2200, 0.012000500144610834), (2201, 0.00882870823763781), (2202, 0.00405380036721382), (2203, 0.005764212592047426), (2204, 0.018127217747915127), (2205, 0.031086256757201114), (2206, 0.13338283994050207), (2207, 0.010559989050751553), (2208, 0.02912312607053176), (2209, 0.018295991080374864), (2210, 0.013625863446734079), (2211, 0.016600603948752807), (2212, 0.014159489687077042), (2213, 0.04806051949053172), (2214, 0.05530096954432355), (2215, 0.01850804712027194), (2216, 0.005693237286402879), (2217, 0.00464404347407233), (2218, 0.013761329672216323), (2219, 0.021163412795698174), (2220, 0.00983511574917609), (2221, 0.004621908463215387), (2222, 0.005148619150596148), (2223, 0.006600178450178715), (2224, 0.06191577168207246), (2225, 0.004471229292985686), (2226, 0.011966221113901158), (2227, 0.005687794685350115), (2228, 0.00720640106871204), (2229, 0.054328399074696936), (2230, 0.00726517969209676), (2231, 0.07360564220809528), (2232, 0.0), (2233, 0.004867697285615518), (2234, 0.004383159395174604), (2235, 0.005775332835904003), (2236, 0.021261811446717994), (2237, 0.0018417236890096288), (2238, 0.004692485187350789), (2239, 0.05659777255793504), (2240, 0.01839481195619563), (2241, 0.004858152899519337), (2242, 0.0046028068556536236), (2243, 0.03670134583235851), (2244, 0.004813671253066136), (2245, 0.02257320921026809), (2246, 0.013965574576470675), (2247, 0.04542182343894953), (2248, 0.012353747725971653), (2249, 0.015107723712135675), (2250, 0.021594880455256767), (2251, 0.007342620862666422), (2252, 0.021375940509678764), (2253, 0.007746821404928693), (2254, 0.004365115794234032), (2255, 0.004473630702953474), (2256, 0.03543368497419124), (2257, 0.013305833890012764), (2258, 0.004983448455514223), (2259, 0.020299785444268796), (2260, 0.002020802738735382), (2261, 0.050805534040697944), (2262, 0.001881913091416639), (2263, 0.007175051038763773), (2264, 0.05854981064865353), (2265, 0.00633573004209749), (2266, 0.01789438463707254), (2267, 0.005463141527539683), (2268, 0.007230639172555642), (2269, 0.004607708606433925), (2270, 0.02009251375562047), (2271, 0.02784471920673222), (2272, 0.005215277585620619), (2273, 0.018305087846093963), (2274, 0.018933716158687573), (2275, 0.022640732796500557), (2276, 0.015122232583678823), (2277, 0.04030365561227312), (2278, 0.03150048800727165), (2279, 0.037219030285476754), (2280, 0.03594873973409047), (2281, 0.0021930340503859293), (2282, 0.0018728982889547627), (2283, 0.013949450179851153), (2284, 0.005076039596515274), (2285, 0.02533857015930091), (2286, 0.020279408401145477), (2287, 0.0558136372546774), (2288, 0.017013055994979), (2289, 0.012934296013776839), (2290, 0.03342697575589184), (2291, 0.019453633490693054), (2292, 0.01764689139100098), (2293, 0.015471811162347401), (2294, 0.01476691156496045), (2295, 0.03559252377689338), (2296, 0.012827686090570941), (2297, 0.05887114869839178), (2298, 0.01593976973395161), (2299, 0.008393793936102218), (2300, 0.004920320952830683), (2301, 0.0111876906018083), (2302, 0.0048477072919282434), (2303, 0.016357546303665677), (2304, 0.02104122683254591), (2305, 0.016675197640298137), (2306, 0.026009971835061412), (2307, 0.005018848525689631), (2308, 0.020114128314735757), (2309, 0.009652382331178551), (2310, 0.04591285542942185), (2311, 0.005707351852117847), (2312, 0.0035457790998058543), (2313, 0.0024296339416702084), (2314, 0.004703319483414936), (2315, 0.005671863683866879), (2316, 0.005077644768895696), (2317, 0.004881644676778864), (2318, 0.005561053048120143), (2319, 0.05353567010930797), (2320, 0.01641635134930528), (2321, 0.014903496164777942), (2322, 0.021746018481263403), (2323, 0.0056939986029055836), (2324, 0.005280933326532489), (2325, 0.016775804399216686), (2326, 0.01651490059495128), (2327, 0.024192296153085498), (2328, 0.026198959408741875), (2329, 0.031925436859399726), (2330, 0.004304208824605405), (2331, 0.047348082768215935), (2332, 0.005055052646211675), (2333, 0.0021192221571795676), (2334, 0.017269328265570844), (2335, 0.002623233438190511), (2336, 0.008795591223042515), (2337, 0.0037740538387519068), (2338, 0.010601311781015985), (2339, 0.02063898592405315), (2340, 0.0019594268807162822), (2341, 0.016067151653628257), (2342, 0.00877623644815173), (2343, 0.018505704945461134), (2344, 0.009280186522512501), (2345, 0.017672526247584766), (2346, 0.01536152020045102), (2347, 0.06653182211022965), (2348, 0.008383799934740024), (2349, 0.005261132903448326), (2350, 0.0040414427035307225), (2351, 0.012885406804855119), (2352, 0.005944780628381681), (2353, 0.006121321353229146), (2354, 0.013660819231160543), (2355, 0.0047342155801747094), (2356, 0.005429455857493344), (2357, 0.005529669948788604), (2358, 0.04813280427392601), (2359, 0.02270563828526511), (2360, 0.0274603205945635), (2361, 0.005281329919314277), (2362, 0.005222042259605858), (2363, 0.05213697360021392), (2364, 0.04765419368842229), (2365, 0.016050366956611835), (2366, 0.03165475605838943), (2367, 0.004950351831911105), (2368, 0.01785032155589389), (2369, 0.014433382746060475), (2370, 0.020880625627218617), (2371, 0.03140851089721535), (2372, 0.005739993444897087), (2373, 0.022511382233198585), (2374, 0.007680543947421139), (2375, 0.024581434489265246), (2376, 0.01692353732333112), (2377, 0.0014996066939964156), (2378, 0.007205038228682243), (2379, 0.0048661943505717105), (2380, 0.06198262087981093), (2381, 0.05153465255900799), (2382, 0.024366753707631823), (2383, 0.011956154495240748), (2384, 0.05143496228696844), (2385, 0.005342618724936553), (2386, 0.010439527795648872), (2387, 0.02523897104100324), (2388, 0.004339689198204143), (2389, 0.024172737143840557), (2390, 0.005477831285037461), (2391, 0.02100683370540453), (2392, 0.025686724495663605), (2393, 0.005411389820563215), (2394, 0.02181561944359267), (2395, 0.0057369486041426426), (2396, 0.02473840429329978), (2397, 0.0442291691133171), (2398, 0.01261894166987158), (2399, 0.049399545473066506), (2400, 0.016125018489348657), (2401, 0.019471237005390427), (2402, 0.004892390420649581), (2403, 0.004258565682807731), (2404, 0.01627388450447106), (2405, 0.02008294459021365), (2406, 0.002036026277858314), (2407, 0.012477377898984766), (2408, 0.004599410642269866), (2409, 0.004357706168722414), (2410, 0.02013633476171491), (2411, 0.058089185111674005), (2412, 0.016905321468269233), (2413, 0.008209286077363933), (2414, 0.0053957845641967725), (2415, 0.006614935764980651), (2416, 0.06207550697570618), (2417, 0.012884396793336103), (2418, 0.00603806855350853), (2419, 0.004223463114737815), (2420, 0.017841172659873762), (2421, 0.01923187057103525), (2422, 0.004891551499474017), (2423, 0.016159384293040164), (2424, 0.029801791602763663), (2425, 0.018644717906327775), (2426, 0.0056483136334525815), (2427, 0.08185549398768534), (2428, 0.006335093000661967), (2429, 0.00679625138463553), (2430, 0.005696978628306391), (2431, 0.005071158436848359), (2432, 0.01869163450326794), (2433, 0.012899933308730929), (2434, 0.014842079490633635), (2435, 0.0), (2436, 0.04561450838474025), (2437, 0.018111770438009156), (2438, 0.004587291435723639), (2439, 0.0239914323162063), (2440, 0.004575975364649776), (2441, 0.01356966600131219), (2442, 0.0), (2443, 0.005163656228780325), (2444, 0.004590663913073573), (2445, 0.033302536603866985), (2446, 0.005236607575224721), (2447, 0.0), (2448, 0.012155107056210836), (2449, 0.02136796310549305), (2450, 0.005479207341595745), (2451, 0.019240888849650764), (2452, 0.005051127574293317), (2453, 0.020709530999207647), (2454, 0.012856210396871948), (2455, 0.026028621136834698), (2456, 0.008355961554598963), (2457, 0.06816740915709513), (2458, 0.03858152130304861), (2459, 0.00497568080437072), (2460, 0.01272216204494377), (2461, 0.04745449631896405), (2462, 0.06041653736880958), (2463, 0.0056777538748364435), (2464, 0.022395597643525327), (2465, 0.020473873507936117), (2466, 0.007312112551412298), (2467, 0.005467006875560924), (2468, 0.0049896970724432445), (2469, 0.09749378665124583), (2470, 0.005324444069873173), (2471, 0.014360937215000869), (2472, 0.004876383486239893), (2473, 0.04680397534849895), (2474, 0.004939010129034261), (2475, 0.014642063902305977), (2476, 0.004310303294758276), (2477, 0.01771239307463259), (2478, 0.022371225325539264), (2479, 0.026025502550578238), (2480, 0.040706273425719065), (2481, 0.021614021298325632), (2482, 0.005755682555485131), (2483, 0.034519559873737525), (2484, 0.049207328587551724), (2485, 0.011591018047065405), (2486, 0.012947480463769504), (2487, 0.01773969517748607), (2488, 0.004903733501399091), (2489, 0.004148501503715564), (2490, 0.004814758545000646), (2491, 0.02062927160705954), (2492, 0.005332626787004954), (2493, 0.052052751354755636), (2494, 0.004860166459770797), (2495, 0.005060104293746543), (2496, 0.021320802497866227), (2497, 0.01560179197349111), (2498, 0.0034961371735364962), (2499, 0.004510891395615184), (2500, 0.01342968137542926), (2501, 0.013892696485479292), (2502, 0.09233715427652364), (2503, 0.022557841609504362), (2504, 0.07022350167221668), (2505, 0.005856694625265992), (2506, 0.020163562251021595), (2507, 0.005040904661752095), (2508, 0.006221128294789863), (2509, 0.02297982276148968), (2510, 0.0037195397063295066), (2511, 0.007780161076112117), (2512, 0.026380320219291875), (2513, 0.02103209433607966), (2514, 0.056021976448924614), (2515, 0.044791040142900924), (2516, 0.021305557587346428), (2517, 0.01929692317517261), (2518, 0.014787715969858214), (2519, 0.016219164792137773), (2520, 0.0046251853565653), (2521, 0.0074997413657798846), (2522, 0.004721132197588769), (2523, 0.004564771044521335), (2524, 0.006049947297550308), (2525, 0.006630977986370526), (2526, 0.0022126078934517276), (2527, 0.004222122547039834), (2528, 0.015859907665579112), (2529, 0.0053537933605348935), (2530, 0.014770417291944199), (2531, 0.004843618457569321), (2532, 0.018747603291842614), (2533, 0.07177941871484739), (2534, 0.01593771035838921), (2535, 0.05081663169073101), (2536, 0.004625542145659049), (2537, 0.016715193037007005), (2538, 0.08903216495542973), (2539, 0.0), (2540, 0.016156883044541666), (2541, 0.0044290347267582734), (2542, 0.004555848596460308), (2543, 0.004734501763609264), (2544, 0.004757936446882695), (2545, 0.005271466925401694), (2546, 0.046939791873019464), (2547, 0.004545540393255672), (2548, 0.010208979682145031), (2549, 0.01763093622656553), (2550, 0.01797724809706066), (2551, 0.014851766910179426), (2552, 0.057358080241085935), (2553, 0.008717228770369222), (2554, 0.00368790919306586), (2555, 0.006001696823580788), (2556, 0.013565428306344756), (2557, 0.005591101471510686), (2558, 0.007583589903338215), (2559, 0.00444830781472822), (2560, 0.014505039611997523), (2561, 0.06749317471874744), (2562, 0.035738255433843326), (2563, 0.024222143486292792), (2564, 0.027817169954612902), (2565, 0.005378342466036805), (2566, 0.005352152423740956), (2567, 0.0041111709689651485), (2568, 0.06664366363747819), (2569, 0.004269127370131418), (2570, 0.04750545606825457), (2571, 0.00494690130620622), (2572, 0.07857986952607837), (2573, 0.014338464659803585), (2574, 0.00485816121172367), (2575, 0.005266190531985681), (2576, 0.044843024533571904), (2577, 0.006427824385032314), (2578, 0.0057966545854783455), (2579, 0.018687074101382147), (2580, 0.013645057636364042), (2581, 0.015511592154020815), (2582, 0.011511709887342167), (2583, 0.0041441181726051095), (2584, 0.004932639546473893), (2585, 0.004498236114266363), (2586, 0.004832951596924571), (2587, 0.004681885964339037), (2588, 0.01633055863408814), (2589, 0.027980655683173712), (2590, 0.01650098420764354), (2591, 0.028643523634337066), (2592, 0.04388701699476448), (2593, 0.024846662149543383), (2594, 0.03876816259748475), (2595, 0.015555691901560562), (2596, 0.04437509664935183), (2597, 0.04877031455197095), (2598, 0.004901735491381765), (2599, 0.004944515487807156), (2600, 0.00443005083264324), (2601, 0.005086168767035365), (2602, 0.0044031737513512675), (2603, 0.003397094109877514), (2604, 0.005254583378633467), (2605, 0.037834949719543196), (2606, 0.015668917981778354), (2607, 0.006214240887798986), (2608, 0.01790226308666254), (2609, 0.004096690466864368), (2610, 0.0051527814504958944), (2611, 0.010952894076083844), (2612, 0.07091468348698206), (2613, 0.016282457940378883), (2614, 0.02489104400486946), (2615, 0.021493933435589748), (2616, 0.005292478894411055), (2617, 0.004454228382593471), (2618, 0.006750466813870613), (2619, 0.014626562032829946), (2620, 0.050194582440752714), (2621, 0.013464933900179717), (2622, 0.004605903785753779), (2623, 0.001778929318105808), (2624, 0.08435803041641403), (2625, 0.0343284298304289), (2626, 0.015153075550417077), (2627, 0.016520735429143313), (2628, 0.013174934886725116), (2629, 0.05074816445644846), (2630, 0.02051996343182227), (2631, 0.004697205601592764), (2632, 0.025077565454631547), (2633, 0.009735358176807127), (2634, 0.0061368237669399105), (2635, 0.02098545468863591), (2636, 0.016317623327384546), (2637, 0.02250877158809694), (2638, 0.004621240215121371), (2639, 0.0), (2640, 0.07545326059238512), (2641, 0.019255149039418766), (2642, 0.0640542479613826), (2643, 0.004731624831246553), (2644, 0.006496012792771377), (2645, 0.047945097054589894), (2646, 0.013724439252745009), (2647, 0.03263160820085066), (2648, 0.05802859760457436), (2649, 0.009460577866801942), (2650, 0.011261557166086256), (2651, 0.011312337678508387), (2652, 0.018225371318266483), (2653, 0.03985901479184536), (2654, 0.005355285082042641), (2655, 0.014742270655467984), (2656, 0.005005722654812715), (2657, 0.016996219847992596), (2658, 0.007595568555333573), (2659, 0.04150280983842904), (2660, 0.01522314842960965), (2661, 0.03197130926522718), (2662, 0.017482598791986034), (2663, 0.01896111433605508), (2664, 0.02042404687034921), (2665, 0.04089539063238708), (2666, 0.018085368928794004), (2667, 0.0053135834440370296), (2668, 0.019694014503852643), (2669, 0.004581278154633976), (2670, 0.004404921973123196), (2671, 0.019103596482431998), (2672, 0.01410666406871929), (2673, 0.020678182550868528), (2674, 0.0046055845591943135), (2675, 0.014287007965195983), (2676, 0.028248011686495707), (2677, 0.01357360333227756), (2678, 0.014274323323507629), (2679, 0.025904762577940926), (2680, 0.019259892376143797), (2681, 0.030301921865108414), (2682, 0.007149599896726521), (2683, 0.002362684282244697), (2684, 0.02642394830669418), (2685, 0.023591063973661983), (2686, 0.013379465446522534), (2687, 0.015239869459442142), (2688, 0.005558484612668511), (2689, 0.032709060988070436), (2690, 0.005963674344626226), (2691, 0.01673921301269238), (2692, 0.9999999999999998), (2693, 0.019672416752475504), (2694, 0.07519165245728018), (2695, 0.02100039471343575), (2696, 0.014986713420050058), (2697, 0.0260961979307328), (2698, 0.004329162559298215), (2699, 0.01517882700395022), (2700, 0.11259882528784979), (2701, 0.024544509491341238), (2702, 0.031011971971416776), (2703, 0.060667251808609414), (2704, 0.014200511570900529), (2705, 0.004775409752148912), (2706, 0.001937501649910606), (2707, 0.007231898291207605), (2708, 0.051930174157273315), (2709, 0.0072562625684831315), (2710, 0.07648894458878396), (2711, 0.013358452545890685), (2712, 0.006434233259184117), (2713, 0.014320083449532004), (2714, 0.018743259220978803), (2715, 0.004082702081741137), (2716, 0.019641340173954733), (2717, 0.004935036823838869), (2718, 0.060125476358518934), (2719, 0.0367776394174273), (2720, 0.007592676451695358), (2721, 0.08140055232406977), (2722, 0.05233709140642487), (2723, 0.005697112556206726), (2724, 0.013555133631521487), (2725, 0.026439002481272424), (2726, 0.006125166363947484), (2727, 0.04144575879767544), (2728, 0.06252477186413227), (2729, 0.02817873765993862), (2730, 0.004490229904961579), (2731, 0.03103723382415103), (2732, 0.0043056043554886665), (2733, 0.030212006922141876), (2734, 0.016647476739224194), (2735, 0.020768919453680753), (2736, 0.012824398059496046), (2737, 0.013335901857095782), (2738, 0.00540266598313962), (2739, 0.02752485206358998), (2740, 0.01563981739187819), (2741, 0.004807895836219839), (2742, 0.029850714313868536), (2743, 0.02144786652553518), (2744, 0.017786325509358953), (2745, 0.0075164726274154735), (2746, 0.06849238538641039), (2747, 0.06667757788769461), (2748, 0.007500826492087191), (2749, 0.015547286218321563), (2750, 0.004865295705710638), (2751, 0.02593686812920317), (2752, 0.004438583583766745), (2753, 0.020835933512288733), (2754, 0.007145415356316047), (2755, 0.006626794828761412), (2756, 0.01769922948770491), (2757, 0.0019174974555384128), (2758, 0.0148627290824848), (2759, 0.014535352035036607), (2760, 0.023763405540819744), (2761, 0.00491675784489105), (2762, 0.008739562744695744), (2763, 0.00622317114079364), (2764, 0.006644146709060781), (2765, 0.008080839778245736), (2766, 0.007590768363957718), (2767, 0.020510562530039113), (2768, 0.011881739300247588), (2769, 0.02340424599155418), (2770, 0.014465871053000411), (2771, 0.03114693507950326), (2772, 0.014277228379307887), (2773, 0.04148078933814095), (2774, 0.004492473104489278), (2775, 0.023757648661780394), (2776, 0.004698559518000869), (2777, 0.01284339651676606), (2778, 0.03549635389364636), (2779, 0.01237554445909459), (2780, 0.007622800326868724), (2781, 0.019513406094882543), (2782, 0.03816800463789745), (2783, 0.007023684423950407), (2784, 0.026013081693677706), (2785, 0.019125747999728455), (2786, 0.021836803777304296), (2787, 0.0039153798366927525), (2788, 0.013942856225886596), (2789, 0.014360151596439876), (2790, 0.025846482501870896), (2791, 0.026266079177592497), (2792, 0.018126660378075213), (2793, 0.04766434220290154), (2794, 0.008816421886877798), (2795, 0.005271703412485913), (2796, 0.00630348763090359), (2797, 0.011455174899323567), (2798, 0.05123036710378208), (2799, 0.03283525778750854), (2800, 0.020140767495765946), (2801, 0.015534254529321563), (2802, 0.04134238662801408), (2803, 0.018873402996567507), (2804, 0.0056182910047920705), (2805, 0.007496456530026953), (2806, 0.015001607225190963), (2807, 0.004889065205100348), (2808, 0.004332028682662767), (2809, 0.02579773742178778), (2810, 0.02224429687641509), (2811, 0.022488827557212543), (2812, 0.006476603565878919), (2813, 0.05674354865149972), (2814, 0.00840772867202875), (2815, 0.0767836898390693), (2816, 0.015233181309079753), (2817, 0.025944717504943537), (2818, 0.020548539305920956), (2819, 0.01641079082811705), (2820, 0.04369268530257701), (2821, 0.01743486813267474), (2822, 0.03798013104320121), (2823, 0.016089420350924775), (2824, 0.007452670853806667), (2825, 0.006063722222801127), (2826, 0.015793502996076413), (2827, 0.04504964117155524), (2828, 0.020464838053242684), (2829, 0.01541855811093304), (2830, 0.015125528101880044), (2831, 0.028737028978719985), (2832, 0.014139245638044043), (2833, 0.005350809702796384), (2834, 0.0), (2835, 0.005334962427372), (2836, 0.021869326792605344), (2837, 0.017988776475834432), (2838, 0.01236039814773383), (2839, 0.023842358178278133), (2840, 0.015031175493949188), (2841, 0.014185349242110071), (2842, 0.04321463078403534), (2843, 0.005070670261555688), (2844, 0.027865746675719994), (2845, 0.019347652669054118), (2846, 0.0046001090798579855), (2847, 0.0038117771565229514), (2848, 0.02549184942782953), (2849, 0.02274283997429184), (2850, 0.04198855066369914), (2851, 0.020322659564888868), (2852, 0.004766751331469473), (2853, 0.03596829873013457), (2854, 0.012380461795316745), (2855, 0.018213697778540705), (2856, 0.004427749143770642), (2857, 0.0021468006072878376), (2858, 0.03426527278745191), (2859, 0.02083807480160815), (2860, 0.022293449365175987), (2861, 0.019467639752669484), (2862, 0.008854426774507793), (2863, 0.004708015126220035), (2864, 0.015815921115780802), (2865, 0.004726746907792317), (2866, 0.03835549583708171), (2867, 0.045865353555135956), (2868, 0.01846585749834491), (2869, 0.013500412225359694), (2870, 0.03199636438142992), (2871, 0.024658821237575554), (2872, 0.005002706771500757), (2873, 0.006106954602031867), (2874, 0.01751723440096671), (2875, 0.0438736640346984), (2876, 0.004958626267522248), (2877, 0.007895424267385187), (2878, 0.014836714727474852), (2879, 0.006335889770340227), (2880, 0.005247080261782309), (2881, 0.06378680485062854), (2882, 0.02254266404915513), (2883, 0.031437819308406306), (2884, 0.025817177247107036), (2885, 0.08028685757870635), (2886, 0.015828375823611986), (2887, 0.023373178556875006), (2888, 0.002037471017349651), (2889, 0.004467492160152069), (2890, 0.01807440015986602), (2891, 0.002005688701399759), (2892, 0.03616287840005734), (2893, 0.0060948848170340655), (2894, 0.004593652344108684), (2895, 0.016809095765949904), (2896, 0.06549976929662482), (2897, 0.008148180401502308), (2898, 0.0026066251945385606), (2899, 0.01748220015953516), (2900, 0.004503305516348386), (2901, 0.005637709868638221), (2902, 0.012826573257446848), (2903, 0.0018776623995243164), (2904, 0.014882688753120491), (2905, 0.10777998730852947), (2906, 0.006025114507323203), (2907, 0.005719821275658383), (2908, 0.019943588156357446), (2909, 0.005023778591912654), (2910, 0.06446258343482922), (2911, 0.05116133604073912), (2912, 0.06539151953232988), (2913, 0.035254141597396906), (2914, 0.04781714537145428), (2915, 0.021862234998858684), (2916, 0.004662343101806916), (2917, 0.0066707780720397375), (2918, 0.0043743408615245), (2919, 0.030038907028913805), (2920, 0.00876339983299766), (2921, 0.13195355074431603), (2922, 0.005505346870409551), (2923, 0.018153742345265095), (2924, 0.005727400250401973), (2925, 0.0074175021425860405), (2926, 0.06613988849052876), (2927, 0.014175315843925094), (2928, 0.00465695212390449), (2929, 0.004907625400958238), (2930, 0.00991028423050227), (2931, 0.02808821697943049), (2932, 0.03175888337503551), (2933, 0.013516687889529182), (2934, 0.0531658847705221), (2935, 0.0099756879562254), (2936, 0.02463235827252285), (2937, 0.016427119334307065), (2938, 0.023420485072834608), (2939, 0.0), (2940, 0.004325524527979332), (2941, 0.006028038208640072), (2942, 0.04749880994746936), (2943, 0.005572280363195376), (2944, 0.015553183295793999), (2945, 0.06852072164158612), (2946, 0.06473637143457403), (2947, 0.015099268224603998), (2948, 0.0038604502075558905), (2949, 0.005152462510786111), (2950, 0.007466555448203217), (2951, 0.07641890492210376), (2952, 0.003949264034437284), (2953, 0.027419146659619288), (2954, 0.059950993198035256), (2955, 0.015382649325238732), (2956, 0.020847508963473704), (2957, 0.026585753037609593), (2958, 0.02731210228457792), (2959, 0.011556494976715076), (2960, 0.005472673271718525), (2961, 0.04439891193375316), (2962, 0.0222148973273203), (2963, 0.018056677054673655), (2964, 0.0122069749081302), (2965, 0.0752141236794834), (2966, 0.035254374864690706), (2967, 0.0439114191072868), (2968, 0.01991338240133624), (2969, 0.0), (2970, 0.019340452575418655), (2971, 0.024669614987564228), (2972, 0.012859983397721245), (2973, 0.004938541882948014), (2974, 0.021567006691024404), (2975, 0.01458732701254753), (2976, 0.005079811321168018), (2977, 0.03415044504213896), (2978, 0.007257570539624976), (2979, 0.015824610427457024), (2980, 0.015076880634449178), (2981, 0.0052049273552507045), (2982, 0.004433947327361883), (2983, 0.02137017512621836), (2984, 0.021047448056886166), (2985, 0.018506808831644187), (2986, 0.00743973288713501), (2987, 0.006770408507439024), (2988, 0.04843529457807037), (2989, 0.03965498982835143), (2990, 0.01328162727851944), (2991, 0.01798553127797671), (2992, 0.004070836036400918), (2993, 0.042532536383101296), (2994, 0.004564548403233412), (2995, 0.05264457750661087), (2996, 0.028945851084303635), (2997, 0.004696445562103578), (2998, 0.009287477451288119), (2999, 0.004932797288108823), (3000, 0.0051782784724254925), (3001, 0.004808689361991271), (3002, 0.04629843201306136), (3003, 0.007539760890472804), (3004, 0.015557530284870308), (3005, 0.02659104229719909), (3006, 0.004514693657877664), (3007, 0.05179750747162541), (3008, 0.005995106346528733), (3009, 0.023962136284410143), (3010, 0.06381107804972003), (3011, 0.004725004596876081), (3012, 0.013012371959579725), (3013, 0.00632621163951825), (3014, 0.01392851619438208), (3015, 0.002401931917490093), (3016, 0.005186343318652278), (3017, 0.0051546434905348154), (3018, 0.004653423233721182), (3019, 0.0038479939011414636), (3020, 0.10100616126803866), (3021, 0.048043055437626256), (3022, 0.012807840351528295), (3023, 0.027353750064614064), (3024, 0.030080180190668868), (3025, 0.0057779406596703015), (3026, 0.037262553843305866), (3027, 0.006226249786813796), (3028, 0.03547109075519072), (3029, 0.007752069010322305), (3030, 0.05084047953620468), (3031, 0.015094443666078226), (3032, 0.013073605726809759), (3033, 0.016515652222805537), (3034, 0.015359041798931434), (3035, 0.04973943772777962), (3036, 0.00403223992718545), (3037, 0.0050513945301118145), (3038, 0.07164601315140387), (3039, 0.007829327111600629), (3040, 0.006173380257477907), (3041, 0.011980032547589699), (3042, 0.001996783513033486), (3043, 0.005878502553619657), (3044, 0.0411532711817938), (3045, 0.055808098316446834), (3046, 0.005622627129692052), (3047, 0.018217094756532052), (3048, 0.013627450755316727), (3049, 0.012155711323378626), (3050, 0.017630636671907837), (3051, 0.03957836692585158), (3052, 0.017253504410912793), (3053, 0.0018741587944230236), (3054, 0.014403846133527775), (3055, 0.022767808337382216), (3056, 0.015145306863408243), (3057, 0.006844341659695481), (3058, 0.0035665668266337135), (3059, 0.01223087734357134), (3060, 0.03286689266539396), (3061, 0.04039731752936117), (3062, 0.005643142026953611), (3063, 0.02353306242946675), (3064, 0.014307727237354361), (3065, 0.017178285375673306), (3066, 0.004773235544385888), (3067, 0.02452843331808642), (3068, 0.019212185748623413), (3069, 0.00800478340866061), (3070, 0.02759084456739805), (3071, 0.026097460867665363), (3072, 0.005053503535680821), (3073, 0.04477231125332962), (3074, 0.018035549367482574), (3075, 0.014741833188276586), (3076, 0.022709078507537298), (3077, 0.005112370389493892), (3078, 0.015024864044425702), (3079, 0.0446410231105787), (3080, 0.017799136761639175), (3081, 0.026177725388196973), (3082, 0.01702635933672912), (3083, 0.04710603714717279), (3084, 0.005995324314180836), (3085, 0.021488801138587962), (3086, 0.004457403517149144), (3087, 0.026419458731856242), (3088, 0.0069913085199593845), (3089, 0.00483780205786379), (3090, 0.0061458391047291595), (3091, 0.007211662349996926), (3092, 0.022803505141337416), (3093, 0.0074375027033818306), (3094, 0.00787484206818286), (3095, 0.01427147663248688), (3096, 0.020053396938175157), (3097, 0.011787325204964503), (3098, 0.020161450032737754), (3099, 0.0198528547281567), (3100, 0.004727999043308019), (3101, 0.019918667116808106), (3102, 0.0187079695533258), (3103, 0.03557448048020059), (3104, 0.02354103347810963), (3105, 0.012972418577002317), (3106, 0.0198271197481151), (3107, 0.06757996946086686), (3108, 0.007249142721598968), (3109, 0.004146530309233657), (3110, 0.004815262192938336), (3111, 0.060429045158587345), (3112, 0.02945797632079033), (3113, 0.029712901602693922), (3114, 0.01890533491627403), (3115, 0.01597978978414437), (3116, 0.005284744376560596), (3117, 0.05739118188625838), (3118, 0.014727533311171975), (3119, 0.01687374533715925), (3120, 0.0045336983630225825), (3121, 0.01774875457846262), (3122, 0.0637197136854315), (3123, 0.00530020749617917), (3124, 0.02014975820282275), (3125, 0.024595088689259335), (3126, 0.0924921954927604), (3127, 0.0047708201956057), (3128, 0.007798471847658261), (3129, 0.02336892084726289), (3130, 0.013862712859240036), (3131, 0.005986913572238323), (3132, 0.004504629091201338), (3133, 0.019057357143442435), (3134, 0.014349340994739213), (3135, 0.04418764805726637), (3136, 0.005942878398871004), (3137, 0.00671288964865864), (3138, 0.005148732807429805), (3139, 0.007997278125125303), (3140, 0.004081721207884321), (3141, 0.06304954377450289), (3142, 0.014718490375664844), (3143, 0.030668024767462373), (3144, 0.01617308303542881), (3145, 0.004494956581944167), (3146, 0.003852830111950996), (3147, 0.05424183711213555), (3148, 0.018492539847609075), (3149, 0.042271553442272895), (3150, 0.013124718981810269), (3151, 0.022364572548893125), (3152, 0.0048886132306973605), (3153, 0.04651814120699112), (3154, 0.0058522143072413085), (3155, 0.004043657321173556), (3156, 0.0037535234000810984), (3157, 0.003887298545194663), (3158, 0.01331183463940587), (3159, 0.017178358299093206), (3160, 0.014173168017322355), (3161, 0.003261633856070564), (3162, 0.009001403390214926), (3163, 0.027631362182837578), (3164, 0.0062529011684164726), (3165, 0.005759037118489245), (3166, 0.02310945500569178), (3167, 0.0019496881029464877), (3168, 0.020364838892779274), (3169, 0.005460824312004101), (3170, 0.0171296714825527), (3171, 0.016147752266942976), (3172, 0.009869441373644214), (3173, 0.0042531156107610945), (3174, 0.005112271982084796), (3175, 0.0531865837760685), (3176, 0.005503594616276023), (3177, 0.012002657770808339), (3178, 0.0040389231928360005), (3179, 0.006519789017494322), (3180, 0.004686442856719953), (3181, 0.022668182662536496), (3182, 0.03246989192416334), (3183, 0.004338621293156651), (3184, 0.032175545077151056), (3185, 0.004797631173438073), (3186, 0.01204486935610309), (3187, 0.0048131111986247106), (3188, 0.009095762336093115)]\n"
          ]
        }
      ],
      "source": [
        "# Getting a list of similar movies\n",
        "Recommend_Score = list(enumerate(Similarity_Score[Close_Match_Index]))\n",
        "print(Recommend_Score)"
      ]
    },
    {
      "cell_type": "code",
      "execution_count": null,
      "id": "de21d0ab-3494-4db0-9c30-96ff0fc0f268",
      "metadata": {
        "id": "de21d0ab-3494-4db0-9c30-96ff0fc0f268",
        "outputId": "f207bfbb-7167-44db-d986-f96c30bcbfc7"
      },
      "outputs": [
        {
          "data": {
            "text/plain": [
              "3189"
            ]
          },
          "execution_count": 127,
          "metadata": {},
          "output_type": "execute_result"
        }
      ],
      "source": [
        "len(Recommend_Score)"
      ]
    },
    {
      "cell_type": "code",
      "execution_count": null,
      "id": "4199194d-85fd-4530-92dc-e5b0386d258f",
      "metadata": {
        "id": "4199194d-85fd-4530-92dc-e5b0386d258f",
        "outputId": "8106f992-ff07-475f-f4b1-e50fce69d0b3"
      },
      "outputs": [
        {
          "name": "stdout",
          "output_type": "stream",
          "text": [
            "[(2692, 0.9999999999999998), (562, 0.13782990767200964), (2206, 0.13338283994050207), (2921, 0.13195355074431603), (295, 0.11867453576891537), (928, 0.11604577353078498), (1838, 0.11558765833899606), (2700, 0.11259882528784979), (958, 0.11005709462308426), (2005, 0.10997392072884728), (2905, 0.10777998730852947), (2124, 0.10774026108847207), (768, 0.10185969117874488), (3020, 0.10100616126803866), (849, 0.09806816598040083), (2469, 0.09749378665124583), (29, 0.09721570449638803), (1736, 0.09399575194382778), (62, 0.09306070326450598), (103, 0.09263224910063414), (3126, 0.0924921954927604), (2502, 0.09233715427652364), (498, 0.09012132089573316), (2142, 0.08988406124561141), (891, 0.08964365525755236), (726, 0.08945786919789984), (2538, 0.08903216495542973), (1530, 0.08873900041140778), (1859, 0.08797711146208681), (1377, 0.08750376574927976), (1132, 0.08646476738364564), (1314, 0.08630304111081563), (1161, 0.08629756395560517), (2624, 0.08435803041641403), (437, 0.0827051946233314), (2427, 0.08185549398768534), (2721, 0.08140055232406977), (335, 0.08033387553462813), (1056, 0.08030003133205366), (2885, 0.08028685757870635), (2023, 0.07985529099879105), (12, 0.07924492858839828), (648, 0.07895487162832236), (705, 0.07891380838182546), (1881, 0.07882362568663001), (1431, 0.07871270743042637), (2572, 0.07857986952607837), (842, 0.07819604599863231), (1749, 0.07805668262079024), (217, 0.07773261993704123), (1454, 0.0774538337861167), (2815, 0.0767836898390693), (2710, 0.07648894458878396), (2951, 0.07641890492210376), (748, 0.07585979493875483), (2640, 0.07545326059238512), (2965, 0.0752141236794834), (2694, 0.07519165245728018), (153, 0.0747970521260877), (2231, 0.07360564220809528), (1708, 0.07335334886076632), (759, 0.07304026651729374), (2533, 0.07177941871484739), (3038, 0.07164601315140387), (415, 0.07132509606436202), (2612, 0.07091468348698206), (912, 0.0708805420808212), (684, 0.07076933812278699), (2504, 0.07022350167221668), (1199, 0.06944958009477362), (2099, 0.06912951887592203), (770, 0.06889814819758056), (2945, 0.06852072164158612), (2746, 0.06849238538641039), (1958, 0.06842167536518182), (2457, 0.06816740915709513), (1511, 0.06777133112330211), (3107, 0.06757996946086686), (2561, 0.06749317471874744), (519, 0.06724166831676989), (114, 0.06706957596152033), (2747, 0.06667757788769461), (2568, 0.06664366363747819), (1127, 0.06654431557991827), (2347, 0.06653182211022965), (2926, 0.06613988849052876), (852, 0.06593020988419315), (2896, 0.06549976929662482), (2912, 0.06539151953232988), (1514, 0.06530856983412588), (1329, 0.06523315825514063), (771, 0.0647908717244094), (2946, 0.06473637143457403), (256, 0.06448811034881204), (2910, 0.06446258343482922), (1489, 0.06436533136710754), (2642, 0.0640542479613826), (1306, 0.06400009838347478), (3010, 0.06381107804972003), (2881, 0.06378680485062854), (3122, 0.0637197136854315), (459, 0.06363292973094581), (589, 0.06362267913831207), (783, 0.06332363762062204), (3141, 0.06304954377450289), (2150, 0.06301993314724924), (2728, 0.06252477186413227), (454, 0.06243284878679174), (593, 0.06239916499546119), (1917, 0.06228261649296065), (253, 0.062160197127845845), (2416, 0.06207550697570618), (1054, 0.062012186641454574), (2380, 0.06198262087981093), (915, 0.061944658650722795), (2224, 0.06191577168207246), (428, 0.06175620284167056), (1221, 0.06150278947519177), (112, 0.06123942009634123), (569, 0.06113793839645419), (1971, 0.06068109372897508), (2703, 0.060667251808609414), (1759, 0.06055477126964473), (3111, 0.060429045158587345), (2462, 0.06041653736880958), (2718, 0.060125476358518934), (1258, 0.060081503816813216), (384, 0.06005228899908076), (23, 0.06004992570991528), (2954, 0.059950993198035256), (826, 0.05989934691093685), (444, 0.05968250925935388), (325, 0.05948208213971953), (116, 0.059418481755258115), (1640, 0.0593117887441971), (1396, 0.059290382620719145), (1058, 0.05911022107149287), (1027, 0.05907707157748929), (2297, 0.05887114869839178), (864, 0.0588498811776702), (2264, 0.05854981064865353), (1143, 0.05845547483586482), (1847, 0.05821747452483215), (690, 0.0581383490734838), (38, 0.05810182468273611), (2411, 0.058089185111674005), (2648, 0.05802859760457436), (1005, 0.05773556057972045), (2069, 0.05746631884530776), (1057, 0.05739244941261351), (3117, 0.05739118188625838), (1029, 0.05736434219700915), (2552, 0.057358080241085935), (1035, 0.057147899136940204), (1788, 0.05712725122020744), (602, 0.05692360022262963), (2813, 0.05674354865149972), (2066, 0.056738054365987146), (2239, 0.05659777255793504), (429, 0.05658237298809895), (1001, 0.056486205429989965), (262, 0.05606456017095016), (1289, 0.056023068864544244), (2514, 0.056021976448924614), (2287, 0.0558136372546774), (3045, 0.055808098316446834), (855, 0.055737688961277364), (2214, 0.05530096954432355), (763, 0.05518625814316835), (235, 0.05508026382266128), (465, 0.05501230403961206), (878, 0.054856978703830425), (1558, 0.05481199985472361), (251, 0.05470856251965438), (97, 0.05441955911515526), (2229, 0.054328399074696936), (3147, 0.05424183711213555), (1010, 0.05419575877404641), (184, 0.05397307928436622), (1696, 0.053867102228372786), (548, 0.053602558977460704), (1270, 0.05358228237415094), (2319, 0.05353567010930797), (573, 0.0534846983717724), (1928, 0.05341785076855046), (324, 0.05330991581311819), (1271, 0.05320998069612594), (3175, 0.0531865837760685), (2934, 0.0531658847705221), (1510, 0.05304554528815829), (1709, 0.052978921051491434), (1110, 0.05285127674771044), (1914, 0.05281299734036171), (1398, 0.052675327896929136), (2995, 0.05264457750661087), (899, 0.052394804362764766), (1272, 0.05236914083787049), (99, 0.05233744111123196), (2722, 0.05233709140642487), (1699, 0.0522321953803088), (2003, 0.05223018536756428), (2363, 0.05213697360021392), (1083, 0.052115313166914534), (1861, 0.052105296167568274), (2493, 0.052052751354755636), (2708, 0.051930174157273315), (500, 0.05190394758838275), (284, 0.05183129745934236), (3007, 0.05179750747162541), (785, 0.051754080310041195), (1217, 0.05165439118924826), (2381, 0.05153465255900799), (929, 0.05149201285465292), (464, 0.05143797856198472), (2384, 0.05143496228696844), (1991, 0.05139137799697315), (1795, 0.05124236222533507), (2798, 0.05123036710378208), (1362, 0.05122769867753587), (25, 0.05122112530487128), (2911, 0.05116133604073912), (1700, 0.05107700498858562), (903, 0.05101345055961001), (948, 0.05091839502612509), (698, 0.050846171133202424), (3030, 0.05084047953620468), (2535, 0.05081663169073101), (2261, 0.050805534040697944), (133, 0.05076820726151267), (2629, 0.05074816445644846), (2032, 0.05021404350375801), (2620, 0.050194582440752714), (1947, 0.050178785118867225), (628, 0.05015196792815299), (1502, 0.05011095099426822), (84, 0.04984830928527392), (1114, 0.04976990058049236), (3035, 0.04973943772777962), (362, 0.04949636498118369), (1134, 0.049464751465909965), (2399, 0.049399545473066506), (240, 0.049396458040174174), (1317, 0.04928916702547758), (2484, 0.049207328587551724), (30, 0.049157464840104095), (877, 0.04915226548269579), (408, 0.049121236946873426), (2076, 0.049064493330726246), (2116, 0.04882880802606908), (2597, 0.04877031455197095), (869, 0.048605489899479534), (1261, 0.04858011434309022), (2188, 0.048579835472038965), (196, 0.04856720578537406), (2988, 0.04843529457807037), (925, 0.04841882062837692), (2358, 0.04813280427392601), (2213, 0.04806051949053172), (1384, 0.04804437017890861), (3021, 0.048043055437626256), (1074, 0.04798834427840959), (2645, 0.047945097054589894), (1372, 0.04785343025801113), (2914, 0.04781714537145428), (1460, 0.047735099184430564), (2793, 0.04766434220290154), (2364, 0.04765419368842229), (2570, 0.04750545606825457), (2942, 0.04749880994746936), (2461, 0.04745449631896405), (568, 0.047361987615747995), (2331, 0.047348082768215935), (553, 0.04730315875107625), (1090, 0.047282729130300336), (212, 0.04726791292783823), (9, 0.04726693196508997), (1097, 0.04716020631930529), (1255, 0.04715495670710682), (115, 0.047114971314903734), (3083, 0.04710603714717279), (1078, 0.04699061294816779), (2546, 0.046939791873019464), (1943, 0.04688832984218195), (1818, 0.046820180122305044), (2473, 0.04680397534849895), (730, 0.04679679435473235), (1500, 0.04679556863767781), (1325, 0.04663346018930093), (3153, 0.04651814120699112), (1592, 0.04650198313071377), (1805, 0.04648050082892835), (1247, 0.04639601068416559), (2139, 0.04635924385718258), (3002, 0.04629843201306136), (1274, 0.04625037931373051), (122, 0.04623689845990675), (404, 0.04617394988206226), (1266, 0.04614856035331598), (2310, 0.04591285542942185), (2867, 0.045865353555135956), (2436, 0.04561450838474025), (1762, 0.04560734498933207), (2081, 0.04555003344406898), (2247, 0.04542182343894953), (662, 0.04537746935653594), (1506, 0.04517505533049895), (2827, 0.04504964117155524), (561, 0.04488426010564961), (930, 0.044859406914937686), (2576, 0.044843024533571904), (2515, 0.044791040142900924), (3073, 0.04477231125332962), (1059, 0.04471347498516063), (3079, 0.0446410231105787), (879, 0.04445000270964075), (2961, 0.04439891193375316), (1675, 0.044389948445868396), (2596, 0.04437509664935183), (2397, 0.0442291691133171), (3135, 0.04418764805726637), (41, 0.044144253452437276), (509, 0.044106084742669555), (1441, 0.04402148327718974), (888, 0.04394185756880692), (2967, 0.0439114191072868), (1537, 0.0438941976527296), (2592, 0.04388701699476448), (2875, 0.0438736640346984), (1387, 0.043864852597484114), (2820, 0.04369268530257701), (1522, 0.04366219809018769), (1121, 0.043660739972472856), (1138, 0.043533584095644506), (1179, 0.04351661694479722), (2082, 0.04349136408856373), (1038, 0.04326784403914148), (952, 0.04321723162503782), (2842, 0.04321463078403534), (846, 0.043193327610534266), (540, 0.04310181247889533), (1107, 0.042962020101378534), (907, 0.04292640156841465), (1543, 0.042863755459432794), (753, 0.0428564225035193), (957, 0.04279787201901889), (1423, 0.04276370631223898), (1930, 0.04272478053363936), (1099, 0.042557249872461615), (2993, 0.042532536383101296), (411, 0.04251284514804476), (1338, 0.042487659416079036), (1942, 0.04246098859441705), (410, 0.04228621224968088), (3149, 0.042271553442272895), (1048, 0.04221619782548708), (2850, 0.04198855066369914), (1085, 0.04172546785340317), (292, 0.04169965779152319), (1366, 0.04160485270057518), (1238, 0.04151107666534878), (2659, 0.04150280983842904), (2773, 0.04148078933814095), (2727, 0.04144575879767544), (257, 0.0413752109947033), (2802, 0.04134238662801408), (1649, 0.04115473542481865), (3044, 0.0411532711817938), (191, 0.04103349153673183), (213, 0.040931272817223384), (2665, 0.04089539063238708), (494, 0.04074637777617671), (1476, 0.040743038954877596), (2480, 0.040706273425719065), (132, 0.04055762266843434), (47, 0.04052565179009116), (1841, 0.04047584185511595), (577, 0.04040440821222879), (3061, 0.04039731752936117), (1713, 0.04031235523920604), (2277, 0.04030365561227312), (953, 0.04025389059309839), (1342, 0.04021111256409002), (229, 0.039875305995274654), (807, 0.039871093378139044), (2653, 0.03985901479184536), (39, 0.03977892121179187), (2989, 0.03965498982835143), (3051, 0.03957836692585158), (1877, 0.0395185881652529), (1697, 0.0394529409008779), (979, 0.03937239834277173), (1483, 0.03936241121517667), (1169, 0.0393017591274966), (1356, 0.0391566877931286), (1727, 0.03906802418481533), (2594, 0.03876816259748475), (453, 0.038665010450442225), (853, 0.038637388045435206), (2458, 0.03858152130304861), (918, 0.03841399504022675), (2866, 0.03835549583708171), (755, 0.03834799252450702), (950, 0.03828090900265512), (1485, 0.0381975946998689), (33, 0.038185232973226284), (2782, 0.03816800463789745), (1519, 0.038114646622303947), (2050, 0.03809871490862907), (764, 0.03806900960373306), (2822, 0.03798013104320121), (2078, 0.037925164648110535), (2605, 0.037834949719543196), (544, 0.03760435597647742), (964, 0.0375910075521639), (1724, 0.037540864320118425), (1996, 0.03726704783673822), (3026, 0.037262553843305866), (461, 0.03723864299373823), (2279, 0.037219030285476754), (756, 0.036979855662105966), (1932, 0.036960399948592675), (1721, 0.03693717005828342), (2719, 0.0367776394174273), (2243, 0.03670134583235851), (1087, 0.03649888852483088), (1687, 0.03649033665341153), (1003, 0.03643397060307063), (1985, 0.036343612485162706), (1337, 0.03633888623230897), (790, 0.03632657449566509), (232, 0.03626890401439506), (2892, 0.03616287840005734), (2109, 0.036064430672707835), (2853, 0.03596829873013457), (2280, 0.03594873973409047), (1131, 0.03593487660452054), (642, 0.035892987633776324), (2146, 0.035882795893179054), (1013, 0.035828916994116035), (57, 0.03580590037045643), (2562, 0.035738255433843326), (832, 0.035720979157295614), (823, 0.03570913629924459), (1829, 0.03562339501327785), (667, 0.03561331987652325), (1034, 0.03560127849178918), (2295, 0.03559252377689338), (1128, 0.035585263459573885), (3103, 0.03557448048020059), (1402, 0.03554055857750177), (515, 0.035528627354746725), (1619, 0.0355270126368589), (1821, 0.0355154438360422), (2778, 0.03549635389364636), (3028, 0.03547109075519072), (1997, 0.03543737200679386), (2256, 0.03543368497419124), (471, 0.03535845822488092), (676, 0.0353083816663871), (2966, 0.035254374864690706), (2913, 0.035254141597396906), (58, 0.035214390317913624), (68, 0.035159222802888614), (1854, 0.0350905657500208), (639, 0.03476079381250036), (1219, 0.034684117855442016), (2483, 0.034519559873737525), (1636, 0.03448965855062026), (1731, 0.0344714186833325), (247, 0.03443455836906609), (1450, 0.03438577581213205), (1250, 0.03433519022119045), (2625, 0.0343284298304289), (848, 0.034290493690523824), (2858, 0.03426527278745191), (1757, 0.03424354245130284), (2977, 0.03415044504213896), (862, 0.034079406639201136), (1033, 0.03405297619953842), (1659, 0.033868774955036), (2094, 0.03380509188123562), (1166, 0.033781946984825006), (693, 0.033683845835071814), (2290, 0.03342697575589184), (6, 0.03336782829438101), (2445, 0.033302536603866985), (1672, 0.03322109522829912), (160, 0.03317929597159911), (1931, 0.03314729980406198), (2040, 0.033080984206743866), (1230, 0.03304926909914756), (3060, 0.03286689266539396), (2799, 0.03283525778750854), (1523, 0.032776778616431586), (904, 0.032744377709523945), (2689, 0.032709060988070436), (189, 0.032661306163296176), (2647, 0.03263160820085066), (477, 0.032596269240560735), (1665, 0.03253406082354941), (760, 0.03249404785502176), (3182, 0.03246989192416334), (1581, 0.03245157949876607), (2195, 0.032178349636599365), (3184, 0.032175545077151056), (1674, 0.03212917614623965), (331, 0.03208927231434267), (1692, 0.032062110455061965), (2870, 0.03199636438142992), (1296, 0.03199528786040402), (2661, 0.03197130926522718), (2329, 0.031925436859399726), (1792, 0.03186201856832991), (2932, 0.03175888337503551), (1501, 0.0317454137396306), (1658, 0.031702857405049495), (2366, 0.03165475605838943), (1165, 0.03164315305759423), (1905, 0.031559294146716835), (980, 0.031556614113699755), (158, 0.03152817065166137), (2278, 0.03150048800727165), (36, 0.031465192514269005), (2883, 0.031437819308406306), (2371, 0.03140851089721535), (1876, 0.03140426503757176), (610, 0.03136789959319589), (1030, 0.03134733817953688), (1509, 0.03134491437227884), (1887, 0.0312914562068634), (2017, 0.03127625690261362), (111, 0.03120779041476363), (2771, 0.03114693507950326), (13, 0.031126867613616153), (585, 0.031120247019819313), (2089, 0.031091870365831005), (2205, 0.031086256757201114), (2731, 0.03103723382415103), (40, 0.031015708608125768), (2702, 0.031011971971416776), (170, 0.031009787941178098), (533, 0.030999049293140346), (971, 0.030910131235540775), (1499, 0.030900245846117468), (1183, 0.03089856555396171), (944, 0.030890656001197645), (611, 0.030887466363342237), (1797, 0.03086055745267683), (1976, 0.030811216681617033), (505, 0.03074309214648728), (3143, 0.030668024767462373), (800, 0.030632473754448657), (1615, 0.030587155549092644), (1981, 0.030560707984799037), (1639, 0.030548172718961156), (1432, 0.03054504099749695), (1789, 0.030442632152246622), (1576, 0.03043485457689074), (2105, 0.0303587068551767), (1832, 0.03033607744799349), (2681, 0.030301921865108414), (706, 0.03030054332356468), (685, 0.03028674830437327), (1622, 0.03026293642850907), (1259, 0.030252758228082374), (860, 0.030225848894933995), (2733, 0.030212006922141876), (1710, 0.03020101040145816), (3024, 0.030080180190668868), (857, 0.030057589453595428), (2919, 0.030038907028913805), (1244, 0.030030444090697585), (522, 0.029981877453640796), (709, 0.029878083401561072), (2742, 0.029850714313868536), (2166, 0.02983620851893898), (1849, 0.029826469715474126), (1281, 0.029807972390433483), (2424, 0.029801791602763663), (3113, 0.029712901602693922), (1439, 0.0296911272405053), (214, 0.029689766369591454), (1224, 0.029604949808957896), (773, 0.02956962849149785), (1799, 0.029555639277599785), (392, 0.029508898526748043), (312, 0.029485036211246613), (1865, 0.029469431956428184), (3112, 0.02945797632079033), (2189, 0.029448699951744692), (551, 0.02938180872973594), (470, 0.029367152046544213), (83, 0.029363008650976824), (2158, 0.029362724216138718), (1229, 0.029348063406279854), (317, 0.029306527333713073), (2037, 0.02928102263675466), (1862, 0.02922357460769706), (1273, 0.02921272961072423), (380, 0.029182962058236204), (1579, 0.02914068247138129), (672, 0.029137039178053), (2208, 0.02912312607053176), (1844, 0.02907358462690149), (163, 0.02904881533502832), (835, 0.028992304896558345), (2194, 0.02895276470028868), (2996, 0.028945851084303635), (1525, 0.028885697179724952), (1, 0.028855070952625433), (2024, 0.02884101901101791), (1809, 0.02881873398840456), (1763, 0.028760386172502282), (2831, 0.028737028978719985), (151, 0.02870609109868239), (2153, 0.028697934364330064), (288, 0.028673798977487876), (2591, 0.028643523634337066), (529, 0.028635217263318028), (805, 0.0285086887909963), (142, 0.02850467696346827), (631, 0.028467212848112697), (1860, 0.028392711626114044), (497, 0.028323368241253456), (1256, 0.028315578115590666), (2676, 0.028248011686495707), (2729, 0.02817873765993862), (2022, 0.028159620793756623), (1044, 0.02815516642095227), (1135, 0.028135105085960833), (1071, 0.028090927228348876), (2931, 0.02808821697943049), (1867, 0.028085127584143207), (360, 0.02808297993460523), (1061, 0.028073127174497958), (1535, 0.028053411277521836), (1246, 0.02801883020908526), (2589, 0.027980655683173712), (406, 0.027975477766322643), (834, 0.027913943828059083), (1532, 0.027886840199521274), (296, 0.02788575068489418), (2844, 0.027865746675719994), (2271, 0.02784471920673222), (1312, 0.027817342801471558), (2564, 0.027817169954612902), (1011, 0.027801306686464012), (1390, 0.027799982588615744), (2027, 0.027779515272541466), (2145, 0.027748636887910648), (1781, 0.027747059909124943), (1301, 0.027736571256000347), (228, 0.027694737714042822), (65, 0.027664662002503376), (3163, 0.027631362182837578), (455, 0.027615437727764876), (3070, 0.02759084456739805), (1440, 0.027578993486289897), (731, 0.027526283285785033), (2739, 0.02752485206358998), (1767, 0.027500097921768094), (18, 0.02748253505414346), (2107, 0.027468526640882274), (2360, 0.0274603205945635), (155, 0.02744647937972185), (1260, 0.027429367577017347), (2953, 0.027419146659619288), (1587, 0.027412266771049375), (787, 0.02738958340731003), (737, 0.027380611821591787), (1286, 0.02738036089610248), (1609, 0.027370820589276486), (3023, 0.027353750064614064), (2958, 0.02731210228457792), (488, 0.02726488349629199), (1888, 0.027263833469735016), (476, 0.027231211841784148), (1872, 0.027094050408700266), (927, 0.027076707006854106), (1796, 0.02702976278514043), (1283, 0.0270145950547706), (1380, 0.02699286328914193), (129, 0.026902453985865268), (983, 0.026883930022220642), (1484, 0.02687245121207598), (2026, 0.026775054649938998), (318, 0.026759918578017617), (1139, 0.026748873385845133), (180, 0.026747951529227022), (2086, 0.026724218989921496), (716, 0.026715320061698133), (1571, 0.02668903709547324), (332, 0.02668361962261053), (723, 0.026662819946725543), (1100, 0.026641269567964677), (982, 0.026635472725329082), (3005, 0.02659104229719909), (2957, 0.026585753037609593), (1142, 0.026569441816478016), (966, 0.026503466957006932), (2725, 0.026439002481272424), (2684, 0.02642394830669418), (3087, 0.026419458731856242), (2512, 0.026380320219291875), (323, 0.026320795156328333), (2791, 0.026266079177592497), (2328, 0.026198959408741875), (3081, 0.026177725388196973), (269, 0.02614484974939666), (73, 0.026113911824485164), (3071, 0.026097460867665363), (2697, 0.0260961979307328), (1538, 0.026075595514551735), (1201, 0.026053738279675748), (2455, 0.026028621136834698), (2479, 0.026025502550578238), (2784, 0.026013081693677706), (2306, 0.026009971835061412), (1104, 0.025997764365275757), (1572, 0.025961768128066234), (2817, 0.025944717504943537), (2751, 0.02593686812920317), (1065, 0.025925038807682224), (2679, 0.025904762577940926), (1410, 0.025895749881992804), (657, 0.025892157946505654), (355, 0.025891606079893527), (2790, 0.025846482501870896), (2056, 0.025824646469935174), (2884, 0.025817177247107036), (1528, 0.02581685412480869), (2171, 0.025804795302558844), (2809, 0.02579773742178778), (900, 0.025786451775737268), (1716, 0.025774741387119486), (1612, 0.025751807026155954), (1926, 0.025736099257091655), (145, 0.02572734207604823), (831, 0.025721896062416746), (2392, 0.025686724495663605), (394, 0.02567948124792796), (1890, 0.025604348240705937), (254, 0.025593554000521726), (2163, 0.02555322081796135), (738, 0.02555062659451806), (1669, 0.025538334353113205), (1079, 0.02552586225411157), (2848, 0.02549184942782953), (1686, 0.025446379916763066), (1404, 0.02539841590213178), (2285, 0.02533857015930091), (640, 0.025312382551256073), (886, 0.025279220218471756), (2130, 0.025272722163302192), (2387, 0.02523897104100324), (1600, 0.025231585594099017), (680, 0.025198468381520386), (353, 0.025194139841965203), (372, 0.025179124797537457), (1148, 0.025158490497217165), (166, 0.025132184068535495), (2173, 0.025132107900765657), (1341, 0.0251234049737049), (632, 0.025122524710743478), (1650, 0.025117008626125197), (1055, 0.025112402882449442), (1178, 0.02509092755208669), (2632, 0.025077565454631547), (176, 0.025032219850978102), (1879, 0.025020487773345253), (809, 0.025008682503936668), (1394, 0.025005643613969324), (880, 0.024972567334835702), (2614, 0.02489104400486946), (398, 0.024890445208409197), (1095, 0.024878770333463113), (1707, 0.0248752476055235), (651, 0.024853407019065018), (2009, 0.024848911800297243), (2593, 0.024846662149543383), (1585, 0.0248332895952181), (1804, 0.024820929225050498), (1442, 0.024769404504038275), (1336, 0.024767617157718032), (2103, 0.024756158574260965), (616, 0.024749989071588624), (1574, 0.02474170361511715), (2396, 0.02473840429329978), (2971, 0.024669614987564228), (2871, 0.024658821237575554), (486, 0.024657041788419244), (669, 0.02465639064136528), (2936, 0.02463235827252285), (263, 0.024627213522818228), (3125, 0.024595088689259335), (1094, 0.024589841216000927), (2375, 0.024581434489265246), (2701, 0.024544509491341238), (3067, 0.02452843331808642), (1147, 0.024501960848253228), (504, 0.024481517485710775), (2129, 0.02446680955402436), (303, 0.02444872011447838), (2043, 0.02440680471758153), (2382, 0.024366753707631823), (0, 0.024334591467174586), (715, 0.0243178185426899), (1982, 0.024296912458533056), (198, 0.024259501439133864), (1386, 0.024228141657364078), (350, 0.02422680510302321), (2563, 0.024222143486292792), (330, 0.02421186137768471), (2327, 0.024192296153085498), (1382, 0.02417645651062228), (2389, 0.024172737143840557), (234, 0.024149436739727123), (134, 0.024130781373798645), (978, 0.024105598541377442), (1363, 0.024094685600561116), (1351, 0.024046867511324097), (2013, 0.02404313730204955), (49, 0.02401832442801095), (2439, 0.0239914323162063), (3009, 0.023962136284410143), (1611, 0.02395116107932285), (2187, 0.023914924370218874), (422, 0.023875722971367346), (885, 0.02386050819618144), (2839, 0.023842358178278133), (1894, 0.023827417055402575), (866, 0.023817429147675498), (1584, 0.023805529276124844), (1960, 0.023781130610228934), (2760, 0.023763405540819744), (2775, 0.023757648661780394), (1124, 0.023669177843547107), (735, 0.023661292659816997), (2147, 0.02366122481912709), (1412, 0.02365666038211169), (1545, 0.02360177348160665), (2685, 0.023591063973661983), (361, 0.02356252667368632), (3104, 0.02354103347810963), (3063, 0.02353306242946675), (480, 0.023476672638509416), (261, 0.023470995598944812), (2938, 0.023420485072834608), (1583, 0.023410207733348933), (2769, 0.02340424599155418), (2887, 0.023373178556875006), (3129, 0.02336892084726289), (395, 0.02335046748027574), (241, 0.023319819816804296), (538, 0.02331141292140726), (1683, 0.023253468164799916), (1371, 0.023249223271372008), (414, 0.023240412387823865), (2149, 0.023175599897934038), (1233, 0.023143331482708748), (546, 0.023142164837063335), (348, 0.023139313571980832), (671, 0.02312420692981107), (3166, 0.02310945500569178), (765, 0.02308387802618872), (141, 0.023044882878512165), (617, 0.02302681795414504), (1671, 0.02301492623699062), (1589, 0.022986454396207574), (2509, 0.02297982276148968), (1848, 0.022949770856622257), (1235, 0.02287272745795653), (541, 0.0228658128571749), (412, 0.022858255422288164), (1112, 0.02280497930571246), (3092, 0.022803505141337416), (1086, 0.02279370326174107), (1036, 0.02277269163169393), (3055, 0.022767808337382216), (2849, 0.02274283997429184), (3076, 0.022709078507537298), (2359, 0.02270563828526511), (1542, 0.022702128018121014), (1814, 0.022694284093580302), (3181, 0.022668182662536496), (1355, 0.022658004831410783), (2275, 0.022640732796500557), (701, 0.02262803378953721), (192, 0.022616027246858815), (2165, 0.022605678383255407), (2245, 0.02257320921026809), (2065, 0.022569266074722483), (2503, 0.022557841609504362), (2882, 0.02254266404915513), (775, 0.022538710561814064), (742, 0.022520215013200798), (1573, 0.02251990264954338), (2373, 0.022511382233198585), (2637, 0.02250877158809694), (2811, 0.022488827557212543), (231, 0.02248741405632753), (694, 0.022415098589066262), (1925, 0.02241018950014168), (827, 0.022407629375275566), (2464, 0.022395597643525327), (159, 0.022389160980777534), (2478, 0.022371225325539264), (3151, 0.022364572548893125), (2162, 0.02233835239923283), (996, 0.02232408960896221), (2860, 0.022293449365175987), (2174, 0.022256632686303637), (2810, 0.02224429687641509), (339, 0.022231897351824067), (1192, 0.02222867079926885), (2096, 0.022220581948339035), (2962, 0.0222148973273203), (1375, 0.022181356807418163), (2097, 0.022175990929638633), (345, 0.022147590104116925), (1039, 0.022123339409933475), (1613, 0.022101195166194892), (1608, 0.022068465058128584), (2160, 0.02204792567224711), (758, 0.022009603832872614), (1156, 0.021991200724419367), (271, 0.02196814760193541), (342, 0.021964876372938598), (1268, 0.021959596797928194), (582, 0.021954807448697527), (2025, 0.021930930711698576), (1690, 0.021894383289392666), (2836, 0.021869326792605344), (2915, 0.021862234998858684), (1729, 0.021854683852373328), (297, 0.021839497571690063), (2786, 0.021836803777304296), (772, 0.02181702301685346), (2394, 0.02181561944359267), (1726, 0.02178241236656064), (941, 0.021746118817621528), (2322, 0.021746018481263403), (1714, 0.021731951517681265), (2128, 0.021726671330231515), (896, 0.02171573511148732), (1689, 0.021712419386159303), (1216, 0.021686688927207105), (1146, 0.021685291674356073), (1831, 0.021679049143219744), (898, 0.02167421034771733), (1446, 0.02165756976071498), (2481, 0.021614021298325632), (2250, 0.021594880455256767), (2974, 0.021567006691024404), (1208, 0.021562372176559458), (1625, 0.021558770601847174), (482, 0.02155715038318848), (700, 0.02155424543458625), (1957, 0.021495669851524058), (2615, 0.021493933435589748), (3085, 0.021488801138587962), (564, 0.02146129662469079), (752, 0.021458670469327534), (2743, 0.02144786652553518), (1315, 0.021447811232737448), (310, 0.021447420651572624), (955, 0.021446086963494263), (2193, 0.02144568961236915), (1472, 0.0214359014129547), (951, 0.02143581921177258), (1560, 0.021420867627824976), (375, 0.021407466099841475), (1503, 0.02139080248387958), (2252, 0.021375940509678764), (1885, 0.02137079806210594), (2983, 0.02137017512621836), (2449, 0.02136796310549305), (1934, 0.021331429857732766), (2496, 0.021320802497866227), (1533, 0.021306792972560325), (2516, 0.021305557587346428), (937, 0.021294629024015504), (516, 0.02129259097599845), (2236, 0.021261811446717994), (1461, 0.02125446856465719), (1350, 0.02123879304183263), (1245, 0.021221051939810623), (1703, 0.021215577116018916), (1177, 0.02119450584044483), (987, 0.021176423982284205), (109, 0.021172107505010945), (2219, 0.021163412795698174), (438, 0.021153594435713782), (1977, 0.0211373548357082), (2191, 0.02112871006151316), (1434, 0.021117690766737276), (1751, 0.021109750679950245), (1052, 0.021047462795869498), (2984, 0.021047448056886166), (199, 0.021044898809311614), (2304, 0.02104122683254591), (1979, 0.02103441145773488), (2513, 0.02103209433607966), (61, 0.0210278966848514), (1334, 0.021025507416705388), (2170, 0.021012697805096972), (2391, 0.02100683370540453), (2695, 0.02100039471343575), (2635, 0.02098545468863591), (475, 0.020977621765321176), (117, 0.020964343224773353), (1953, 0.020960632915952626), (1992, 0.020959884438724628), (1695, 0.020959782205436716), (436, 0.020950153751213167), (1923, 0.02094975079345203), (643, 0.020926677956809504), (2182, 0.020899625373452642), (265, 0.020888014424836815), (2370, 0.020880625627218617), (169, 0.020859221207164096), (1863, 0.02085146721983374), (2956, 0.020847508963473704), (359, 0.020839081216640354), (2859, 0.02083807480160815), (2753, 0.020835933512288733), (2064, 0.020835639297719376), (393, 0.020810765015408485), (1911, 0.020805805672977955), (71, 0.020805443817650954), (2735, 0.020768919453680753), (850, 0.020763961428604368), (293, 0.020752094034983983), (2133, 0.02074455611224702), (274, 0.02073648508897704), (2198, 0.020731864660832933), (1742, 0.020716549794091536), (249, 0.020710169648012675), (2453, 0.020709530999207647), (1464, 0.020690166854157865), (2673, 0.020678182550868528), (2339, 0.02063898592405315), (2491, 0.02062927160705954), (859, 0.02059580917745966), (2818, 0.020548539305920956), (612, 0.0205451567441021), (1624, 0.020544509357029526), (363, 0.02052620265436962), (2630, 0.02051996343182227), (1554, 0.020518587757835136), (2767, 0.020510562530039113), (1478, 0.02049532864020074), (794, 0.02049393370630785), (2465, 0.020473873507936117), (2164, 0.020472853161446723), (2828, 0.020464838053242684), (2664, 0.02042404687034921), (1746, 0.0204139198571816), (946, 0.020405638132452684), (1028, 0.020391034733705512), (3168, 0.020364838892779274), (2851, 0.020322659564888868), (1694, 0.020322603008893356), (599, 0.02031647005124612), (2259, 0.020299785444268796), (1451, 0.020286070051786575), (2286, 0.020279408401145477), (668, 0.020271113099178367), (479, 0.020266662228081878), (320, 0.02023468422670624), (1471, 0.020232162238872246), (215, 0.020201637837918174), (936, 0.020198618507477437), (290, 0.020168550336483324), (2506, 0.020163562251021595), (3098, 0.020161450032737754), (3124, 0.02014975820282275), (2800, 0.020140767495765946), (2410, 0.02013633476171491), (580, 0.020123742478095123), (2308, 0.020114128314735757), (2270, 0.02009251375562047), (2405, 0.02008294459021365), (2114, 0.02008194516163474), (1344, 0.02006187130892228), (1160, 0.020055045490210834), (3096, 0.020053396938175157), (890, 0.02004485534018637), (1602, 0.020010848455514662), (1733, 0.02000712455935514), (1318, 0.019999233176123017), (322, 0.01998565954352962), (889, 0.01997114035402548), (175, 0.019967463240633608), (1421, 0.0199559979595881), (100, 0.019944097419604713), (2908, 0.019943588156357446), (3101, 0.019918667116808106), (2968, 0.01991338240133624), (905, 0.019898981411009112), (371, 0.01989336259819795), (236, 0.01988267511094626), (2087, 0.01987615383165329), (92, 0.019857367731806973), (3099, 0.0198528547281567), (2101, 0.019850973170558155), (3106, 0.0198271197481151), (981, 0.019819999452469476), (1516, 0.019798630192270156), (1504, 0.019790596097971173), (1141, 0.019754784444253246), (1638, 0.01974417638580732), (250, 0.019698955476031704), (2668, 0.019694014503852643), (2693, 0.019672416752475504), (1936, 0.019653438540666854), (456, 0.019653353380614847), (1137, 0.01964942190193144), (2716, 0.019641340173954733), (1496, 0.019633932244562974), (1596, 0.019627620909276323), (1108, 0.01961896463729987), (997, 0.01961370254398289), (1444, 0.019613514185659185), (1845, 0.019607834351371492), (1593, 0.019564932490762348), (124, 0.019551729931528088), (259, 0.019528429226501796), (1794, 0.019520614097237387), (2781, 0.019513406094882543), (28, 0.019509404672932166), (374, 0.019487670993391607), (316, 0.019486975252163394), (1225, 0.019477271926040617), (2192, 0.019474823284999106), (2401, 0.019471237005390427), (2861, 0.019467639752669484), (483, 0.01946393274992508), (2169, 0.019455578435546534), (2291, 0.019453633490693054), (1299, 0.019434732011500755), (1051, 0.019418672090639653), (1330, 0.01938850950156319), (1811, 0.01937927321172499), (691, 0.019364738972122788), (644, 0.019358682188854205), (674, 0.019348890743364988), (2845, 0.019347652669054118), (2970, 0.019340452575418655), (307, 0.019327539629063046), (22, 0.019303346018193262), (2517, 0.01929692317517261), (594, 0.019280897082726383), (1868, 0.019260165833302416), (2680, 0.019259892376143797), (592, 0.01925744451845024), (2641, 0.019255149039418766), (1681, 0.019251670194703464), (1787, 0.01924368599507572), (2451, 0.019240888849650764), (2421, 0.01923187057103525), (1101, 0.019212572297676995), (3068, 0.019212185748623413), (1517, 0.019181451760397202), (1227, 0.01913054539308562), (2785, 0.019125747999728455), (897, 0.019112556896901698), (2671, 0.019103596482431998), (60, 0.019082335296717358), (618, 0.019064177129656294), (3133, 0.019057357143442435), (606, 0.019030628167593967), (2156, 0.0190216649698704), (2663, 0.01896111433605508), (2274, 0.018933716158687573), (125, 0.018909613916620518), (3114, 0.01890533491627403), (570, 0.018893143368554972), (2803, 0.018873402996567507), (1828, 0.018856326409695767), (801, 0.018847523319526244), (939, 0.018830517236649705), (947, 0.018787968340328552), (1066, 0.018771900367263925), (42, 0.018768679273281973), (1103, 0.018763762120280015), (998, 0.018759326542406588), (2532, 0.018747603291842614), (2020, 0.01874543762414727), (401, 0.018745217585847705), (2714, 0.018743259220978803), (1776, 0.01873397848858662), (27, 0.01871111334742471), (1185, 0.0187092636081719), (872, 0.01870846083350815), (3102, 0.0187079695533258), (2432, 0.01869163450326794), (2579, 0.018687074101382147), (2425, 0.018644717906327775), (1474, 0.018639818160967655), (260, 0.01862191303189524), (1778, 0.018613734272305123), (492, 0.018613478328764012), (1417, 0.018604284733951877), (1835, 0.018600938859025855), (1486, 0.01859769947965485), (2121, 0.018597618254215884), (421, 0.018533655376799962), (1961, 0.01852079601669625), (2098, 0.018519363034852715), (1326, 0.01850931792591945), (2215, 0.01850804712027194), (2985, 0.018506808831644187), (2343, 0.018505704945461134), (1426, 0.018503233815424524), (3148, 0.018492539847609075), (1200, 0.01846767715126938), (2868, 0.01846585749834491), (1346, 0.0184623272229668), (630, 0.018453298730718416), (96, 0.01842217593989676), (1024, 0.018411684174023408), (1080, 0.018406734847755558), (914, 0.018399821646155133), (1000, 0.018399324675235095), (2240, 0.01839481195619563), (1353, 0.01838566652201685), (93, 0.01838483705344426), (1793, 0.018355620032563615), (45, 0.018352300103342753), (203, 0.01834270467120443), (1335, 0.018337375436022783), (1968, 0.01830943889851112), (2273, 0.018305087846093963), (2209, 0.018295991080374864), (1719, 0.018281297781153477), (1702, 0.01826534957618194), (1313, 0.01825012557381254), (37, 0.018238753587658394), (2652, 0.018225371318266483), (1842, 0.018221395357572723), (1950, 0.01821864560189796), (3047, 0.018217094756532052), (2855, 0.018213697778540705), (1693, 0.01821152801885839), (161, 0.01820882989684985), (1279, 0.018188834099511258), (954, 0.018178163867810564), (623, 0.01817321591694791), (1457, 0.018165977055708424), (2923, 0.018153742345265095), (123, 0.018151635462083506), (865, 0.01815131570369523), (1717, 0.018143427311604673), (1929, 0.018140972031572104), (2204, 0.018127217747915127), (2792, 0.018126660378075213), (1642, 0.018118697776877603), (2437, 0.018111770438009156), (2053, 0.01809968046717964), (1017, 0.01809262260465684), (695, 0.018089313549036198), (2666, 0.018085368928794004), (2890, 0.01807440015986602), (1830, 0.018064542931375244), (2963, 0.018056677054673655), (2080, 0.018038969737612168), (3074, 0.018035549367482574), (130, 0.018018975235389714), (1321, 0.01799503410782216), (2837, 0.017988776475834432), (2991, 0.01798553127797671), (1909, 0.017984704773132368), (825, 0.017983490821497798), (1237, 0.017977307559098925), (2550, 0.01797724809706066), (1550, 0.017957480233826692), (416, 0.017948027052217107), (69, 0.017928871764420283), (91, 0.017927845840825872), (48, 0.017924276693717135), (1820, 0.017914927856419887), (431, 0.017913450911191287), (2608, 0.01790226308666254), (2266, 0.01789438463707254), (2368, 0.01785032155589389), (2119, 0.017849984459561034), (149, 0.017848261119993037), (2420, 0.017841172659873762), (1391, 0.017840199263479118), (583, 0.017821447433719207), (3080, 0.017799136761639175), (2744, 0.017786325509358953), (1369, 0.01777226573376538), (833, 0.017766306447955998), (301, 0.017758676690090496), (3121, 0.01774875457846262), (1975, 0.017742624091113785), (2487, 0.01773969517748607), (53, 0.017739299446406773), (2477, 0.01771239307463259), (1149, 0.017703124502987545), (35, 0.01770063347686232), (2756, 0.01769922948770491), (717, 0.017675940239808043), (2345, 0.017672526247584766), (1935, 0.017659588870065808), (2292, 0.01764689139100098), (2549, 0.01763093622656553), (3050, 0.017630636671907837), (1580, 0.017614306805705), (1648, 0.017610646641796592), (1999, 0.017607031686458205), (1462, 0.017606269870797078), (1907, 0.017582718054723494), (2001, 0.017568084478082703), (298, 0.01755848686763034), (1946, 0.017553660242636538), (679, 0.017540638719245643), (1891, 0.01753806696016145), (876, 0.017530175207440372), (2874, 0.01751723440096671), (127, 0.017507623071823002), (1212, 0.017486435306027358), (2662, 0.017482598791986034), (2899, 0.01748220015953516), (1091, 0.017466033942909975), (789, 0.017464982991522698), (2821, 0.01743486813267474), (1262, 0.017395901423595435), (1551, 0.017393568158351035), (1088, 0.01736692479281824), (629, 0.017342228037826576), (237, 0.017337993643644165), (224, 0.0173067271587205), (136, 0.017303226101688426), (72, 0.01729506072836494), (1360, 0.01728996062941612), (1752, 0.01727318411997454), (2334, 0.017269328265570844), (440, 0.017258409142930257), (3052, 0.017253504410912793), (306, 0.017217065660346517), (1869, 0.017208234977723967), (469, 0.01719808980145557), (1075, 0.01719028780932947), (3159, 0.017178358299093206), (3065, 0.017178285375673306), (402, 0.01717422023723075), (802, 0.017173668992127), (974, 0.017158805803778217), (1621, 0.01714792728553482), (992, 0.017140405924491914), (2002, 0.017137830457614748), (3170, 0.0171296714825527), (1933, 0.01711310997591453), (1269, 0.017092018431184568), (2063, 0.01707592487995289), (223, 0.017065518358579047), (1252, 0.017060260231377043), (1783, 0.017045815937805277), (1629, 0.017031638032895504), (1944, 0.01702750405063186), (3082, 0.01702635933672912), (2288, 0.017013055994979), (377, 0.017007511142940746), (1546, 0.017002671097257446), (2657, 0.016996219847992596), (1967, 0.016989665936958054), (1365, 0.01698216005235379), (1012, 0.016967413218510027), (745, 0.016963343479036583), (1198, 0.01694395403273788), (1482, 0.01693985109216463), (207, 0.016928116209290557), (2376, 0.01692353732333112), (2412, 0.016905321468269233), (1399, 0.016880764567168166), (3119, 0.01687374533715925), (243, 0.016869147093878198), (1846, 0.016860195771484912), (596, 0.01686018638363156), (2132, 0.016830874057897204), (2895, 0.016809095765949904), (1555, 0.0167980771680862), (1764, 0.016794916810845217), (1667, 0.016784662076304607), (1015, 0.016783219999464794), (2325, 0.016775804399216686), (1770, 0.01677001042502854), (1531, 0.016749644934326666), (2691, 0.01673921301269238), (2127, 0.01673511494929835), (2537, 0.016715193037007005), (1599, 0.01671218820306536), (675, 0.016707187286663067), (246, 0.01670269222274029), (995, 0.01668930668855554), (572, 0.016681481237458405), (2305, 0.016675197640298137), (16, 0.016672926089305252), (1738, 0.01666181084676307), (2095, 0.016660411655378564), (1661, 0.016647735455624795), (2734, 0.016647476739224194), (1618, 0.016623293778709324), (300, 0.016607466520518293), (2211, 0.016600603948752807), (1118, 0.016583463157426502), (1518, 0.016543569014733334), (2125, 0.016521284357002862), (2627, 0.016520735429143313), (797, 0.016516200441181638), (3033, 0.016515652222805537), (2326, 0.01651490059495128), (615, 0.016511713112206977), (2590, 0.01650098420764354), (1984, 0.01648849391658161), (407, 0.01648171273837082), (1430, 0.01647799107910756), (439, 0.01646569012078479), (810, 0.01645695122902996), (1049, 0.016456539580645812), (1413, 0.016442662063608095), (1436, 0.016429794226206045), (1720, 0.01642899706336016), (2937, 0.016427119334307065), (1324, 0.016420843626808308), (2320, 0.01641635134930528), (200, 0.016413669710260825), (2819, 0.01641079082811705), (743, 0.016388368273774948), (15, 0.01638215413084274), (774, 0.016364762073274808), (2303, 0.016357546303665677), (1508, 0.016346977636843358), (820, 0.016346209021950688), (1741, 0.016333121538439594), (697, 0.01633199657245158), (2588, 0.01633055863408814), (2636, 0.016317623327384546), (417, 0.016297173640930668), (373, 0.016283870099053112), (2613, 0.016282457940378883), (601, 0.016278233081833873), (1740, 0.01627668354709246), (2404, 0.01627388450447106), (501, 0.016266343879254106), (2093, 0.016260420858421533), (218, 0.01625810977397686), (2088, 0.016256237901569826), (2019, 0.016253191461641052), (1207, 0.01623035287443108), (686, 0.016223257142113735), (2519, 0.016219164792137773), (3144, 0.01617308303542881), (2423, 0.016159384293040164), (2540, 0.016156883044541666), (1998, 0.016156573325784455), (844, 0.0161538274961202), (3171, 0.016147752266942976), (967, 0.016146396359581417), (1627, 0.016140260012889467), (741, 0.016136609289517125), (655, 0.016135610533629552), (2400, 0.016125018489348657), (793, 0.016095623921724995), (2823, 0.016089420350924775), (1768, 0.0160874444117033), (3, 0.016085317181881525), (2341, 0.016067151653628257), (121, 0.01606467339640152), (446, 0.016064189659217673), (699, 0.016058028808560543), (994, 0.016056056918510937), (1072, 0.01605121071280504), (2365, 0.016050366956611835), (1660, 0.016023826796521), (137, 0.016019793400234104), (383, 0.015998074139971535), (1728, 0.015997895568524947), (1994, 0.015990364514991924), (3115, 0.01597978978414437), (1833, 0.015947682240082337), (2298, 0.01593976973395161), (2534, 0.01593771035838921), (1798, 0.015921794450026595), (2138, 0.015921232845388017), (1063, 0.015919065202682034), (558, 0.01590641072728632), (1310, 0.015899588604647026), (2067, 0.015895447475814995), (101, 0.015887501393756238), (587, 0.01587897530956469), (2528, 0.015859907665579112), (1358, 0.015838345202921735), (2014, 0.015836619859303028), (2886, 0.015828375823611986), (2979, 0.015824610427457024), (2864, 0.015815921115780802), (1475, 0.01581544117491475), (1215, 0.01581333192432818), (2826, 0.015793502996076413), (164, 0.015784099222294228), (1899, 0.01576891536481543), (2118, 0.015756594029889336), (1565, 0.01573015771693402), (426, 0.015725035111976135), (74, 0.015711849740798457), (503, 0.0156948738265389), (1938, 0.015690054786798906), (1927, 0.01567729967098254), (1068, 0.015676805687850338), (2606, 0.015668917981778354), (917, 0.015656920729284013), (1084, 0.015655364153454487), (2740, 0.01563981739187819), (1993, 0.015635669759181216), (419, 0.015631849926431976), (1566, 0.015608456789732873), (305, 0.015606860523742754), (2497, 0.01560179197349111), (1458, 0.01558671196754103), (457, 0.015584972962072265), (358, 0.015559858077927827), (767, 0.015558840409593648), (3004, 0.015557530284870308), (2595, 0.015555691901560562), (2944, 0.015553183295793999), (89, 0.01554744923237486), (2749, 0.015547286218321563), (2801, 0.015534254529321563), (2581, 0.015511592154020815), (63, 0.015502191394751862), (935, 0.01548725092561477), (2293, 0.015471811162347401), (2177, 0.015450371374222173), (2159, 0.015445140209095974), (1060, 0.015440518055448884), (2829, 0.01541855811093304), (152, 0.01541095077814263), (474, 0.015394336330889892), (2955, 0.015382649325238732), (2346, 0.01536152020045102), (3034, 0.015359041798931434), (719, 0.015344964840917089), (1954, 0.015340746582658682), (1594, 0.015340475342755244), (1577, 0.015318829841656325), (2074, 0.015314916765935549), (1735, 0.01529301985917196), (2010, 0.015289682697435986), (294, 0.0152626729426352), (336, 0.015247659263297414), (2687, 0.015239869459442142), (1806, 0.015233750285556008), (2816, 0.015233181309079753), (2660, 0.01522314842960965), (714, 0.015221586476372003), (1882, 0.015214219636086183), (1234, 0.015212115772768105), (2070, 0.015211791395444835), (1467, 0.015205573050005066), (147, 0.015204619101088751), (1908, 0.015191196615218895), (1655, 0.015189652885980395), (2036, 0.015185213960067771), (2699, 0.01517882700395022), (1347, 0.01517055241387058), (1323, 0.015164184351923446), (64, 0.01515790497921526), (2626, 0.015153075550417077), (1875, 0.015148616230133697), (3056, 0.015145306863408243), (1524, 0.01514019949946354), (315, 0.015139611873470732), (1745, 0.01513844628047799), (600, 0.015136415453165306), (1951, 0.015129771493175168), (646, 0.01512718937463563), (2830, 0.015125528101880044), (2276, 0.015122232583678823), (2249, 0.015107723712135675), (2947, 0.015099268224603998), (633, 0.015097898433610677), (3031, 0.015094443666078226), (2018, 0.01509415118365079), (44, 0.015089659435914865), (343, 0.015081616497221671), (2980, 0.015076880634449178), (1722, 0.015076159210987575), (1512, 0.015068530180115346), (841, 0.015067735579689226), (2108, 0.01503997005897026), (2840, 0.015031175493949188), (1378, 0.015029336547922436), (1163, 0.015024926112863074), (3078, 0.015024864044425702), (2806, 0.015001607225190963), (1320, 0.015000824856575355), (2696, 0.014986713420050058), (188, 0.014981225593764077), (1563, 0.014960223906364513), (357, 0.014957712919418224), (128, 0.014939032115168598), (2062, 0.014925252996406152), (2321, 0.014903496164777942), (975, 0.014883502288110417), (2904, 0.014882688753120491), (1816, 0.014867296521393642), (2758, 0.0148627290824848), (1130, 0.01485907840201998), (2551, 0.014851766910179426), (21, 0.014847745904581768), (2434, 0.014842079490633635), (2878, 0.014836714727474852), (1481, 0.01483477406925567), (11, 0.014829889945996565), (1969, 0.014816880306750182), (157, 0.014808470881533916), (1663, 0.014806135199800747), (2518, 0.014787715969858214), (605, 0.014770550242847616), (2530, 0.014770417291944199), (2294, 0.01476691156496045), (1956, 0.014760855353288417), (2655, 0.014742270655467984), (3075, 0.014741833188276586), (185, 0.01474175653505796), (1328, 0.01474004775270583), (3118, 0.014727533311171975), (3142, 0.014718490375664844), (1081, 0.01471772384773533), (1218, 0.01469606848563186), (766, 0.014693995455392107), (252, 0.01466213150202049), (2475, 0.014642063902305977), (604, 0.014641037656245404), (1172, 0.014632000931216523), (2049, 0.014630961052979691), (2619, 0.014626562032829946), (2084, 0.01462175594596795), (1082, 0.014606770020617013), (2975, 0.01458732701254753), (2046, 0.014572875688780126), (1922, 0.014563707036887908), (894, 0.01455098719616295), (98, 0.014550412297721613), (1647, 0.014550049054102919), (2759, 0.014535352035036607), (959, 0.014517116907914886), (2560, 0.014505039611997523), (1651, 0.01449747272546233), (518, 0.014487241368462033), (1180, 0.01447690451580937), (747, 0.01446898940123044), (2770, 0.014465871053000411), (1822, 0.01445075010847497), (2369, 0.014433382746060475), (1188, 0.01442278680909299), (3054, 0.014403846133527775), (588, 0.014396279590298006), (1919, 0.014382865327568058), (299, 0.01437889677037788), (2471, 0.014360937215000869), (2789, 0.014360151596439876), (1275, 0.014357586467926044), (3134, 0.014349340994739213), (1791, 0.014338472799218582), (2573, 0.014338464659803585), (2713, 0.014320083449532004), (168, 0.014315814448278737), (1182, 0.014310606536552993), (3064, 0.014307727237354361), (581, 0.014291161192473966), (2675, 0.014287007965195983), (2034, 0.01428122281725511), (2772, 0.014277228379307887), (2678, 0.014274323323507629), (3095, 0.01427147663248688), (1536, 0.014252903015516266), (59, 0.014226418131659722), (2140, 0.014207691812214106), (2704, 0.014200511570900529), (749, 0.014194976473982112), (1990, 0.014188787231728183), (2841, 0.014185349242110071), (1677, 0.014179806626716529), (2038, 0.014177313945983195), (1497, 0.014175622162740542), (2927, 0.014175315843925094), (3160, 0.014173168017322355), (17, 0.014167581912908725), (986, 0.014167124355357066), (2212, 0.014159489687077042), (2185, 0.01415218478037241), (554, 0.014149879428910266), (901, 0.014144560259621967), (2832, 0.014139245638044043), (868, 0.01412869498199648), (1376, 0.014124517929249542), (182, 0.014110203917808274), (2672, 0.01410666406871929), (376, 0.014105276108458298), (1643, 0.014102039664228194), (1645, 0.014091290516179314), (1111, 0.014085608845808052), (1300, 0.014085185924065886), (272, 0.014076137138129831), (1345, 0.014071313576889061), (1889, 0.014067410292165863), (154, 0.014050673557635666), (808, 0.013975366833027024), (2246, 0.013965574576470675), (2283, 0.013949450179851153), (2788, 0.013942856225886596), (707, 0.013936128599892706), (3014, 0.01392851619438208), (1031, 0.013928002559246222), (531, 0.013925957813305533), (491, 0.01392133053585536), (1633, 0.013911263430866051), (2060, 0.013908476480357566), (1900, 0.013903831119170817), (2501, 0.013892696485479292), (1940, 0.01388475233840578), (1340, 0.013877079935191416), (3130, 0.013862712859240036), (1688, 0.013859126666911688), (552, 0.013819435802815454), (1871, 0.013791545094468416), (1544, 0.013767695718986613), (1479, 0.013765993272593466), (510, 0.013761415368822014), (2218, 0.013761329672216323), (2054, 0.013750609074728845), (2646, 0.013724439252745009), (780, 0.013710180378427797), (1470, 0.013690667793648898), (2079, 0.01367332539742979), (2354, 0.013660819231160543), (460, 0.013648984599321137), (2580, 0.013645057636364042), (3048, 0.013627450755316727), (2210, 0.013625863446734079), (1898, 0.013605219477190903), (268, 0.013599986708253079), (1280, 0.013591480449685982), (1553, 0.013590438081630686), (836, 0.013590344886081542), (2677, 0.01357360333227756), (2441, 0.01356966600131219), (2556, 0.013565428306344756), (2724, 0.013555133631521487), (654, 0.013554660153948945), (856, 0.01355317971667319), (1684, 0.01355260149110758), (576, 0.013538015024905148), (1607, 0.013535020686943405), (713, 0.013528972575814447), (1582, 0.013527803377513893), (2933, 0.013516687889529182), (2869, 0.013500412225359694), (1361, 0.013474244372609431), (1364, 0.013467052803891105), (1520, 0.013464950855719283), (2621, 0.013464933900179717), (67, 0.013449847105588024), (965, 0.013445360117355538), (1952, 0.013440626687871967), (2500, 0.01342968137542926), (387, 0.01341099111712184), (1921, 0.013396136393478352), (186, 0.01339489396546799), (2686, 0.013379465446522534), (195, 0.013367687602023812), (1153, 0.013364249702108352), (2711, 0.013358452545890685), (1209, 0.013346520660947355), (2737, 0.013335901857095782), (1897, 0.013334433672079291), (1435, 0.01333364906825848), (1972, 0.013330280517956533), (3158, 0.01331183463940587), (245, 0.01330735231827189), (1701, 0.013306033768566495), (2257, 0.013305833890012764), (1466, 0.01329405058492852), (2990, 0.01328162727851944), (1837, 0.01327714285731751), (2044, 0.01327120989552167), (728, 0.01325579394375814), (727, 0.01325470505625369), (1285, 0.013227731304119406), (90, 0.013186191939034399), (2628, 0.013174934886725116), (1164, 0.013159909777098605), (3150, 0.013124718981810269), (732, 0.013106913052418893), (609, 0.013106609702564023), (113, 0.013100316342065932), (2143, 0.013080612351847402), (3032, 0.013073605726809759), (892, 0.013040997578426253), (1385, 0.013039390322019097), (1023, 0.013021230151509456), (105, 0.01301548404223627), (3012, 0.013012371959579725), (750, 0.012988243956248376), (3105, 0.012972418577002317), (1190, 0.012968425157296458), (1858, 0.012953820681229567), (2486, 0.012947480463769504), (1102, 0.012947337104550502), (1307, 0.012942712855876285), (2289, 0.012934296013776839), (2433, 0.012899933308730929), (2351, 0.012885406804855119), (2417, 0.012884396793336103), (2972, 0.012859983397721245), (2454, 0.012856210396871948), (2777, 0.01284339651676606), (2296, 0.012827686090570941), (2902, 0.012826573257446848), (2736, 0.012824398059496046), (390, 0.012820093700915497), (3022, 0.012807840351528295), (1986, 0.012787695433833185), (625, 0.012782824356059305), (1906, 0.012776788739908625), (1159, 0.012752740857358124), (2460, 0.01272216204494377), (1685, 0.012695499200587204), (496, 0.012690346360315172), (1895, 0.012681182118367974), (507, 0.012655246912903595), (622, 0.012636318267225548), (2398, 0.01261894166987158), (1210, 0.01261396226491692), (2407, 0.012477377898984766), (1040, 0.012457841434257714), (34, 0.012457016601257245), (219, 0.012415419152482801), (2854, 0.012380461795316745), (2779, 0.01237554445909459), (2838, 0.01236039814773383), (2248, 0.012353747725971653), (1418, 0.012351782990732958), (1973, 0.012305335668668406), (512, 0.012281230674081257), (452, 0.012266866875202544), (1705, 0.01226009886893915), (1105, 0.012241164138350453), (3059, 0.01223087734357134), (1264, 0.012214044260356025), (2964, 0.0122069749081302), (1586, 0.012206427227004489), (3049, 0.012155711323378626), (2448, 0.012155107056210836), (1293, 0.012123442844127214), (1730, 0.012121366927059521), (798, 0.01210582324583426), (1154, 0.012049423678775286), (3186, 0.01204486935610309), (874, 0.01202049651635299), (3177, 0.012002657770808339), (2200, 0.012000500144610834), (3041, 0.011980032547589699), (1120, 0.011974766523561485), (2226, 0.011966221113901158), (2383, 0.011956154495240748), (2768, 0.011881739300247588), (1113, 0.01186659670369588), (135, 0.011866059905327938), (814, 0.011803724389364157), (906, 0.011788160751801988), (3097, 0.011787325204964503), (193, 0.011765737725579824), (1304, 0.011660627342604863), (2485, 0.011591018047065405), (50, 0.011588411068446044), (5, 0.011586844416690946), (1327, 0.011563119228177812), (451, 0.011557891744151831), (2959, 0.011556494976715076), (2582, 0.011511709887342167), (919, 0.011479202662387462), (1732, 0.011475197130818269), (2797, 0.011455174899323567), (2, 0.011428741501304837), (1680, 0.011378617211832377), (2651, 0.011312337678508387), (2650, 0.011261557166086256), (2301, 0.0111876906018083), (1196, 0.011173025177329977), (1962, 0.011127503615143133), (389, 0.01111227816102072), (536, 0.011094654032722258), (279, 0.011067989755920661), (82, 0.010958339256919077), (2611, 0.010952894076083844), (1769, 0.010899779392254689), (1123, 0.010805707385037545), (209, 0.010759413566926822), (54, 0.010698922600604198), (1251, 0.010675125117625958), (165, 0.010664975621710043), (1634, 0.010661143296963282), (2338, 0.010601311781015985), (2207, 0.010559989050751553), (2386, 0.010439527795648872), (1008, 0.010234981662936954), (2548, 0.010208979682145031), (181, 0.010204309509212904), (659, 0.010159822499078567), (1704, 0.010095680034497966), (2151, 0.010062005400397717), (647, 0.010034279318344247), (2935, 0.0099756879562254), (55, 0.009921219830725527), (244, 0.009911732519133873), (2930, 0.00991028423050227), (1852, 0.00990355357241625), (3172, 0.009869441373644214), (721, 0.00983554851919042), (2220, 0.00983511574917609), (2633, 0.009735358176807127), (2309, 0.009652382331178551), (796, 0.00958667921548284), (499, 0.009574973276976454), (1614, 0.00956997745045058), (550, 0.009554806877244516), (725, 0.009496304588014086), (2649, 0.009460577866801942), (388, 0.009448615869344115), (1167, 0.009406909910682089), (1825, 0.009406880939695822), (139, 0.009324408426349535), (106, 0.009300828161396862), (328, 0.009293627282258396), (2998, 0.009287477451288119), (2344, 0.009280186522512501), (1488, 0.00923814701776342), (1416, 0.009236110201030132), (1676, 0.009217522604247972), (926, 0.00921306889865951), (2030, 0.009211093229371206), (1175, 0.009207664923650926), (2172, 0.009191448802649133), (658, 0.00913558498844861), (493, 0.009113189777087433), (3188, 0.009095762336093115), (1427, 0.009055044931598772), (3162, 0.009001403390214926), (613, 0.008976314277755752), (942, 0.008911453581537125), (840, 0.008877647906221826), (2862, 0.008854426774507793), (2201, 0.00882870823763781), (2794, 0.008816421886877798), (2336, 0.008795591223042515), (1682, 0.008781268716447715), (230, 0.008779335652301806), (2342, 0.00877623644815173), (2920, 0.00876339983299766), (2762, 0.008739562744695744), (2553, 0.008717228770369222), (183, 0.008650936951850492), (711, 0.008629860671907573), (1910, 0.00862507370960292), (993, 0.008612819801104753), (24, 0.008556326933632402), (1392, 0.008492224349519416), (603, 0.00848694684176146), (56, 0.008482234344123814), (520, 0.008475878601568922), (1679, 0.008473916178376345), (1904, 0.008418023207683359), (2814, 0.00840772867202875), (144, 0.008405488644515438), (78, 0.008403027279572135), (2299, 0.008393793936102218), (2348, 0.008383799934740024), (830, 0.008363547871155397), (2456, 0.008355961554598963), (1605, 0.008353484304015498), (367, 0.008311562507001453), (1963, 0.008303860221423464), (1445, 0.008291984348106029), (778, 0.008272718269697308), (2413, 0.008209286077363933), (1073, 0.008184425883003438), (2897, 0.008148180401502308), (1657, 0.008141408008579834), (696, 0.008139542116989895), (683, 0.0081266618280484), (1288, 0.008085501320358878), (2765, 0.008080839778245736), (1855, 0.008064599027312486), (920, 0.008062928618687938), (2154, 0.008042449405155788), (1359, 0.008034454575168184), (1150, 0.00803257668597804), (3069, 0.00800478340866061), (3139, 0.007997278125125303), (1129, 0.007938545097232167), (266, 0.00792269994226413), (1664, 0.007911772387138328), (2877, 0.007895424267385187), (3094, 0.00787484206818286), (1755, 0.007860142134826293), (704, 0.007858542888242866), (1626, 0.007849872881082864), (3039, 0.007829327111600629), (337, 0.007816920397819666), (1400, 0.007810564117518938), (3128, 0.007798471847658261), (708, 0.007783817589094703), (1298, 0.007783264950364278), (2511, 0.007780161076112117), (1459, 0.007772603160955424), (873, 0.007766658704981428), (1966, 0.007762059211039637), (3029, 0.007752069010322305), (1429, 0.007752065502033377), (1311, 0.007751068776422649), (2253, 0.007746821404928693), (729, 0.007745106018993498), (281, 0.007743283240698959), (1357, 0.007720288186800677), (1157, 0.007715351265931892), (634, 0.007711897612239925), (2374, 0.007680543947421139), (1076, 0.007648664648912269), (542, 0.007625920210102988), (2780, 0.007622800326868724), (267, 0.007605057374355323), (1348, 0.007596142525077668), (2658, 0.007595568555333573), (2720, 0.007592676451695358), (1168, 0.007592553554202734), (2766, 0.007590768363957718), (682, 0.00758829641934115), (1070, 0.007583594572843437), (2558, 0.007583589903338215), (1331, 0.007571742340460524), (321, 0.0075679674813422665), (784, 0.007557019543269092), (1220, 0.0075491122855546496), (3003, 0.007539760890472804), (1242, 0.007537778093523327), (1549, 0.0075335550366216536), (837, 0.0075321177830744625), (2745, 0.0075164726274154735), (2748, 0.007500826492087191), (2521, 0.0074997413657798846), (2805, 0.007496456530026953), (1601, 0.007486092305044003), (1540, 0.007484334202694818), (2950, 0.007466555448203217), (2824, 0.007452670853806667), (197, 0.007443359307622468), (2986, 0.00743973288713501), (3093, 0.0074375027033818306), (1743, 0.007435414572831053), (1723, 0.007430501699256927), (1526, 0.007418538712510529), (2925, 0.0074175021425860405), (2102, 0.0074072383816859615), (1948, 0.007399909209274386), (2251, 0.007342620862666422), (754, 0.007327607402372819), (1570, 0.007323344012018868), (1606, 0.007316576848775415), (2466, 0.007312112551412298), (31, 0.007294698458394407), (909, 0.007282953608777895), (990, 0.007273778634836136), (883, 0.007265609971131538), (2230, 0.00726517969209676), (2978, 0.007257570539624976), (2709, 0.0072562625684831315), (3108, 0.007249142721598968), (2707, 0.007231898291207605), (2268, 0.007230639172555642), (1691, 0.007229368586743182), (818, 0.007221235553107523), (3091, 0.007211662349996926), (924, 0.007210443098730266), (2228, 0.00720640106871204), (2378, 0.007205038228682243), (2263, 0.007175051038763773), (1184, 0.007170532177838913), (1067, 0.0071628024035249455), (1653, 0.007162311531645745), (2682, 0.007149599896726521), (555, 0.0071482434220156935), (2754, 0.007145415356316047), (970, 0.007099715884903316), (922, 0.007096542152533329), (52, 0.007085127682294273), (1367, 0.007058049490393578), (718, 0.007042475858797888), (75, 0.007029090942471002), (2783, 0.007023684423950407), (943, 0.007004492799618692), (1305, 0.006992333218832933), (3088, 0.0069913085199593845), (2123, 0.006985743062390137), (2135, 0.006982137490403499), (543, 0.006968252495333502), (2126, 0.006965273137861603), (1287, 0.0069377606197840586), (649, 0.006924339529644795), (1541, 0.0069190801071230225), (1562, 0.006914247677739327), (1983, 0.006887580086947466), (354, 0.006862618627735063), (3057, 0.006844341659695481), (1853, 0.006834302208648801), (1333, 0.006798783443113539), (2429, 0.00679625138463553), (2987, 0.006770408507439024), (7, 0.006763800013036206), (1575, 0.006755751724456757), (2618, 0.006750466813870613), (20, 0.006721022550434679), (3137, 0.00671288964865864), (1116, 0.006710949774010084), (287, 0.006678745481227962), (861, 0.0066783950512391745), (2917, 0.0066707780720397375), (2764, 0.006644146709060781), (14, 0.006637195215540293), (2525, 0.006630977986370526), (2755, 0.006626794828761412), (2415, 0.006614935764980651), (2136, 0.006606512033930058), (560, 0.0066016873204868), (208, 0.006601264887532062), (1916, 0.0066007272913967), (2223, 0.006600178450178715), (1552, 0.006560697522682398), (740, 0.006559546681425161), (1974, 0.006548379987804033), (746, 0.0065401019592249724), (961, 0.006539740704429375), (575, 0.0065358902376244955), (19, 0.0065341505985396535), (1556, 0.006527019611435102), (739, 0.006524136452016012), (3179, 0.006519789017494322), (1912, 0.006502100351951059), (2644, 0.006496012792771377), (2812, 0.006476603565878919), (1006, 0.00643728375945877), (2712, 0.006434233259184117), (2577, 0.006427824385032314), (2012, 0.006421441196240531), (2122, 0.006417981095640054), (1939, 0.006414909063387347), (2197, 0.006392382709524021), (1241, 0.006385145230399639), (1870, 0.006380960916927646), (413, 0.006355496963283372), (913, 0.0063530759410270875), (650, 0.006349733106517421), (201, 0.006349018778577422), (2879, 0.006335889770340227), (2265, 0.00633573004209749), (2428, 0.006335093000661967), (3013, 0.00632621163951825), (1892, 0.006322211647559055), (524, 0.0063172557686698595), (2796, 0.00630348763090359), (86, 0.006283105409726105), (2058, 0.006274171446702095), (462, 0.006273044030581549), (2110, 0.006268277763387213), (1616, 0.006260918898297155), (3164, 0.0062529011684164726), (225, 0.006244900254167349), (2048, 0.006244631908563022), (1297, 0.006241472851778499), (3027, 0.006226249786813796), (985, 0.006224745180652677), (2763, 0.00622317114079364), (2508, 0.006221128294789863), (502, 0.0062206219086351645), (1670, 0.006219857724023771), (2607, 0.006214240887798986), (32, 0.006213313596356981), (140, 0.006208074340395695), (2117, 0.006204259273472913), (386, 0.006199203045123973), (3040, 0.006173380257477907), (803, 0.006169853214065768), (1004, 0.006163541189277525), (418, 0.006155071519362707), (3090, 0.0061458391047291595), (1428, 0.0061439075180550005), (368, 0.006141575815396562), (2634, 0.0061368237669399105), (1098, 0.006126297733618868), (2726, 0.006125166363947484), (1604, 0.00612470830655138), (2353, 0.006121321353229146), (1492, 0.0061164545075170626), (478, 0.006109062706490551), (2873, 0.006106954602031867), (1851, 0.006106913837943163), (1449, 0.0061015749881543), (2893, 0.0060948848170340655), (1989, 0.006091873178379859), (535, 0.006069898315786126), (1195, 0.006066506056239846), (2825, 0.006063722222801127), (2524, 0.006049947297550308), (2181, 0.006039196313860294), (2418, 0.00603806855350853), (1352, 0.0060350578470942055), (2941, 0.006028038208640072), (2906, 0.006025114507323203), (875, 0.006024846200684511), (1037, 0.00602000691037931), (76, 0.006015850609393294), (839, 0.006015224726876243), (138, 0.0060021533344749006), (2555, 0.006001696823580788), (1126, 0.00599595276887986), (3084, 0.005995324314180836), (3008, 0.005995106346528733), (174, 0.0059942763566501345), (3131, 0.005986913572238323), (1222, 0.005984196246022748), (1381, 0.0059795258226890725), (442, 0.005973808578338858), (2690, 0.005963674344626226), (858, 0.005961941942358095), (1145, 0.005951719144573642), (2352, 0.005944780628381681), (3136, 0.005942878398871004), (1021, 0.005932300086820138), (216, 0.005928594635926517), (1018, 0.005927127250476538), (205, 0.00592207482298245), (549, 0.005921544409582627), (530, 0.005893330353820895), (3043, 0.005878502553619657), (1777, 0.005870357117506346), (458, 0.005866736310577517), (1564, 0.0058632037940881), (506, 0.0058575399966906555), (2505, 0.005856694625265992), (1295, 0.0058545114745923235), (3154, 0.0058522143072413085), (804, 0.005845808084188296), (1498, 0.005842638950275981), (275, 0.0058377636099508756), (1197, 0.005831419754772209), (1834, 0.005830822935449948), (792, 0.005822671069893802), (1407, 0.005798810215207464), (2578, 0.0057966545854783455), (1211, 0.0057914035421339945), (3025, 0.0057779406596703015), (2235, 0.005775332835904003), (484, 0.005765244227560381), (2203, 0.005764212592047426), (1046, 0.005762797386733318), (1515, 0.005761213208830815), (3165, 0.005759037118489245), (2482, 0.005755682555485131), (1711, 0.005752693978747549), (670, 0.005749205161119222), (270, 0.0057471906644148306), (976, 0.005745900073917614), (1896, 0.005744901745898994), (2372, 0.005739993444897087), (2395, 0.0057369486041426426), (1630, 0.005734448006198461), (233, 0.0057325682403222365), (665, 0.005731842442583038), (1322, 0.005727781824666286), (2924, 0.005727400250401973), (661, 0.005721565800794214), (2907, 0.005719821275658383), (2311, 0.005707351852117847), (1567, 0.005701850995151704), (751, 0.005700551268011182), (2723, 0.005697112556206726), (2430, 0.005696978628306391), (2190, 0.0056942274589864865), (2323, 0.0056939986029055836), (2216, 0.005693237286402879), (2227, 0.005687794685350115), (1302, 0.005682124235969155), (788, 0.005680012744504718), (2463, 0.0056777538748364435), (2315, 0.005671863683866879), (574, 0.005671270057744653), (1819, 0.005670446614127569), (4, 0.005668162674924043), (1706, 0.005648726187030607), (2426, 0.0056483136334525815), (3062, 0.005643142026953611), (1964, 0.005641127811010031), (2901, 0.005637709868638221), (171, 0.005635779930722635), (2168, 0.005626376804110189), (3046, 0.005622627129692052), (663, 0.005621070824130164), (1174, 0.005619242388232912), (2804, 0.0056182910047920705), (1813, 0.005614543035748193), (636, 0.005609380257512041), (119, 0.005603365112395976), (1995, 0.005602750338342498), (146, 0.0056019997502723025), (239, 0.005600341368475372), (1397, 0.005593051386233185), (2557, 0.005591101471510686), (881, 0.00558542106029343), (1368, 0.005583465233980896), (1937, 0.005582366769518192), (1775, 0.00557871997122646), (1278, 0.00557601268976946), (2943, 0.005572280363195376), (258, 0.005565297643407024), (2318, 0.005561053048120143), (1401, 0.005560554378598044), (2688, 0.005558484612668511), (1557, 0.00555651646007819), (607, 0.005543361465298782), (1965, 0.005538848584424048), (2357, 0.005529669948788604), (1463, 0.005526482267227541), (2031, 0.005522222089506905), (1539, 0.005518041376582575), (397, 0.0055147648911532815), (511, 0.005513461996017016), (2922, 0.005505346870409551), (3176, 0.005503594616276023), (1949, 0.0054936804552223675), (664, 0.005493434835851169), (932, 0.005483243707831641), (2083, 0.005479553762836887), (1915, 0.005479550268227331), (2450, 0.005479207341595745), (2390, 0.005477831285037461), (1093, 0.005473024221771655), (2960, 0.005472673271718525), (427, 0.005472103751983027), (854, 0.005469646353199821), (949, 0.005467099136596892), (369, 0.005467068995539259), (2467, 0.005467006875560924), (1739, 0.005466327674373118), (430, 0.00546332664211004), (2267, 0.005463141527539683), (539, 0.005462484378498822), (3169, 0.005460824312004101), (1598, 0.005455717660513398), (1276, 0.005453071484020674), (1588, 0.005452923869922398), (347, 0.005448851622349622), (1447, 0.005446876339067264), (399, 0.005444314124238148), (1856, 0.0054437448561936285), (2047, 0.0054407243626437), (2028, 0.005437424772777597), (143, 0.00543716041561009), (1465, 0.00543593272498422), (2356, 0.005429455857493344), (1236, 0.005422175384972636), (1228, 0.005415979980032765), (2393, 0.005411389820563215), (2186, 0.005405824920821242), (1715, 0.005405260814690804), (584, 0.005404963662903673), (2738, 0.00540266598313962), (1117, 0.0054004497021855665), (2414, 0.0053957845641967725), (1748, 0.005391726625615402), (973, 0.005388298101032536), (1628, 0.005385668295869146), (1815, 0.005383262664458759), (10, 0.005380446537627554), (2565, 0.005378342466036805), (1590, 0.005372601539087988), (1873, 0.005371959152026242), (1758, 0.005365012102489379), (308, 0.00536004207144302), (450, 0.005357571477565232), (94, 0.0053560039384857585), (2654, 0.005355285082042641), (2529, 0.0053537933605348935), (1014, 0.0053528039307162), (2566, 0.005352152423740956), (508, 0.005350887952170058), (2833, 0.005350809702796384), (1433, 0.005348477549025191), (481, 0.005344599264225422), (202, 0.005344339701579701), (2385, 0.005342618724936553), (1136, 0.005340493829569241), (1712, 0.005337399204568275), (1773, 0.005335122844158295), (2835, 0.005334962427372), (1249, 0.00533388699502052), (821, 0.005333469852227947), (2492, 0.005332626787004954), (2180, 0.005329435497500541), (1631, 0.005327110577060043), (2157, 0.005325270968158062), (2470, 0.005324444069873173), (1610, 0.005319634380938635), (895, 0.005317332426317521), (791, 0.005315556078134653), (2667, 0.0053135834440370296), (1292, 0.005313493265530094), (66, 0.0053130549579109565), (1654, 0.005311630702968827), (2000, 0.005311131537620609), (1026, 0.005308713654939326), (467, 0.005306849082052215), (242, 0.005302609534320166), (3123, 0.00530020749617917), (51, 0.005297337502815902), (559, 0.005294588901181845), (1041, 0.005292920330132762), (2616, 0.005292478894411055), (3116, 0.005284744376560596), (177, 0.005284155244558276), (1824, 0.005281998746242113), (2361, 0.005281329919314277), (2324, 0.005280933326532489), (1253, 0.005279260247324619), (210, 0.0052776588386021905), (2795, 0.005271703412485913), (2545, 0.005271466925401694), (148, 0.0052691274742696454), (525, 0.005267320823359252), (2575, 0.005266190531985681), (420, 0.005264704272847912), (204, 0.005263930980826905), (1294, 0.005262662638622198), (911, 0.00526118508492683), (2349, 0.005261132903448326), (795, 0.005261076856904853), (364, 0.005258432211614633), (487, 0.005256878538301652), (567, 0.005255129404850471), (2604, 0.005254583378633467), (1282, 0.005254364982710269), (466, 0.0052491725025485825), (2880, 0.005247080261782309), (2446, 0.005236607575224721), (285, 0.005234507718241508), (221, 0.005233892062237951), (813, 0.0052245000467069135), (2362, 0.005222042259605858), (2272, 0.005215277585620619), (150, 0.005215021123981531), (1193, 0.005210361276991515), (46, 0.005205240729043942), (2981, 0.0052049273552507045), (989, 0.005195387872378871), (1620, 0.0051895175798704184), (2092, 0.005187025568331636), (641, 0.005186750547253251), (3016, 0.005186343318652278), (1970, 0.005186044297088871), (286, 0.005184491467503318), (433, 0.005182636808631409), (781, 0.005179482176645621), (3000, 0.0051782784724254925), (703, 0.005176588258167748), (108, 0.005172863297886091), (514, 0.005172112208560439), (1547, 0.005172035736183425), (2443, 0.005163656228780325), (786, 0.005163547641432124), (2167, 0.005154891059820486), (3017, 0.0051546434905348154), (2610, 0.0051527814504958944), (2949, 0.005152462510786111), (3138, 0.005148732807429805), (2222, 0.005148619150596148), (1308, 0.005148019028187142), (666, 0.005144791882536543), (425, 0.005144364185507504), (162, 0.005142737244201735), (608, 0.005142337598243898), (2041, 0.0051391992334515555), (526, 0.005137410572130569), (1771, 0.005130296631278251), (311, 0.005123717261164472), (2077, 0.005120631122655409), (910, 0.005119942731784343), (1265, 0.005119782715714743), (1786, 0.005117499959840883), (3077, 0.005112370389493892), (3174, 0.005112271982084796), (344, 0.005109172371105496), (222, 0.005105155792616606), (1941, 0.00510276414130786), (1920, 0.005098785930753838), (2601, 0.005086168767035365), (1389, 0.0050836414508477305), (1354, 0.005080406658651571), (2976, 0.005079811321168018), (1774, 0.005079465141620306), (724, 0.005078996727676091), (2316, 0.005077644768895696), (2284, 0.005076039596515274), (902, 0.00507474169981669), (1002, 0.005073116317686275), (273, 0.005072477900499885), (1857, 0.00507139364238345), (822, 0.0050712529071562035), (2431, 0.005071158436848359), (1534, 0.0050709773502390304), (2843, 0.005070670261555688), (2495, 0.005060104293746543), (1652, 0.005057860375118551), (2112, 0.005055472326539241), (2332, 0.005055052646211675), (3072, 0.005053503535680821), (1725, 0.005053175178686651), (3037, 0.0050513945301118145), (2452, 0.005051127574293317), (578, 0.005048070164808885), (566, 0.005044888046323805), (206, 0.005042979955657724), (687, 0.005042920138757396), (2507, 0.005040904661752095), (1339, 0.005039087843985826), (1866, 0.005038402846107397), (43, 0.005035793849695177), (172, 0.005033763525329852), (1955, 0.005033227559829728), (1290, 0.0050319741523005), (811, 0.005031086180009172), (346, 0.005030806134302488), (1019, 0.005029819219046125), (1411, 0.005027005160845831), (762, 0.005026840644402508), (1096, 0.0050267673922802444), (1243, 0.0050238159672772445), (2909, 0.005023778591912654), (2307, 0.005018848525689631), (1092, 0.005018628625951213), (194, 0.005018013656696391), (1047, 0.005016893662759727), (1827, 0.005015356903026556), (1800, 0.005012056986193957), (845, 0.0050114205046319325), (1191, 0.005010232213167123), (777, 0.005009173167584816), (280, 0.005007479395647298), (1918, 0.005006716383515984), (79, 0.005006462789907314), (2656, 0.005005722654812715), (972, 0.00500525149543736), (70, 0.005004798129664773), (1864, 0.005003383703623363), (1284, 0.005002820569261291), (2872, 0.005002706771500757), (1662, 0.005002009595781861), (824, 0.005001694546118344), (527, 0.005001332912507525), (1053, 0.005000473623557822), (1415, 0.0049960782449324), (1880, 0.004995832995415066), (1874, 0.004993188118290767), (424, 0.004991942844928147), (1032, 0.0049912375193049445), (1379, 0.004990308672644333), (2178, 0.004989916587070899), (2468, 0.0049896970724432445), (1194, 0.004988981798385311), (1836, 0.004986427508667456), (2008, 0.004985539771011129), (1756, 0.004985434684884476), (2258, 0.004983448455514223), (1422, 0.0049813937674088316), (2459, 0.00497568080437072), (635, 0.004974830084699049), (545, 0.004973889655902834), (248, 0.004971450230996738), (2051, 0.004970800891107841), (1637, 0.004969612748961847), (131, 0.0049660796885450656), (8, 0.004959891968246814), (2876, 0.004958626267522248), (1205, 0.004956889216955683), (908, 0.004953688298951655), (537, 0.00495325854657852), (1263, 0.0049524825187671154), (2367, 0.004950351831911105), (443, 0.004949836572986593), (1409, 0.00494744529974063), (2571, 0.00494690130620622), (333, 0.00494581083586935), (1319, 0.004944664070307386), (2599, 0.004944515487807156), (220, 0.004943720282120773), (1812, 0.00494320319372725), (931, 0.004940344998184841), (2474, 0.004939010129034261), (2973, 0.004938541882948014), (614, 0.004937637664840475), (984, 0.004936874159820612), (2717, 0.004935036823838869), (2999, 0.004932797288108823), (2584, 0.004932639546473893), (1109, 0.004932580279745578), (626, 0.004930395198113713), (349, 0.004923232304101639), (2300, 0.004920320952830683), (434, 0.004919834396193757), (2011, 0.004919778358086993), (829, 0.004919634589049977), (1734, 0.004917247772233513), (2761, 0.00491675784489105), (1754, 0.004916697038544402), (1617, 0.004914755873737849), (1042, 0.004913571404868771), (283, 0.00491283129615352), (2184, 0.0049082563209109885), (2929, 0.004907625400958238), (1903, 0.004906841165048104), (2488, 0.004903733501399091), (1232, 0.00490369666984212), (1766, 0.004903449830862787), (2598, 0.004901735491381765), (779, 0.004896547099902469), (423, 0.004894115393454902), (2402, 0.004892390420649581), (2422, 0.004891551499474017), (1176, 0.004889973433123254), (2807, 0.004889065205100348), (1747, 0.0048890450181183955), (3152, 0.0048886132306973605), (734, 0.0048882589099744946), (1490, 0.004887141140567917), (1623, 0.004886553417434389), (720, 0.0048853922486955855), (2104, 0.004885270920315697), (2152, 0.004884888392022812), (916, 0.004882335417293432), (2317, 0.004881644676778864), (2175, 0.00488006851355575), (521, 0.004878325765639632), (1808, 0.004878042557539825), (2472, 0.004876383486239893), (1810, 0.004867765758137357), (2233, 0.004867697285615518), (2379, 0.0048661943505717105), (2750, 0.004865295705710638), (264, 0.004865166688685163), (1254, 0.0048642912305458304), (1785, 0.0048617399744862975), (1840, 0.004861315747752293), (2494, 0.004860166459770797), (688, 0.004859760483999125), (2574, 0.00485816121172367), (2241, 0.004858152899519337), (1173, 0.004857681717001903), (409, 0.004855302655962335), (1893, 0.004851696122771762), (278, 0.00485140202185271), (2045, 0.004851367898346052), (2302, 0.0048477072919282434), (769, 0.004846959803933937), (1226, 0.004846067467960964), (2531, 0.004843618457569321), (1597, 0.0048431233457075515), (3089, 0.00483780205786379), (571, 0.0048365837980508825), (1782, 0.004835969960883716), (334, 0.00483435085421151), (2586, 0.004832951596924571), (733, 0.004829147965279267), (1561, 0.004828469936750662), (1668, 0.004825466842719612), (238, 0.004822619271839302), (2113, 0.0048219854289294085), (1309, 0.004817891688150973), (1924, 0.004816195864262105), (3110, 0.004815262192938336), (1202, 0.004814859835362446), (2490, 0.004814758545000646), (1578, 0.004814693465065853), (2244, 0.004813671253066136), (3187, 0.0048131111986247106), (532, 0.00481231964834123), (167, 0.004812075784634284), (1170, 0.004810101016613144), (3001, 0.004808689361991271), (2741, 0.004807895836219839), (1646, 0.004806555131879503), (757, 0.004805096948665353), (1425, 0.004802668736976294), (1089, 0.004802066698880756), (1978, 0.0048016540951515505), (1064, 0.004800100002962198), (3185, 0.004797631173438073), (77, 0.004795742920469144), (448, 0.004792771816752471), (960, 0.004786737197447002), (102, 0.004785910998055927), (2141, 0.00478393985309134), (1595, 0.0047838353647548385), (1424, 0.004783793285382509), (534, 0.004782964179546833), (2055, 0.004782419690424436), (179, 0.004780836615395249), (882, 0.004780124310247382), (1505, 0.004778507343386722), (2705, 0.004775409752148912), (736, 0.004774105378893512), (3066, 0.004773235544385888), (3127, 0.0047708201956057), (2852, 0.004766751331469473), (1843, 0.004766197421595729), (81, 0.0047658944898842205), (557, 0.004764148702202646), (1737, 0.00476200297309682), (1750, 0.004760250110912355), (485, 0.004758702531380468), (2544, 0.004757936446882695), (2059, 0.00475256244813131), (441, 0.004750478067877909), (1807, 0.004749780473802994), (1760, 0.004745111485543256), (1698, 0.004743886946546666), (382, 0.004740125584954956), (968, 0.00473963366393978), (1959, 0.004735959704936429), (2543, 0.004734501763609264), (933, 0.004734310150451168), (2355, 0.0047342155801747094), (627, 0.004732793913044718), (2643, 0.004731624831246553), (761, 0.004729412783301039), (598, 0.0047290335449349605), (3100, 0.004727999043308019), (2865, 0.004726746907792317), (3011, 0.004725004596876081), (1189, 0.00472465791611748), (2100, 0.0047245478323320695), (517, 0.004721413295674649), (2522, 0.004721132197588769), (1316, 0.004720892160861094), (1452, 0.004719992847960621), (1223, 0.004714078541036377), (1388, 0.004713438820904425), (1115, 0.004708314380744176), (2863, 0.004708015126220035), (1374, 0.004703884029815539), (2314, 0.004703319483414936), (2776, 0.004698559518000869), (2148, 0.004698210418694604), (2631, 0.004697205601592764), (2997, 0.004696445562103578), (1186, 0.004695525556385128), (2238, 0.004692485187350789), (1980, 0.004691796154268212), (3180, 0.004686442856719953), (1151, 0.004685538606777873), (190, 0.004683740838602156), (2587, 0.004681885964339037), (173, 0.004680961904660121), (289, 0.004676448115827118), (1987, 0.004675130241166931), (999, 0.004674479378649718), (782, 0.004670935653539971), (1455, 0.0046690794404323326), (2072, 0.004666635050478627), (870, 0.004664223061273694), (1913, 0.004663351930223189), (2916, 0.004662343101806916), (1406, 0.00465950026107954), (1140, 0.004659024890428579), (702, 0.004658902430501709), (2928, 0.00465695212390449), (304, 0.004655742897161688), (3018, 0.004653423233721182), (652, 0.00465171606591104), (678, 0.004648873053303561), (2217, 0.00464404347407233), (1443, 0.004642749943424331), (1214, 0.0046374479227202295), (2115, 0.004636213603296732), (87, 0.004633348445856191), (843, 0.00463237919020468), (2068, 0.004631406395902319), (969, 0.004628638256267835), (2179, 0.004627943402400989), (2536, 0.004625542145659049), (2520, 0.0046251853565653), (2221, 0.004621908463215387), (2638, 0.004621240215121371), (118, 0.004616404575129693), (1231, 0.004616323639597878), (1753, 0.004612076542830202), (744, 0.004611692959134438), (2269, 0.004607708606433925), (2622, 0.004605903785753779), (2674, 0.0046055845591943135), (2242, 0.0046028068556536236), (1548, 0.004600277214073891), (2846, 0.0046001090798579855), (2408, 0.004599410642269866), (597, 0.0045967126077299785), (1487, 0.004595846062233457), (1144, 0.004594565804293581), (712, 0.004594027614389372), (2894, 0.004593652344108684), (1456, 0.004593599221499339), (490, 0.0045919819012771096), (528, 0.004590682451767898), (2444, 0.004590663913073573), (2438, 0.004587291435723639), (1473, 0.004581706214568965), (2669, 0.004581278154633976), (95, 0.0045778772081085176), (2015, 0.004577369497213947), (2440, 0.004575975364649776), (1077, 0.00456972355766191), (1025, 0.00456640076572005), (405, 0.004564807104400544), (2523, 0.004564771044521335), (2994, 0.004564548403233412), (806, 0.004559323811974074), (449, 0.004555934833706528), (2542, 0.004555848596460308), (2042, 0.004550034081498258), (1414, 0.00454804504828233), (2547, 0.004545540393255672), (341, 0.004544810224494058), (1267, 0.00454336662367184), (563, 0.0045419928683653275), (356, 0.004537822526422844), (3120, 0.0045336983630225825), (178, 0.004529460239265763), (326, 0.004529185002739829), (722, 0.0045271770205826765), (400, 0.004522554588397478), (2106, 0.0045211351818921705), (1569, 0.004519854306420487), (3006, 0.004514693657877664), (2499, 0.004510891395615184), (2183, 0.004509579227206714), (962, 0.004506419046535595), (1213, 0.004505466935711242), (1603, 0.004505036407375269), (3132, 0.004504629091201338), (80, 0.0045041698308008905), (2900, 0.004503305516348386), (1133, 0.004502790744827515), (2585, 0.004498236114266363), (977, 0.004497373694413108), (2075, 0.004496534816627254), (3145, 0.004494956581944167), (2774, 0.004492473104489278), (2091, 0.004491355361070698), (2730, 0.004490229904961579), (1513, 0.004488816552257979), (1393, 0.004488087705985673), (923, 0.004486064550543919), (887, 0.0044829868318093), (227, 0.004482592360102673), (1761, 0.004479762253170315), (1239, 0.004477689637536127), (1817, 0.004475614559602803), (2255, 0.004473630702953474), (1635, 0.0044716608379937375), (2225, 0.004471229292985686), (776, 0.004468585199659703), (624, 0.004468140513175521), (2889, 0.004467492160152069), (1152, 0.004464804747033784), (838, 0.004463644083116669), (1007, 0.004463351730574009), (435, 0.00446102564663617), (3086, 0.004457403517149144), (2617, 0.004454228382593471), (1043, 0.004452068895972783), (812, 0.00445162895904244), (2559, 0.00444830781472822), (187, 0.004447310486671963), (378, 0.004445641291425519), (370, 0.0044448071864896035), (1826, 0.004443046125472515), (816, 0.00444102960449905), (1632, 0.0044389881980803035), (2752, 0.004438583583766745), (302, 0.0044354547824587255), (379, 0.0044353532794207395), (1945, 0.00443478916719761), (1438, 0.004434291298404008), (556, 0.004434101376327573), (2982, 0.004433947327361883), (2600, 0.00443005083264324), (2541, 0.0044290347267582734), (2856, 0.004427749143770642), (692, 0.00442732529922204), (1495, 0.004425408679043419), (1568, 0.004423696653521438), (660, 0.0044131015657141535), (1801, 0.004409942287249917), (2670, 0.004404921973123196), (2602, 0.0044031737513512675), (1383, 0.0043937256805550605), (828, 0.0043934188496831195), (620, 0.004389715855299708), (934, 0.004388417474880791), (1203, 0.004388294432119008), (1437, 0.0043862808333724745), (2234, 0.004383159395174604), (1069, 0.004380449956258234), (1016, 0.004377865393252059), (1886, 0.00437705564109933), (2918, 0.0043743408615245), (340, 0.004367881280802899), (2254, 0.004365115794234032), (513, 0.004359442304469089), (2409, 0.004357706168722414), (1181, 0.004357422743870615), (104, 0.004354210395291149), (1206, 0.004350943056390215), (385, 0.004350345358822791), (817, 0.004350262660635121), (2134, 0.004346595150060956), (1644, 0.004342612438123826), (1883, 0.0043424031218594755), (396, 0.004341867553213636), (1884, 0.0043410574571931294), (547, 0.0043404812108722626), (2388, 0.004339689198204143), (3183, 0.004338621293156651), (921, 0.004332874273544429), (2085, 0.004332641356104523), (2808, 0.004332028682662767), (2039, 0.004329561018220807), (2698, 0.004329162559298215), (489, 0.004325642239433382), (2940, 0.004325524527979332), (88, 0.004323720137311991), (1765, 0.004323336085866351), (277, 0.004322879713719159), (1878, 0.004320922291776261), (126, 0.004318690832008334), (309, 0.004317714803098697), (579, 0.004317682801539955), (1839, 0.004317679495207159), (2476, 0.004310303294758276), (2732, 0.0043056043554886665), (2330, 0.004304208824605405), (2176, 0.004304069216568255), (1802, 0.004298333417867328), (1901, 0.0042962179029496965), (619, 0.004292782054139502), (586, 0.004292128248740612), (1370, 0.004285784933472182), (282, 0.004282792603230992), (1823, 0.00427033102372326), (2569, 0.004269127370131418), (2073, 0.004266620189955764), (565, 0.004265715429438624), (2403, 0.004258565682807731), (3173, 0.0042531156107610945), (1656, 0.004249355234279891), (2196, 0.004246642256315446), (473, 0.004234483464974296), (940, 0.004227866201258636), (681, 0.004226969322815435), (2419, 0.004223463114737815), (2527, 0.004222122547039834), (710, 0.004216518460904703), (1477, 0.004210507586541472), (1469, 0.004202077006624918), (1162, 0.004191003138877972), (2111, 0.004190695511436392), (403, 0.00419062459286679), (2120, 0.004187726194586478), (884, 0.004183027484375915), (1303, 0.004180799365250243), (2489, 0.004148501503715564), (3109, 0.004146530309233657), (2583, 0.0041441181726051095), (1171, 0.004127571982816685), (1988, 0.00412588478404057), (938, 0.004121755489292294), (314, 0.004120468324029468), (689, 0.0041164806683489956), (2007, 0.004115821949182239), (2567, 0.0041111709689651485), (1780, 0.004109385370281524), (2609, 0.004096690466864368), (391, 0.004090828343571964), (2715, 0.004082702081741137), (3140, 0.004081721207884321), (2992, 0.004070836036400918), (211, 0.004069702053556225), (1902, 0.004056498233820592), (1641, 0.004054586643028301), (2202, 0.00405380036721382), (1772, 0.004052318887215673), (1507, 0.004045519968196913), (1155, 0.004043699144521699), (3155, 0.004043657321173556), (329, 0.004043383921801004), (1448, 0.004041640409961142), (2137, 0.00404155509122571), (2350, 0.0040414427035307225), (2144, 0.0040403683151581105), (3178, 0.0040389231928360005), (2061, 0.004038647156681703), (85, 0.004036945907333224), (1050, 0.004035147839936798), (3036, 0.00403223992718545), (1106, 0.00401630980131506), (1257, 0.004006123109660576), (432, 0.00400316012430436), (1020, 0.003990855289064946), (1591, 0.003989597135737838), (1403, 0.003978626505677196), (1529, 0.003974176419045112), (645, 0.003970870150643083), (110, 0.003956371644237792), (1187, 0.003951773983475482), (2952, 0.003949264034437284), (871, 0.0039314140011372884), (2787, 0.0039153798366927525), (1408, 0.003913905051454277), (1527, 0.003895989706436554), (3157, 0.003887298545194663), (2948, 0.0038604502075558905), (3146, 0.003852830111950996), (3019, 0.0038479939011414636), (1158, 0.0038471945155407073), (1790, 0.0038135934664662047), (2847, 0.0038117771565229514), (1204, 0.003808246694595713), (815, 0.003806468960231431), (2021, 0.0038029483226084734), (2071, 0.0037931794966418707), (2131, 0.0037893014077271486), (991, 0.0037870968069750035), (2337, 0.0037740538387519068), (1850, 0.0037675853558322746), (673, 0.0037651363064576168), (3156, 0.0037535234000810984), (1480, 0.0037256034965715227), (2510, 0.0037195397063295066), (352, 0.00371249660869874), (2004, 0.0036888853091317625), (2554, 0.00368790919306586), (1062, 0.0036843801537889114), (988, 0.0036457253712262228), (1494, 0.003633919994111699), (3058, 0.0035665668266337135), (2312, 0.0035457790998058543), (327, 0.0035104598724925314), (2498, 0.0034961371735364962), (107, 0.003425066845348681), (2033, 0.0034183332070197095), (2603, 0.003397094109877514), (468, 0.0033558253381551825), (255, 0.0033166923185303), (1332, 0.003275865254240229), (1521, 0.003265936419307404), (3161, 0.003261633856070564), (365, 0.0031045622010690108), (2090, 0.0031043014304155832), (2335, 0.002623233438190511), (2898, 0.0026066251945385606), (1803, 0.0025556581398924845), (637, 0.002525205978236085), (366, 0.002443070385249805), (2313, 0.0024296339416702084), (3015, 0.002401931917490093), (1248, 0.002374526201014579), (2683, 0.002362684282244697), (463, 0.002318813413162852), (2155, 0.0022891123086460317), (313, 0.0022852017877600887), (2057, 0.002283328474555612), (1784, 0.002217273032131098), (2526, 0.0022126078934517276), (945, 0.0022090475775855393), (2281, 0.0021930340503859293), (591, 0.0021810271147869728), (1453, 0.0021713155860539164), (1419, 0.0021696601824226845), (1395, 0.002165738500885265), (291, 0.002152890199647273), (2035, 0.0021485966447346606), (2857, 0.0021468006072878376), (1349, 0.002143698647056468), (472, 0.002143236405317956), (2333, 0.0021192221571795676), (1291, 0.002116862653614102), (2016, 0.0021103744352674184), (447, 0.002105321402663025), (445, 0.002094673269153965), (863, 0.0020593820489581134), (2888, 0.002037471017349651), (2406, 0.002036026277858314), (1718, 0.002029382140215356), (351, 0.0020282838361370013), (2260, 0.002020802738735382), (819, 0.0020094417510451643), (1122, 0.0020057336018120715), (2891, 0.002005688701399759), (3042, 0.001996783513033486), (120, 0.001982013383885407), (1678, 0.0019786209632583554), (156, 0.0019775788988290457), (381, 0.0019626903529692827), (2340, 0.0019594268807162822), (319, 0.0019568150260772586), (3167, 0.0019496881029464877), (1009, 0.0019382310677010968), (2706, 0.001937501649910606), (495, 0.001927547393686129), (847, 0.0019199186564100204), (2757, 0.0019174974555384128), (1405, 0.0019111190581821344), (653, 0.0019102780208294391), (2262, 0.001881913091416639), (1673, 0.0018809269477185865), (2903, 0.0018776623995243164), (3053, 0.0018741587944230236), (2282, 0.0018728982889547627), (621, 0.0018708811453621943), (2006, 0.0018685178926806665), (1022, 0.0018669484106321205), (867, 0.001857601973655963), (1343, 0.0018569000351712278), (677, 0.001850599881040038), (2237, 0.0018417236890096288), (523, 0.0018384296500246688), (656, 0.0018170635684274666), (338, 0.0018036484771888398), (2161, 0.0017865859758085505), (2623, 0.001778929318105808), (851, 0.001754527894778416), (1240, 0.0017539343093712343), (1493, 0.0017398592552941297), (1125, 0.0017340097632167137), (1420, 0.0017115488065607481), (1779, 0.0017009666353541258), (276, 0.0016893243307675714), (1491, 0.001684815882750304), (963, 0.0016802652246920753), (1744, 0.0015290428659733022), (2377, 0.0014996066939964156), (26, 0.0), (226, 0.0), (590, 0.0), (595, 0.0), (638, 0.0), (799, 0.0), (893, 0.0), (956, 0.0), (1045, 0.0), (1119, 0.0), (1277, 0.0), (1373, 0.0), (1468, 0.0), (1559, 0.0), (1666, 0.0), (2029, 0.0), (2052, 0.0), (2199, 0.0), (2232, 0.0), (2435, 0.0), (2442, 0.0), (2447, 0.0), (2539, 0.0), (2639, 0.0), (2834, 0.0), (2939, 0.0), (2969, 0.0)]\n"
          ]
        }
      ],
      "source": [
        "## Step - 7: Get all movies sort based on recommendation score wrt fav movie\n",
        "Sorted_Similar_Movies = sorted(Recommend_Score,key = lambda x:x[1], reverse=True)\n",
        "print(Sorted_Similar_Movies)"
      ]
    },
    {
      "cell_type": "code",
      "execution_count": null,
      "id": "761e6ddc-3c20-4458-8ce4-8ed7b5331b0a",
      "metadata": {
        "id": "761e6ddc-3c20-4458-8ce4-8ed7b5331b0a",
        "outputId": "17bfe472-407a-44ac-f266-02a226231602"
      },
      "outputs": [
        {
          "name": "stdout",
          "output_type": "stream",
          "text": [
            "Top 30 movies suggestes for you: \n",
            "\n",
            "1 ---- Niagara\n",
            "2 ---- Copycat\n",
            "3 ---- Bangkok Dangerous\n",
            "4 ---- Triangle\n",
            "5 ---- On Her Majesty's Secret Service\n",
            "6 ---- The Sentinel\n",
            "7 ---- Valentine\n",
            "8 ---- Chocolate: Deep Dark Secrets\n",
            "9 ---- Racing Stripes\n",
            "10 ---- Old School\n",
            "11 ---- My Date with Drew\n",
            "12 ---- Undercover Brother\n",
            "13 ---- As Good as It Gets\n",
            "14 ---- Real Women Have Curves\n",
            "15 ---- The Brothers Grimm\n",
            "16 ---- What's Love Got to Do with It\n",
            "17 ---- Before Sunrise\n",
            "18 ---- Cradle 2 the Grave\n",
            "19 ---- Brokeback Mountain\n",
            "20 ---- Volver\n",
            "21 ---- Blade II\n",
            "22 ---- The Rose\n",
            "23 ---- Teenage Mutant Ninja Turtles III\n",
            "24 ---- Cry Freedom\n",
            "25 ---- Impostor\n",
            "26 ---- The Princess Bride\n",
            "27 ---- All That Jazz\n",
            "28 ---- The Saint\n",
            "29 ---- Dressed to Kill\n",
            "30 ---- The Fast and the Furious: Tokyo Drift\n"
          ]
        }
      ],
      "source": [
        "# print the name of top 30 similar movies based on index\n",
        "\n",
        "print(\"Top 30 movies suggestes for you: \\n\")\n",
        "i = 1\n",
        "for movie in Sorted_Similar_Movies:\n",
        "    index = movie[0]\n",
        "    title_index = df[df.index==index][\"Movie_Title\"].values[0]\n",
        "    if i< 31:\n",
        "        print(i,'----',title_index)\n",
        "        i+=1"
      ]
    },
    {
      "cell_type": "code",
      "execution_count": null,
      "id": "e3d1e883-ccdb-4428-959f-f459ed8ce1f3",
      "metadata": {
        "id": "e3d1e883-ccdb-4428-959f-f459ed8ce1f3",
        "outputId": "60357b61-518b-4816-c100-bb73011c0e95"
      },
      "outputs": [
        {
          "name": "stdout",
          "output_type": "stream",
          "text": [
            "Top 30 movies suggestes for you: \n",
            "\n",
            "1 ---- Niagara\n",
            "2 ---- Caravans\n",
            "3 ---- Brokeback Mountain\n",
            "4 ---- Night of the Living Dead\n",
            "5 ---- Mad Hot Ballroom\n",
            "6 ---- Some Like It Hot\n",
            "7 ---- The Kentucky Fried Movie\n",
            "8 ---- The Misfits\n",
            "9 ---- Tora! Tora! Tora!\n",
            "10 ---- Superman III\n"
          ]
        }
      ],
      "source": [
        "# print the name of top 10 similar movies based on index\n",
        "\n",
        "print(\"Top 30 movies suggestes for you: \\n\")\n",
        "i = 1\n",
        "for movie in Sorted_Similar_Movies:\n",
        "    index = movie[0]\n",
        "    title_index = df[df.index==index][\"Movie_Title\"].values[0]\n",
        "    if i< 11:\n",
        "        print(i,'----',title_index)\n",
        "        i+=1"
      ]
    },
    {
      "cell_type": "markdown",
      "id": "772155b2-e737-41fc-af3c-9a488cfe23ca",
      "metadata": {
        "id": "772155b2-e737-41fc-af3c-9a488cfe23ca"
      },
      "source": [
        "## Explaination"
      ]
    },
    {
      "cell_type": "markdown",
      "id": "08d249e4-b6a8-4056-ba1f-ee6a3ba30d60",
      "metadata": {
        "id": "08d249e4-b6a8-4056-ba1f-ee6a3ba30d60"
      },
      "source": [
        "This model implements the movie recommendation system using linear regression"
      ]
    }
  ],
  "metadata": {
    "kernelspec": {
      "display_name": "Python 3 (ipykernel)",
      "language": "python",
      "name": "python3"
    },
    "language_info": {
      "codemirror_mode": {
        "name": "ipython",
        "version": 3
      },
      "file_extension": ".py",
      "mimetype": "text/x-python",
      "name": "python",
      "nbconvert_exporter": "python",
      "pygments_lexer": "ipython3",
      "version": "3.12.7"
    },
    "colab": {
      "provenance": []
    }
  },
  "nbformat": 4,
  "nbformat_minor": 5
}